{
 "cells": [
  {
   "cell_type": "code",
   "execution_count": 2,
   "id": "81855d9c",
   "metadata": {},
   "outputs": [],
   "source": [
    "import datetime as dt\n",
    "import sys\n",
    "import numpy as np\n",
    "from numpy import cumsum, log, polyfit, sqrt, std, subtract\n",
    "from numpy.random import randn\n",
    "import pandas as pd\n",
    "# from pandas_datareader import data as web\n",
    "import seaborn as sns\n",
    "from pylab import rcParams \n",
    "import matplotlib.pyplot as plt\n",
    "import matplotlib.cm as cm\n",
    "from arch import arch_model\n",
    "from numpy.linalg import LinAlgError\n",
    "from scipy import stats\n",
    "import statsmodels.api as sm\n",
    "import statsmodels.tsa.api as tsa\n",
    "from statsmodels.graphics.tsaplots import plot_acf, plot_pacf\n",
    "from statsmodels.tsa.stattools import acf, q_stat, adfuller\n",
    "from sklearn.metrics import mean_squared_error, mean_absolute_error\n",
    "from scipy.stats import probplot, moment\n",
    "from arch import arch_model\n",
    "from arch.univariate import ConstantMean, GARCH, Normal\n",
    "from sklearn.model_selection import TimeSeriesSplit\n",
    "\n",
    "from statsmodels.tsa.arima.model import ARIMA\n",
    "from itertools import product\n",
    "from numpy.lib.stride_tricks import sliding_window_view\n",
    "from sklearn.model_selection import train_test_split\n",
    "\n",
    "import tqdm\n",
    "\n",
    "import itertools\n",
    "import json\n",
    "import os\n",
    "import random\n",
    "\n",
    "import warnings"
   ]
  },
  {
   "cell_type": "code",
   "execution_count": 3,
   "id": "d4fd1a0a",
   "metadata": {},
   "outputs": [],
   "source": [
    "from utils import read_txn_data, preprocess_txn_data, compute_lob_features, create_lob_dataset, merge_txn_and_lob"
   ]
  },
  {
   "cell_type": "code",
   "execution_count": 4,
   "id": "faa3ced1",
   "metadata": {},
   "outputs": [],
   "source": [
    "%matplotlib inline\n",
    "pd.set_option('display.max_columns', None)\n",
    "warnings.filterwarnings('ignore')\n",
    "sns.set(style=\"darkgrid\", color_codes=True)\n",
    "rcParams['figure.figsize'] = 8,4"
   ]
  },
  {
   "cell_type": "code",
   "execution_count": 5,
   "id": "1a919d64",
   "metadata": {},
   "outputs": [],
   "source": [
    "import torch\n",
    "from torch.utils.data import Dataset, DataLoader\n",
    "import torch.nn as nn\n",
    "import torch.nn.functional as F"
   ]
  },
  {
   "cell_type": "code",
   "execution_count": 6,
   "id": "10d570f3",
   "metadata": {},
   "outputs": [
    {
     "name": "stdout",
     "output_type": "stream",
     "text": [
      "trx Data loaded successfully.\n",
      "preprocessed lob Data loaded successfully.\n"
     ]
    },
    {
     "data": {
      "text/html": [
       "<div>\n",
       "<style scoped>\n",
       "    .dataframe tbody tr th:only-of-type {\n",
       "        vertical-align: middle;\n",
       "    }\n",
       "\n",
       "    .dataframe tbody tr th {\n",
       "        vertical-align: top;\n",
       "    }\n",
       "\n",
       "    .dataframe thead th {\n",
       "        text-align: right;\n",
       "    }\n",
       "</style>\n",
       "<table border=\"1\" class=\"dataframe\">\n",
       "  <thead>\n",
       "    <tr style=\"text-align: right;\">\n",
       "      <th></th>\n",
       "      <th>datetime</th>\n",
       "      <th>buy_volume</th>\n",
       "      <th>sell_volume</th>\n",
       "      <th>buy_txn</th>\n",
       "      <th>sell_txn</th>\n",
       "      <th>volume_imbalance</th>\n",
       "      <th>txn_imbalance</th>\n",
       "      <th>total_volume</th>\n",
       "      <th>mean_volume</th>\n",
       "      <th>deseasoned_total_volume</th>\n",
       "      <th>log_deseasoned_total_volume</th>\n",
       "      <th>ask_volume</th>\n",
       "      <th>bid_volume</th>\n",
       "      <th>ask_slope_1</th>\n",
       "      <th>ask_slope_5</th>\n",
       "      <th>ask_slope_10</th>\n",
       "      <th>bid_slope_1</th>\n",
       "      <th>bid_slope_5</th>\n",
       "      <th>bid_slope_10</th>\n",
       "      <th>spread</th>\n",
       "      <th>lob_volume_imbalance</th>\n",
       "      <th>slope_imbalance_1</th>\n",
       "      <th>slope_imbalance_5</th>\n",
       "      <th>slope_imbalance_10</th>\n",
       "    </tr>\n",
       "  </thead>\n",
       "  <tbody>\n",
       "    <tr>\n",
       "      <th>5819</th>\n",
       "      <td>2018-06-04 22:00:05+00:00</td>\n",
       "      <td>0.059804</td>\n",
       "      <td>0.730357</td>\n",
       "      <td>5.0</td>\n",
       "      <td>10.0</td>\n",
       "      <td>0.670553</td>\n",
       "      <td>5.0</td>\n",
       "      <td>0.790162</td>\n",
       "      <td>4.380444</td>\n",
       "      <td>0.180384</td>\n",
       "      <td>-1.712667</td>\n",
       "      <td>2695.804973</td>\n",
       "      <td>586356.113693</td>\n",
       "      <td>1761.630667</td>\n",
       "      <td>2695.804973</td>\n",
       "      <td>2695.804973</td>\n",
       "      <td>3.972121</td>\n",
       "      <td>53.502450</td>\n",
       "      <td>160.246934</td>\n",
       "      <td>6.19</td>\n",
       "      <td>583660.308720</td>\n",
       "      <td>1757.658546</td>\n",
       "      <td>2642.302523</td>\n",
       "      <td>2535.558040</td>\n",
       "    </tr>\n",
       "    <tr>\n",
       "      <th>5820</th>\n",
       "      <td>2018-06-04 22:01:05+00:00</td>\n",
       "      <td>0.089359</td>\n",
       "      <td>0.849477</td>\n",
       "      <td>3.0</td>\n",
       "      <td>4.0</td>\n",
       "      <td>0.760118</td>\n",
       "      <td>1.0</td>\n",
       "      <td>0.938836</td>\n",
       "      <td>3.692009</td>\n",
       "      <td>0.254289</td>\n",
       "      <td>-1.369285</td>\n",
       "      <td>2699.165417</td>\n",
       "      <td>586350.938081</td>\n",
       "      <td>1765.312385</td>\n",
       "      <td>2699.165417</td>\n",
       "      <td>2699.165417</td>\n",
       "      <td>4.017044</td>\n",
       "      <td>52.408273</td>\n",
       "      <td>155.071322</td>\n",
       "      <td>4.97</td>\n",
       "      <td>583651.772664</td>\n",
       "      <td>1761.295341</td>\n",
       "      <td>2646.757144</td>\n",
       "      <td>2544.094095</td>\n",
       "    </tr>\n",
       "    <tr>\n",
       "      <th>5821</th>\n",
       "      <td>2018-06-04 22:02:05+00:00</td>\n",
       "      <td>0.313458</td>\n",
       "      <td>0.508952</td>\n",
       "      <td>2.0</td>\n",
       "      <td>4.0</td>\n",
       "      <td>0.195494</td>\n",
       "      <td>2.0</td>\n",
       "      <td>0.822410</td>\n",
       "      <td>3.324900</td>\n",
       "      <td>0.247349</td>\n",
       "      <td>-1.396955</td>\n",
       "      <td>2657.946212</td>\n",
       "      <td>586317.596946</td>\n",
       "      <td>1723.843180</td>\n",
       "      <td>2657.946212</td>\n",
       "      <td>2657.946212</td>\n",
       "      <td>3.831055</td>\n",
       "      <td>46.578294</td>\n",
       "      <td>158.194750</td>\n",
       "      <td>4.90</td>\n",
       "      <td>583659.650734</td>\n",
       "      <td>1720.012125</td>\n",
       "      <td>2611.367918</td>\n",
       "      <td>2499.751462</td>\n",
       "    </tr>\n",
       "    <tr>\n",
       "      <th>5822</th>\n",
       "      <td>2018-06-04 22:03:05+00:00</td>\n",
       "      <td>0.000992</td>\n",
       "      <td>0.199219</td>\n",
       "      <td>1.0</td>\n",
       "      <td>4.0</td>\n",
       "      <td>0.198227</td>\n",
       "      <td>3.0</td>\n",
       "      <td>0.200211</td>\n",
       "      <td>4.128645</td>\n",
       "      <td>0.048493</td>\n",
       "      <td>-3.026331</td>\n",
       "      <td>2650.599402</td>\n",
       "      <td>586308.612876</td>\n",
       "      <td>1718.061157</td>\n",
       "      <td>2650.599402</td>\n",
       "      <td>2650.599402</td>\n",
       "      <td>3.631836</td>\n",
       "      <td>51.036074</td>\n",
       "      <td>160.641345</td>\n",
       "      <td>4.32</td>\n",
       "      <td>583658.013474</td>\n",
       "      <td>1714.429321</td>\n",
       "      <td>2599.563327</td>\n",
       "      <td>2489.958056</td>\n",
       "    </tr>\n",
       "    <tr>\n",
       "      <th>5823</th>\n",
       "      <td>2018-06-04 22:04:05+00:00</td>\n",
       "      <td>0.172042</td>\n",
       "      <td>0.000000</td>\n",
       "      <td>7.0</td>\n",
       "      <td>0.0</td>\n",
       "      <td>0.172042</td>\n",
       "      <td>7.0</td>\n",
       "      <td>0.172042</td>\n",
       "      <td>6.271124</td>\n",
       "      <td>0.027434</td>\n",
       "      <td>-3.595966</td>\n",
       "      <td>2650.082079</td>\n",
       "      <td>586314.173248</td>\n",
       "      <td>1715.979046</td>\n",
       "      <td>2650.082079</td>\n",
       "      <td>2650.082079</td>\n",
       "      <td>3.704804</td>\n",
       "      <td>51.092926</td>\n",
       "      <td>160.489197</td>\n",
       "      <td>4.32</td>\n",
       "      <td>583664.091169</td>\n",
       "      <td>1712.274243</td>\n",
       "      <td>2598.989153</td>\n",
       "      <td>2489.592882</td>\n",
       "    </tr>\n",
       "  </tbody>\n",
       "</table>\n",
       "</div>"
      ],
      "text/plain": [
       "                      datetime  buy_volume  sell_volume  buy_txn  sell_txn  \\\n",
       "5819 2018-06-04 22:00:05+00:00    0.059804     0.730357      5.0      10.0   \n",
       "5820 2018-06-04 22:01:05+00:00    0.089359     0.849477      3.0       4.0   \n",
       "5821 2018-06-04 22:02:05+00:00    0.313458     0.508952      2.0       4.0   \n",
       "5822 2018-06-04 22:03:05+00:00    0.000992     0.199219      1.0       4.0   \n",
       "5823 2018-06-04 22:04:05+00:00    0.172042     0.000000      7.0       0.0   \n",
       "\n",
       "      volume_imbalance  txn_imbalance  total_volume  mean_volume  \\\n",
       "5819          0.670553            5.0      0.790162     4.380444   \n",
       "5820          0.760118            1.0      0.938836     3.692009   \n",
       "5821          0.195494            2.0      0.822410     3.324900   \n",
       "5822          0.198227            3.0      0.200211     4.128645   \n",
       "5823          0.172042            7.0      0.172042     6.271124   \n",
       "\n",
       "      deseasoned_total_volume  log_deseasoned_total_volume   ask_volume  \\\n",
       "5819                 0.180384                    -1.712667  2695.804973   \n",
       "5820                 0.254289                    -1.369285  2699.165417   \n",
       "5821                 0.247349                    -1.396955  2657.946212   \n",
       "5822                 0.048493                    -3.026331  2650.599402   \n",
       "5823                 0.027434                    -3.595966  2650.082079   \n",
       "\n",
       "         bid_volume  ask_slope_1  ask_slope_5  ask_slope_10  bid_slope_1  \\\n",
       "5819  586356.113693  1761.630667  2695.804973   2695.804973     3.972121   \n",
       "5820  586350.938081  1765.312385  2699.165417   2699.165417     4.017044   \n",
       "5821  586317.596946  1723.843180  2657.946212   2657.946212     3.831055   \n",
       "5822  586308.612876  1718.061157  2650.599402   2650.599402     3.631836   \n",
       "5823  586314.173248  1715.979046  2650.082079   2650.082079     3.704804   \n",
       "\n",
       "      bid_slope_5  bid_slope_10  spread  lob_volume_imbalance  \\\n",
       "5819    53.502450    160.246934    6.19         583660.308720   \n",
       "5820    52.408273    155.071322    4.97         583651.772664   \n",
       "5821    46.578294    158.194750    4.90         583659.650734   \n",
       "5822    51.036074    160.641345    4.32         583658.013474   \n",
       "5823    51.092926    160.489197    4.32         583664.091169   \n",
       "\n",
       "      slope_imbalance_1  slope_imbalance_5  slope_imbalance_10  \n",
       "5819        1757.658546        2642.302523         2535.558040  \n",
       "5820        1761.295341        2646.757144         2544.094095  \n",
       "5821        1720.012125        2611.367918         2499.751462  \n",
       "5822        1714.429321        2599.563327         2489.958056  \n",
       "5823        1712.274243        2598.989153         2489.592882  "
      ]
     },
     "execution_count": 6,
     "metadata": {},
     "output_type": "execute_result"
    }
   ],
   "source": [
    "trx_df = read_txn_data(use_load=False)\n",
    "trx_df = preprocess_txn_data(trx_df, freq='1min')\n",
    "trx_df['log_deseasoned_total_volume'] = np.log(trx_df['deseasoned_total_volume'] + 1e-07)\n",
    "\n",
    "lob_df = create_lob_dataset(use_load=False)\n",
    "\n",
    "df_merged = merge_txn_and_lob(trx_df, lob_df)\n",
    "df_merged.head()"
   ]
  },
  {
   "cell_type": "code",
   "execution_count": null,
   "id": "033452ad",
   "metadata": {},
   "outputs": [],
   "source": []
  },
  {
   "cell_type": "markdown",
   "id": "64d3e4a7",
   "metadata": {},
   "source": [
    "## TME implementation"
   ]
  },
  {
   "cell_type": "markdown",
   "id": "60752e98",
   "metadata": {},
   "source": [
    "### Data loaders"
   ]
  },
  {
   "cell_type": "code",
   "execution_count": null,
   "id": "dfc7830d",
   "metadata": {},
   "outputs": [],
   "source": [
    "random.seed(12345)\n",
    "\n",
    "h = 5  # window length\n",
    "batch_size = 128\n",
    "\n",
    "# -----------------------------\n",
    "df = df_merged.sort_values('datetime').reset_index(drop=True)\n",
    "# STEP 1: Create time-of-day feature\n",
    "df['time_of_day'] = df['datetime'].dt.strftime('%H:%M')\n",
    "\n",
    "# -----------------------------\n",
    "# STEP 2: Split indices (AFTER creating lags!)\n",
    "n_total = len(df)\n",
    "n_train = int(0.7 * n_total)\n",
    "n_val = int(0.1 * n_total)\n",
    "\n",
    "# -----------------------------\n",
    "# STEP 3: Create deseasonalizing map using per-time volume means from train only\n",
    "train_deseason_df = df.iloc[:n_train]\n",
    "mean_volume_by_time = train_deseason_df.groupby('time_of_day')['total_volume'].mean()\n",
    "df['mean_volume'] = df['time_of_day'].map(mean_volume_by_time)\n",
    "\n",
    "df['deseasoned_total_volume'] = df['total_volume'] / df['mean_volume']\n",
    "df['log_deseasoned_total_volume'] = np.log(df['deseasoned_total_volume'] + 1e-7)\n",
    "df['target'] = df['deseasoned_total_volume']\n",
    "\n",
    "del train_deseason_df\n",
    "\n",
    "# -----------------------------\n",
    "# STEP 4: Define the source-specific features\n",
    "source1_cols = ['buy_volume', 'sell_volume', 'buy_txn', 'sell_txn', 'volume_imbalance', 'txn_imbalance']\n",
    "source2_cols = ['ask_volume', 'bid_volume', 'ask_slope_1', 'ask_slope_5', 'ask_slope_10', 'bid_slope_1', 'bid_slope_5', 'bid_slope_10', 'spread',\n",
    "       'lob_volume_imbalance', 'slope_imbalance_1', 'slope_imbalance_5', 'slope_imbalance_10']\n",
    "# target_col = 'log_deseasoned_total_volume'\n",
    "target_col = 'target'\n",
    "target_direct_col = 'total_volume'\n",
    "weight_col = 'mean_volume'\n",
    "datetime_col = 'datetime'\n",
    "\n",
    "# # Normalize source1 and source2 features using training data only\n",
    "from sklearn.preprocessing import StandardScaler\n",
    "\n",
    "scaler1 = StandardScaler()\n",
    "scaler2 = StandardScaler()\n",
    "\n",
    "# Fit only on training portion\n",
    "source1_train_raw = df[source1_cols].iloc[:n_train]\n",
    "source2_train_raw = df[source2_cols].iloc[:n_train]\n",
    "\n",
    "scaler1.fit(source1_train_raw)\n",
    "scaler2.fit(source2_train_raw)\n",
    "\n",
    "# Apply normalization to the whole dataset\n",
    "df[source1_cols] = scaler1.transform(df[source1_cols])\n",
    "df[source2_cols] = scaler2.transform(df[source2_cols])\n",
    "\n",
    "\n",
    "# --- Create rolling windows efficiently ---\n",
    "source1_array = df[source1_cols].values  # shape (N, F1)\n",
    "source2_array = df[source2_cols].values  # shape (N, F2)\n",
    "target_array = df[target_col].values + 1e-7  # shape (N,)\n",
    "target_direct_array = df[target_direct_col].values + 1e-7  # shape (N,)\n",
    "weight_array = df[weight_col].values  # shape (N,)\n",
    "timestamps_array = df[datetime_col].values\n",
    "\n",
    "\n",
    "# Create sliding windows ([:-1] in windows and [h:] in targets make sure the targets are matched with corresponding features)\n",
    "source1_windows = sliding_window_view(source1_array, window_shape=(h,), axis=0)[:-1]  # shape (N - h, F1, h)\n",
    "source2_windows = sliding_window_view(source2_array, window_shape=(h,), axis=0)[:-1]  # shape (N - h, F2, h)\n",
    "y = target_array[h:]\n",
    "w = weight_array[h:]\n",
    "timestamps = timestamps_array[h:]\n",
    "\n",
    "# Convert to tensors\n",
    "source1_tensor = torch.tensor(source1_windows, dtype=torch.float32)\n",
    "source2_tensor = torch.tensor(source2_windows, dtype=torch.float32)\n",
    "y_tensor = torch.tensor(y, dtype=torch.float32)\n",
    "w_tensor = torch.tensor(w, dtype=torch.float32)\n",
    "\n",
    "# --- Time-based split (preserving time order) ---\n",
    "n_total = len(y_tensor)\n",
    "n_train = int(n_total * 0.7)\n",
    "n_val = int(n_total * 0.1)\n",
    "\n",
    "source1_train, source1_val, source1_test = source1_tensor[:n_train], source1_tensor[n_train:n_train + n_val], source1_tensor[n_train + n_val:]\n",
    "source2_train, source2_val, source2_test = source2_tensor[:n_train], source2_tensor[n_train:n_train + n_val], source2_tensor[n_train + n_val:]\n",
    "y_train, y_val, y_test = y_tensor[:n_train], y_tensor[n_train:n_train + n_val], y_tensor[n_train + n_val:]\n",
    "w_train, w_val, w_test = w_tensor[:n_train], w_tensor[n_train:n_train + n_val], w_tensor[n_train + n_val:]\n",
    "\n",
    "# (Optional) timestamps split for tracking\n",
    "timestamps_train = timestamps[:n_train]\n",
    "timestamps_val = timestamps[n_train:n_train + n_val]\n",
    "timestamps_test = timestamps[n_train + n_val:]\n",
    "\n",
    "# Dataset ready for PyTorch training\n",
    "train_dataset = torch.utils.data.TensorDataset(source1_train, source2_train, y_train, w_train)\n",
    "val_dataset = torch.utils.data.TensorDataset(source1_val, source2_val, y_val, w_val)\n",
    "test_dataset = torch.utils.data.TensorDataset(source1_test, source2_test, y_test, w_test)\n",
    "\n",
    "train_loader = torch.utils.data.DataLoader(train_dataset, batch_size=batch_size, shuffle=True)\n",
    "val_loader = torch.utils.data.DataLoader(val_dataset, batch_size=batch_size, shuffle=False)\n",
    "test_loader = torch.utils.data.DataLoader(test_dataset, batch_size=batch_size, shuffle=False)\n",
    "\n",
    "## function for dataset creation for hyperparams search\n",
    "def create_datasets(source1_array, source2_array, target_array, weight_array, batch_size, h):\n",
    "       # Create sliding windows ([:-1] in windows and [h:] in targets make sure the targets are matched with corresponding features)\n",
    "       source1_windows = sliding_window_view(source1_array, window_shape=(h,), axis=0)[:-1]  # shape (N - h, F1, h)\n",
    "       source2_windows = sliding_window_view(source2_array, window_shape=(h,), axis=0)[:-1]  # shape (N - h, F2, h)\n",
    "       y = target_array[h:]\n",
    "       w = weight_array[h:]\n",
    "\n",
    "       # Convert to tensors\n",
    "       source1_tensor = torch.tensor(source1_windows, dtype=torch.float32)\n",
    "       source2_tensor = torch.tensor(source2_windows, dtype=torch.float32)\n",
    "       y_tensor = torch.tensor(y, dtype=torch.float32)\n",
    "       w_tensor = torch.tensor(w, dtype=torch.float32)\n",
    "\n",
    "       # --- Time-based split (preserving time order) ---\n",
    "       n_total = len(y_tensor)\n",
    "       n_train = int(n_total * 0.7)\n",
    "       n_val = int(n_total * 0.1)\n",
    "\n",
    "       source1_train, source1_val, source1_test = source1_tensor[:n_train], source1_tensor[n_train:n_train + n_val], source1_tensor[n_train + n_val:]\n",
    "       source2_train, source2_val, source2_test = source2_tensor[:n_train], source2_tensor[n_train:n_train + n_val], source2_tensor[n_train + n_val:]\n",
    "       y_train, y_val, y_test = y_tensor[:n_train], y_tensor[n_train:n_train + n_val], y_tensor[n_train + n_val:]\n",
    "       w_train, w_val, w_test = w_tensor[:n_train], w_tensor[n_train:n_train + n_val], w_tensor[n_train + n_val:]\n",
    "\n",
    "       # Dataset ready for PyTorch training\n",
    "       train_dataset = torch.utils.data.TensorDataset(source1_train, source2_train, y_train, w_train)\n",
    "       val_dataset = torch.utils.data.TensorDataset(source1_val, source2_val, y_val, w_val)\n",
    "       test_dataset = torch.utils.data.TensorDataset(source1_test, source2_test, y_test, w_test)\n",
    "\n",
    "       train_loader = torch.utils.data.DataLoader(train_dataset, batch_size=batch_size, shuffle=True)\n",
    "       val_loader = torch.utils.data.DataLoader(val_dataset, batch_size=batch_size, shuffle=False)\n",
    "       test_loader = torch.utils.data.DataLoader(test_dataset, batch_size=batch_size, shuffle=False)\n",
    "\n",
    "       return train_loader, val_loader, test_loader\n"
   ]
  },
  {
   "cell_type": "markdown",
   "id": "8d6670de",
   "metadata": {},
   "source": [
    "### TME components "
   ]
  },
  {
   "cell_type": "code",
   "execution_count": 65,
   "id": "023c188a",
   "metadata": {},
   "outputs": [],
   "source": [
    "class BilinearRegressor(nn.Module):\n",
    "    def __init__(self, d, h, latent_variable):\n",
    "        \"\"\"\n",
    "        d: number of features in the source data\n",
    "        h: number of lags in the source data\n",
    "        latent_variable (bool): if True the class is devoted for modeling latent variable z, if False => y|s_i\n",
    "        \"\"\"\n",
    "        super().__init__()\n",
    "        self.latent_variable = latent_variable\n",
    "\n",
    "        # Mean parameters\n",
    "        self.L_mu = nn.Parameter(torch.empty(d))\n",
    "        self.R_mu = nn.Parameter(torch.empty(h))\n",
    "        self.b_mu = nn.Parameter(torch.zeros(1))\n",
    "\n",
    "        # Xavier init for 1D weight tensors\n",
    "        # nn.init.xavier_uniform_(self.L_mu.unsqueeze(0))\n",
    "        # nn.init.xavier_uniform_(self.R_mu.unsqueeze(0))\n",
    "\n",
    "        nn.init.xavier_normal_(self.L_mu.unsqueeze(0))\n",
    "        nn.init.xavier_normal_(self.R_mu.unsqueeze(0))\n",
    "\n",
    "        if not self.latent_variable:\n",
    "            self.L_sigma = nn.Parameter(torch.empty(d))\n",
    "            self.R_sigma = nn.Parameter(torch.empty(h))\n",
    "            self.b_sigma = nn.Parameter(torch.zeros(1))\n",
    "\n",
    "            # nn.init.xavier_uniform_(self.L_sigma.unsqueeze(0))\n",
    "            # nn.init.xavier_uniform_(self.R_sigma.unsqueeze(0))\n",
    "\n",
    "            nn.init.xavier_normal_(self.L_sigma.unsqueeze(0))\n",
    "            nn.init.xavier_normal_(self.R_sigma.unsqueeze(0))\n",
    "\n",
    "    def forward(self, x):  # x: (B, d, h)\n",
    "        mu = torch.einsum('bdh,d,h->b', x, self.L_mu, self.R_mu) + self.b_mu  # [B]\n",
    "        if self.latent_variable:\n",
    "            return mu\n",
    "        log_var = torch.einsum('bdh,d,h->b', x, self.L_sigma, self.R_sigma) + self.b_sigma\n",
    "        log_var = torch.clamp(log_var, min=-10, max=10)\n",
    "        var = torch.exp(log_var)  # Ensure positivity\n",
    "        return mu, var\n",
    "    \n",
    "\n",
    "class TME(nn.Module):\n",
    "    def __init__(self, d1, d2, h):\n",
    "        super().__init__()\n",
    "        self.target1 = BilinearRegressor(d1, h, latent_variable=False)\n",
    "        self.target2 = BilinearRegressor(d2, h, latent_variable=False)\n",
    "        self.latent1 = BilinearRegressor(d1, h, latent_variable=True)\n",
    "        self.latent2 = BilinearRegressor(d2, h, latent_variable=True)\n",
    "\n",
    "    def forward(self, x1, x2, return_all=False):\n",
    "        # x1: (B, d1, h), x2: (B, d2, h)\n",
    "        mu1, var1 = self.target1(x1)  # [B], [B]\n",
    "        mu2, var2 = self.target2(x2)\n",
    "\n",
    "        logit1 = self.latent1(x1)\n",
    "        logit2 = self.latent2(x2)\n",
    "\n",
    "        logits = torch.stack([logit1, logit2], dim=1)  # [B, num_sources]\n",
    "        probs = F.softmax(logits, dim=1)     # [B, num_sources]\n",
    "\n",
    "        \n",
    "        # Clamp to avoid numerical instability\n",
    "        mu1 = torch.clamp(mu1, -20, 20)\n",
    "        mu2 = torch.clamp(mu2, -20, 20)\n",
    "        var1 = torch.clamp(var1, min=1e-5, max=20)\n",
    "        var2 = torch.clamp(var2, min=1e-5, max=20)\n",
    "\n",
    "        # Mixture of expected values under log-normal\n",
    "        exp1 = torch.exp(mu1 + 0.5 * var1)\n",
    "        exp2 = torch.exp(mu2 + 0.5 * var2)\n",
    "        final_pred = probs[:, 0] * exp1 + probs[:, 1] * exp2  # [B]\n",
    "\n",
    "        var1_lognormal = torch.exp(2*mu1 + var1) * (torch.exp(var1) - 1)\n",
    "        var2_lognormal = torch.exp(2*mu2 + var2) * (torch.exp(var2) - 1)\n",
    "        aleatoric_var = probs[:, 0] * var1_lognormal + probs[:, 1] * var2_lognormal  # [B]\n",
    "        epistemic_var = probs[:, 0] * torch.square(exp1) + probs[:, 1] * torch.square(exp2)  # [B]\n",
    "\n",
    "        if return_all:\n",
    "            return final_pred, aleatoric_var, epistemic_var, mu1, var1, mu2, var2, probs\n",
    "        return final_pred\n",
    "\n",
    "\n",
    "def tme_loss(y, mu1, var1, mu2, var2, probs, model, l2_lambda=0.1):\n",
    "    \"\"\"\n",
    "    Implements:\n",
    "        -ln ∑_s [ lognormal(y_t | μ_s, σ_s^2) * P(z_t = s | x) ] + λ * ||θ||^2\n",
    "    \"\"\"\n",
    "\n",
    "    eps = 1e-8  # for numerical stability\n",
    "    log_y = torch.log(y)# + eps)\n",
    "\n",
    "    # Log-normal density terms (not in log-space)\n",
    "    def lognormal_pdf(y, log_y, mu, var):\n",
    "        coef = 1.0 / (y * torch.sqrt(2 * torch.pi * var))# + eps))\n",
    "        exponent = torch.exp(- (log_y - mu) ** 2 / (2 * var))# + eps))\n",
    "        return coef * exponent\n",
    "\n",
    "    p1 = lognormal_pdf(y, log_y, mu1, var1)\n",
    "    p2 = lognormal_pdf(y, log_y, mu2, var2)\n",
    "\n",
    "    # Combine with selector probabilities\n",
    "    # print(probs[:,1])\n",
    "    weighted_sum = probs[:,0] * p1 + probs[:,1] * p2\n",
    "\n",
    "    # Negative log-likelihood (mean over batch)\n",
    "    nll = -torch.log(weighted_sum + eps).mean() #maybe mean or sum\n",
    "\n",
    "    # L2 Regularization (Gaussian prior on θ)\n",
    "    l2_penalty = sum((p**2).sum() for p in model.parameters())\n",
    "    reg = l2_lambda * l2_penalty\n",
    "\n",
    "    return nll + reg\n",
    "\n",
    "\n",
    "def train_tme_model(model, train_loader, val_loader, lr=5e-4, weight_decay=0.1, l2_lambda=0.1,\n",
    "                    max_epochs=100, patience=10, device='cpu', adam=False, direct_target=False, stop_criteria='RMSE', output_everything=False):\n",
    "    model.to(device)\n",
    "    # optimizer = torch.optim.Adam(model.parameters(), lr=lr, weight_decay=weight_decay)\n",
    "    # optimizer = torch.optim.Adam(model.parameters(), lr=5e-4, weight_decay=1e-4)\n",
    "    # optimizer = torch.optim.SGD(model.parameters(), lr=lr)#, weight_decay=0.1)#, momentum=0.9)\n",
    "    if adam:\n",
    "        optimizer = torch.optim.Adam(model.parameters(), lr=lr)\n",
    "    else:\n",
    "        optimizer = torch.optim.SGD(model.parameters(), lr=lr)\n",
    "\n",
    "\n",
    "\n",
    "    best_val_loss = float('inf')\n",
    "    best_val_rmse = float('inf')\n",
    "    best_state_dict = None\n",
    "    best_epoch = -1\n",
    "    patience_counter = 0\n",
    "\n",
    "    all_state_dicts = []  # Store model states\n",
    "    all_train_losses = []  # Per-epoch train loss\n",
    "    all_val_losses = []  # Per-epoch val loss\n",
    "    \n",
    "    for epoch in range(max_epochs):\n",
    "        model.train()\n",
    "\n",
    "        for x1, x2, y, w in train_loader:\n",
    "            x1, x2, y, w = x1.to(device), x2.to(device), y.to(device), w.to(device)\n",
    "\n",
    "            optimizer.zero_grad()\n",
    "\n",
    "            final_pred, aleatoric_var, epistemic_var, mu1, var1, mu2, var2, probs = model(x1, x2, return_all=True)\n",
    "\n",
    "            loss = tme_loss(y, mu1, var1, mu2, var2, probs, model, l2_lambda=l2_lambda)\n",
    "            loss.backward()\n",
    "\n",
    "            # total_norm = 0\n",
    "            # for p in model.parameters():\n",
    "            #     if p.grad is not None:\n",
    "            #         param_norm = p.grad.data.norm(2)\n",
    "            #         total_norm += param_norm.item() ** 2\n",
    "            # total_norm = total_norm ** 0.5\n",
    "            # print(f\"Gradient norm: {total_norm:.4f}\")\n",
    "\n",
    "            # torch.nn.utils.clip_grad_norm_(model.parameters(), max_norm=10.0)\n",
    "            optimizer.step()\n",
    "\n",
    "        # Validation loss\n",
    "        model.eval()\n",
    "        val_losses = []\n",
    "        y_preds_val = []\n",
    "        y_true_val = []\n",
    "        w_val = []\n",
    "\n",
    "        train_losses = []\n",
    "        y_preds_train = []\n",
    "        y_true_train = []\n",
    "        w_train = []\n",
    "\n",
    "        with torch.no_grad():\n",
    "            for x1, x2, y, w in val_loader:\n",
    "                x1, x2, y, w = x1.to(device), x2.to(device), y.to(device), w.to(device)\n",
    "\n",
    "                final_pred, aleatoric_var, epistemic_var, mu1, var1, mu2, var2, probs = model(x1, x2, return_all=True)\n",
    "\n",
    "                val_loss = tme_loss(y, mu1, var1, mu2, var2, probs, model, l2_lambda=l2_lambda)\n",
    "                val_losses.append(val_loss.item())\n",
    "                y_preds_val.append(final_pred.detach().cpu())\n",
    "                y_true_val.append(y.detach().cpu())\n",
    "                w_val.append(w.detach().cpu())\n",
    "\n",
    "            for x1, x2, y, w in train_loader:\n",
    "                x1, x2, y, w = x1.to(device), x2.to(device), y.to(device), w.to(device)\n",
    "\n",
    "                final_pred, aleatoric_var, epistemic_var, mu1, var1, mu2, var2, probs = model(x1, x2, return_all=True)\n",
    "\n",
    "                train_loss = tme_loss(y, mu1, var1, mu2, var2, probs, model, l2_lambda=l2_lambda)\n",
    "                train_losses.append(train_loss.item())\n",
    "                y_preds_train.append(final_pred.detach().cpu())\n",
    "                y_true_train.append(y.detach().cpu())\n",
    "                w_train.append(w.detach().cpu())\n",
    "            \n",
    "\n",
    "        avg_val_loss = sum(val_losses) / len(val_losses)\n",
    "        y_preds_val = torch.cat(y_preds_val).numpy()\n",
    "        y_true_val = torch.cat(y_true_val).numpy()\n",
    "        w_val = torch.cat(w_val).numpy()\n",
    "        if direct_target:\n",
    "            rmse_val = np.sqrt(mean_squared_error(y_true_val, y_preds_val))\n",
    "        else:\n",
    "            rmse_val = np.sqrt(mean_squared_error(y_true_val*w_val, y_preds_val*w_val))\n",
    "\n",
    "        avg_train_loss = sum(train_losses) / len(train_losses)\n",
    "        y_preds_train = torch.cat(y_preds_train).numpy()\n",
    "        y_true_train = torch.cat(y_true_train).numpy()\n",
    "        w_train = torch.cat(w_train).numpy()\n",
    "        if direct_target:\n",
    "            rmse_train = np.sqrt(mean_squared_error(y_true_train, y_preds_train))\n",
    "        else:    \n",
    "            rmse_train = np.sqrt(mean_squared_error(y_true_train*w_train, y_preds_train*w_train))\n",
    "\n",
    "\n",
    "        all_train_losses.append(avg_train_loss)\n",
    "        all_val_losses.append(avg_val_loss)\n",
    "\n",
    "        if output_everything:\n",
    "            all_state_dicts.append(model.state_dict())  # Save a copy of model state at each epoch\n",
    "\n",
    "        if (epoch+1) % 5 == 0 or epoch == 0:\n",
    "            print(f\"Epoch {epoch+1}.      Train Loss: {avg_train_loss:.4f}, Val Loss: {avg_val_loss:.4f}.      Train RMSE: {rmse_train:.4f}, Val RMSE: {rmse_val:.4f}\")\n",
    "\n",
    "        # Early stopping\n",
    "        if (stop_criteria=='RMSE'):\n",
    "            criteria = rmse_val < best_val_rmse - 1e-2\n",
    "        else:\n",
    "            criteria = avg_val_loss < best_val_loss - 1e-2\n",
    "        \n",
    "        if criteria:\n",
    "            best_val_loss = avg_val_loss\n",
    "            best_val_rmse = rmse_val\n",
    "            best_state_dict = model.state_dict()\n",
    "            best_epoch = epoch\n",
    "            patience_counter = 0\n",
    "        else:\n",
    "            patience_counter += 1\n",
    "            if patience_counter >= patience:\n",
    "                print(\"Early stopping triggered.\")\n",
    "                break\n",
    "\n",
    "    # Restore best model\n",
    "    model.load_state_dict(best_state_dict)\n",
    "\n",
    "    if output_everything:\n",
    "        # Save models from [best_epoch-3, best_epoch] onward\n",
    "        start_idx = max(0, best_epoch - 3)\n",
    "        selected_models = all_state_dicts[start_idx:]\n",
    "        return model, best_val_loss, {\n",
    "            'all_train_losses': all_train_losses,\n",
    "            'all_val_losses': all_val_losses,\n",
    "            'selected_model_states': selected_models,\n",
    "            'best_epoch': best_epoch\n",
    "        }\n",
    "    else:\n",
    "        return model, best_val_loss, {}\n",
    "\n",
    "\n",
    "def train_tme_ensemble(train_loader, val_loader, d1, d2, h, num_models=20, device='cpu', adam=False, direct_target=False, output_everything=False, **train_kwargs):\n",
    "    ensemble = []\n",
    "    val_losses = []\n",
    "    all_train_losses = {}\n",
    "    all_val_losses = {}\n",
    "\n",
    "    # Generate 5 large random seeds (e.g., 32-bit)\n",
    "    seeds = [random.randint(1, 2**31 - 1) for _ in range(num_models)]\n",
    "\n",
    "    for i, seed in enumerate(seeds):\n",
    "        print(f\"\\n🌱 Training ensemble model {i + 1}/{num_models}\")\n",
    "        print(f\"Model {i+1} initialized with seed: {seed}\")\n",
    "\n",
    "        # Set seed for reproducibility\n",
    "        torch.manual_seed(seed)\n",
    "        model = TME(d1, d2, h)  # Initialize new model\n",
    "\n",
    "        # Train the model using your function\n",
    "        trained_model, best_val_loss, model_results = train_tme_model(\n",
    "            model=model,\n",
    "            train_loader=train_loader,\n",
    "            val_loader=val_loader,\n",
    "            device=device,\n",
    "            adam=adam,\n",
    "            direct_target=direct_target,\n",
    "            output_everything=output_everything,\n",
    "            **train_kwargs\n",
    "        )\n",
    "\n",
    "        if output_everything:\n",
    "            for selected_model in model_results['selected_model_states']:\n",
    "                trained_model.load_state_dict(selected_model)\n",
    "                ensemble.append(trained_model)\n",
    "            # ensemble = ensemble + [trained_model.load_state_dict(selected_model) for selected_model in model_results['selected_model_states']]\n",
    "            all_train_losses[i] = model_results['all_train_losses']\n",
    "            all_val_losses[i] = model_results['all_val_losses']\n",
    "            val_losses.append(best_val_loss)\n",
    "        else:\n",
    "            # Save the model and its validation loss\n",
    "            ensemble.append(trained_model)\n",
    "            val_losses.append(best_val_loss)\n",
    "\n",
    "    return ensemble, val_losses, all_train_losses, all_val_losses\n",
    "\n",
    "\n",
    "# def evaluate_tme_ensemble(ensemble, test_loader, all_preds=False, device='cpu', direct_target=False, output_everything=False):\n",
    "#     all_preds = []\n",
    "#     all_preds_median = []\n",
    "#     y_trues = []\n",
    "#     w_trues = []\n",
    "\n",
    "#     with torch.no_grad():\n",
    "#         for x1, x2, y, w in test_loader:\n",
    "#             x1, x2, y, w = x1.to(device).to(torch.float64), x2.to(device).to(torch.float64), y.to(device).to(torch.float64), w.to(device).to(torch.float64)\n",
    "#             batch_preds = []\n",
    "#             batch_aleatoric = []\n",
    "#             batch_epistemic = []\n",
    "\n",
    "#             for model in ensemble:\n",
    "#                 model.eval()\n",
    "#                 model.to(device).to(torch.float64)\n",
    "#                 if output_everything:\n",
    "#                     final_pred, aleatoric_var, epistemic_var, mu1, var1, mu2, var2, probs = model(x1, x2, return_all=True)\n",
    "#                     batch_aleatoric.append(aleatoric_var.cpu())\n",
    "#                     batch_epistemic.append(epistemic_var.cpu())\n",
    "#                 else:\n",
    "#                     final_pred = model(x1, x2)\n",
    "\n",
    "#                 batch_preds.append(final_pred.cpu())\n",
    "                \n",
    "\n",
    "#             # Average predictions from all models\n",
    "#             avg_pred = torch.stack(batch_preds).mean(dim=0)\n",
    "#             median_pred = torch.stack(batch_preds).median(dim=0).values\n",
    "#             all_preds.append(avg_pred)\n",
    "#             all_preds_median.append(median_pred)\n",
    "#             y_trues.append(y.cpu())\n",
    "#             w_trues.append(w.cpu())\n",
    "\n",
    "#     y_preds = torch.cat(all_preds).numpy()\n",
    "#     y_preds_median = torch.cat(all_preds_median).numpy()\n",
    "#     y_trues = torch.cat(y_trues).numpy()\n",
    "#     w_trues = torch.cat(w_trues).numpy()\n",
    "\n",
    "#     if direct_target:\n",
    "#         rmse = np.sqrt(mean_squared_error(y_trues, y_preds))\n",
    "#         mae = mean_absolute_error(y_trues, y_preds)\n",
    "#     else:\n",
    "#         rmse = np.sqrt(mean_squared_error(y_trues*w_trues, y_preds*w_trues))\n",
    "#         mae = mean_absolute_error(y_trues*w_trues, y_preds*w_trues)\n",
    "\n",
    "#     # print(f\"📊 Ensemble Test RMSE: {rmse:.4f}\")\n",
    "#     # print(f\"📊 Ensemble Test MAE: {mae:.4f}\")\n",
    "#     return y_preds, y_preds_median, rmse, mae\n",
    "\n",
    "\n",
    "def evaluate_tme_ensemble(ensemble, test_loader, all_preds=False, device='cpu', direct_target=False, output_everything=False):\n",
    "    all_preds_mean = []\n",
    "    all_preds_median = []\n",
    "    y_trues = []\n",
    "    w_trues = []\n",
    "\n",
    "    if output_everything:\n",
    "        all_model_preds = []       # Shape: (num_models, N)\n",
    "        all_epistemic_vars = []    # Shape: (num_models, N)\n",
    "        all_aleatoric_vars = []    # Shape: (num_models, N)\n",
    "\n",
    "    with torch.no_grad():\n",
    "        for x1, x2, y, w in test_loader:\n",
    "            x1, x2 = x1.to(device).to(torch.float64), x2.to(device).to(torch.float64)\n",
    "            y, w = y.to(device).to(torch.float64), w.to(device).to(torch.float64)\n",
    "\n",
    "            batch_preds = []\n",
    "            batch_aleatoric = []\n",
    "            batch_epistemic = []\n",
    "\n",
    "            for model in ensemble:\n",
    "                model.eval()\n",
    "                model.to(device).to(torch.float64)\n",
    "\n",
    "                if output_everything:\n",
    "                    final_pred, aleatoric_var, epistemic_var, *_ = model(x1, x2, return_all=True)\n",
    "                    batch_preds.append(final_pred.cpu())\n",
    "                    batch_aleatoric.append(aleatoric_var.cpu())\n",
    "                    batch_epistemic.append(epistemic_var.cpu())\n",
    "                else:\n",
    "                    final_pred = model(x1, x2)\n",
    "                    batch_preds.append(final_pred.cpu())\n",
    "\n",
    "            preds_stack = torch.stack(batch_preds)  # (num_models, batch_size)\n",
    "            avg_pred = preds_stack.mean(dim=0)       # (batch_size,)\n",
    "            median_pred = preds_stack.median(dim=0).values  # (batch_size,)\n",
    "\n",
    "            all_preds_mean.append(avg_pred)\n",
    "            all_preds_median.append(median_pred)\n",
    "            y_trues.append(y.cpu())\n",
    "            w_trues.append(w.cpu())\n",
    "\n",
    "            if output_everything:\n",
    "                all_model_preds.append(preds_stack.T)                  # (batch_size, num_models)\n",
    "                all_epistemic_vars.append(torch.stack(batch_epistemic).T)\n",
    "                all_aleatoric_vars.append(torch.stack(batch_aleatoric).T)\n",
    "\n",
    "    # Concatenate across batches\n",
    "    y_preds_mean = torch.cat(all_preds_mean).numpy()\n",
    "    y_preds_median = torch.cat(all_preds_median).numpy()\n",
    "    y_trues = torch.cat(y_trues).numpy()\n",
    "    w_trues = torch.cat(w_trues).numpy()\n",
    "\n",
    "    if direct_target:\n",
    "        rmse = np.sqrt(mean_squared_error(y_trues, y_preds_mean))\n",
    "        mae = mean_absolute_error(y_trues, y_preds_mean)\n",
    "    else:\n",
    "        rmse = np.sqrt(mean_squared_error(y_trues * w_trues, y_preds_mean * w_trues))\n",
    "        mae = mean_absolute_error(y_trues * w_trues, y_preds_mean * w_trues)\n",
    "\n",
    "    if output_everything:\n",
    "        y_preds = torch.cat(all_model_preds, dim=0)           # (N, num_models)\n",
    "        epistemic_var = torch.cat(all_epistemic_vars, dim=0)  # (N, num_models)\n",
    "        aleatoric_var = torch.cat(all_aleatoric_vars, dim=0)  # (N, num_models)\n",
    "\n",
    "        return {\n",
    "            'y_trues': y_trues,\n",
    "            'y_preds': y_preds,\n",
    "            'epistemic_var': epistemic_var,\n",
    "            'aleatoric_var': aleatoric_var,\n",
    "            'rmse': rmse,\n",
    "            'mae': mae\n",
    "        }\n",
    "\n",
    "    return {\"y_preds_mean\":y_preds_mean, \"y_preds_median\":y_preds_median, \"rmse\":rmse, \"mae\":mae}\n"
   ]
  },
  {
   "cell_type": "code",
   "execution_count": 68,
   "id": "5ccd7cb0",
   "metadata": {},
   "outputs": [
    {
     "name": "stdout",
     "output_type": "stream",
     "text": [
      "\n",
      "📊 h: 10, batch_size:256, lr: 0.001, l2_lambda:5\n",
      "\n",
      "🌱 Training ensemble model 1/1\n",
      "Epoch 1.      Train Loss: 29.4278, Val Loss: 30.4283.      Train RMSE: 11562.0375, Val RMSE: 32.7399\n",
      "Epoch 5.      Train Loss: 3.4841, Val Loss: 4.5213.      Train RMSE: 16.9248, Val RMSE: 14.5841\n",
      "Epoch 10.      Train Loss: 3.4584, Val Loss: 4.4958.      Train RMSE: 16.9252, Val RMSE: 14.5844\n",
      "Early stopping triggered.\n"
     ]
    }
   ],
   "source": [
    "h, batch_size, lr, l2_lambda = 10, 256, 1e-3, 5\n",
    "\n",
    "d1=source1_tensor.shape[1]  # number of features of the 1st source\n",
    "d2=source2_tensor.shape[1]  # number of features of the 2nd source\n",
    "\n",
    "device = 'cuda' if torch.cuda.is_available() else 'cpu'\n",
    "\n",
    "\n",
    "train_loader, val_loader, test_loader = create_datasets(source1_array, source2_array, target_direct_array, weight_array, batch_size, h)\n",
    "\n",
    "print(f\"\\n📊 h: {h}, batch_size:{batch_size}, lr: {lr}, l2_lambda:{l2_lambda}\")\n",
    "\n",
    "ensemble, losses = train_tme_ensemble(\n",
    "    train_loader=train_loader,\n",
    "    val_loader=val_loader,\n",
    "    d1=d1,  # number of features of the 1st source\n",
    "    d2=d2,  # number of features of the 2nd source\n",
    "    h=h,  # lag length\n",
    "    num_models=1,#20,\n",
    "    device=device,\n",
    "    lr=lr,\n",
    "    weight_decay=0.1,\n",
    "    l2_lambda=l2_lambda,\n",
    "    max_epochs=100,\n",
    "    patience=7,\n",
    "    adam=True,\n",
    "    direct_target=True,\n",
    "    stop_criteria='RMSE'\n",
    ")"
   ]
  },
  {
   "cell_type": "code",
   "execution_count": null,
   "id": "a2709075",
   "metadata": {},
   "outputs": [],
   "source": [
    "def evaluate_tme_ensemble(ensemble, test_loader, all_preds=False, device='cpu', direct_target=False):\n",
    "    all_preds = []\n",
    "    all_preds_median = []\n",
    "    y_trues = []\n",
    "    w_trues = []\n",
    "\n",
    "    with torch.no_grad():\n",
    "        for x1, x2, y, w in test_loader:\n",
    "            x1, x2, y, w = x1.to(device).to(torch.float64), x2.to(device).to(torch.float64), y.to(device).to(torch.float64), w.to(device).to(torch.float64)\n",
    "            batch_preds = []\n",
    "\n",
    "            for model in ensemble:\n",
    "                model.eval()\n",
    "                model.to(device).to(torch.float64)\n",
    "                pred = model(x1, x2)\n",
    "                batch_preds.append(pred.cpu())\n",
    "\n",
    "            # Average predictions from all models\n",
    "            avg_pred = torch.stack(batch_preds).mean(dim=0)\n",
    "            median_pred = torch.stack(batch_preds).median(dim=0).values\n",
    "            all_preds.append(avg_pred)\n",
    "            all_preds_median.append(median_pred)\n",
    "            y_trues.append(y.cpu())\n",
    "            w_trues.append(w.cpu())\n",
    "\n",
    "    y_preds = torch.cat(all_preds).numpy()\n",
    "    y_preds_median = torch.cat(all_preds_median).numpy()\n",
    "    y_trues = torch.cat(y_trues).numpy()\n",
    "    w_trues = torch.cat(w_trues).numpy()\n",
    "\n",
    "    if direct_target:\n",
    "        rmse = np.sqrt(mean_squared_error(y_trues, y_preds))\n",
    "        mae = mean_absolute_error(y_trues, y_preds)\n",
    "    else:\n",
    "        rmse = np.sqrt(mean_squared_error(y_trues*w_trues, y_preds*w_trues))\n",
    "        mae = mean_absolute_error(y_trues*w_trues, y_preds*w_trues)\n",
    "\n",
    "    # print(f\"📊 Ensemble Test RMSE: {rmse:.4f}\")\n",
    "    # print(f\"📊 Ensemble Test MAE: {mae:.4f}\")\n",
    "    return y_preds, y_preds_median, rmse, mae\n"
   ]
  },
  {
   "cell_type": "code",
   "execution_count": 69,
   "id": "77383a55",
   "metadata": {},
   "outputs": [],
   "source": [
    "y_preds, y_preds_median, rmse, mae = evaluate_tme_ensemble(ensemble, test_loader, device='cpu', direct_target=True)"
   ]
  },
  {
   "cell_type": "code",
   "execution_count": 70,
   "id": "2365b0ae",
   "metadata": {},
   "outputs": [
    {
     "name": "stdout",
     "output_type": "stream",
     "text": [
      "11.205035357978883 3.569523536259337\n"
     ]
    }
   ],
   "source": [
    "print(rmse, mae)"
   ]
  },
  {
   "cell_type": "code",
   "execution_count": null,
   "id": "885c4f51",
   "metadata": {},
   "outputs": [],
   "source": []
  },
  {
   "cell_type": "code",
   "execution_count": null,
   "id": "ca3e0413",
   "metadata": {},
   "outputs": [],
   "source": []
  },
  {
   "cell_type": "markdown",
   "id": "99f4fd98",
   "metadata": {},
   "source": [
    "## Hyperparams search"
   ]
  },
  {
   "cell_type": "code",
   "execution_count": 71,
   "id": "10732928",
   "metadata": {},
   "outputs": [
    {
     "name": "stderr",
     "output_type": "stream",
     "text": [
      "0it [00:00, ?it/s]"
     ]
    },
    {
     "name": "stdout",
     "output_type": "stream",
     "text": [
      "\n",
      "📊 h: 5, batch_size:128, lr: 0.0001, l2_lambda:0.1, RMSE\n",
      "\n",
      "🌱 Training ensemble model 1/1\n",
      "Epoch 1.      Train Loss: 5.1618, Val Loss: 6.0561.      Train RMSE: 58873010397.7560, Val RMSE: 536558.4730\n",
      "Epoch 5.      Train Loss: 3.7214, Val Loss: 4.6016.      Train RMSE: 60456939375.7285, Val RMSE: 181981.4426\n",
      "Epoch 10.      Train Loss: 2.9128, Val Loss: 3.2115.      Train RMSE: 2479866832.7572, Val RMSE: 2452.9113\n",
      "Early stopping triggered.\n"
     ]
    },
    {
     "name": "stderr",
     "output_type": "stream",
     "text": [
      "1it [03:20, 200.26s/it]"
     ]
    },
    {
     "name": "stdout",
     "output_type": "stream",
     "text": [
      "\n",
      "📊 h: 5, batch_size:128, lr: 0.0001, l2_lambda:0.1, likelihood\n",
      "\n",
      "🌱 Training ensemble model 1/1\n",
      "Epoch 1.      Train Loss: 5.1618, Val Loss: 6.0561.      Train RMSE: 58873010397.7560, Val RMSE: 536558.4730\n",
      "Epoch 5.      Train Loss: 3.7214, Val Loss: 4.6016.      Train RMSE: 60456939375.7285, Val RMSE: 181981.4426\n",
      "Epoch 10.      Train Loss: 2.9128, Val Loss: 3.2115.      Train RMSE: 2479866832.7572, Val RMSE: 2452.9113\n",
      "Epoch 15.      Train Loss: 2.7260, Val Loss: 2.8465.      Train RMSE: 7228064.8664, Val RMSE: 3788.5306\n",
      "Epoch 20.      Train Loss: 2.6810, Val Loss: 2.7901.      Train RMSE: 6771733.9107, Val RMSE: 3898.8415\n",
      "Epoch 25.      Train Loss: 2.6724, Val Loss: 2.7840.      Train RMSE: 5930952.3091, Val RMSE: 4183.3360\n",
      "Early stopping triggered.\n"
     ]
    },
    {
     "name": "stderr",
     "output_type": "stream",
     "text": [
      "2it [10:19, 329.35s/it]"
     ]
    },
    {
     "name": "stdout",
     "output_type": "stream",
     "text": [
      "\n",
      "📊 h: 5, batch_size:128, lr: 0.0001, l2_lambda:1, RMSE\n",
      "\n",
      "🌱 Training ensemble model 1/1\n",
      "Epoch 1.      Train Loss: 21.0510, Val Loss: 21.9561.      Train RMSE: 34036611306.5554, Val RMSE: 66218.5743\n",
      "Epoch 5.      Train Loss: 9.8338, Val Loss: 10.8203.      Train RMSE: 43450910.1143, Val RMSE: 273.3316\n",
      "Epoch 10.      Train Loss: 5.0610, Val Loss: 6.0227.      Train RMSE: 16.7810, Val RMSE: 14.4831\n",
      "Early stopping triggered.\n"
     ]
    },
    {
     "name": "stderr",
     "output_type": "stream",
     "text": [
      "3it [13:31, 266.22s/it]"
     ]
    },
    {
     "name": "stdout",
     "output_type": "stream",
     "text": [
      "\n",
      "📊 h: 5, batch_size:128, lr: 0.0001, l2_lambda:1, likelihood\n",
      "\n",
      "🌱 Training ensemble model 1/1\n",
      "Epoch 1.      Train Loss: 21.0510, Val Loss: 21.9561.      Train RMSE: 34036611306.5554, Val RMSE: 66218.5743\n",
      "Epoch 5.      Train Loss: 9.8338, Val Loss: 10.8203.      Train RMSE: 43450910.1143, Val RMSE: 273.3316\n",
      "Epoch 10.      Train Loss: 5.0610, Val Loss: 6.0227.      Train RMSE: 16.7810, Val RMSE: 14.4831\n",
      "Epoch 15.      Train Loss: 3.7281, Val Loss: 4.6684.      Train RMSE: 16.8565, Val RMSE: 14.5225\n",
      "Epoch 20.      Train Loss: 3.3359, Val Loss: 4.2764.      Train RMSE: 16.8615, Val RMSE: 14.5257\n",
      "Epoch 25.      Train Loss: 3.2973, Val Loss: 4.2370.      Train RMSE: 16.8615, Val RMSE: 14.5256\n",
      "Epoch 30.      Train Loss: 3.2973, Val Loss: 4.2380.      Train RMSE: 16.8617, Val RMSE: 14.5258\n",
      "Early stopping triggered.\n"
     ]
    },
    {
     "name": "stderr",
     "output_type": "stream",
     "text": [
      "4it [34:39, 661.74s/it]"
     ]
    },
    {
     "name": "stdout",
     "output_type": "stream",
     "text": [
      "\n",
      "📊 h: 5, batch_size:128, lr: 0.0001, l2_lambda:3, RMSE\n",
      "\n",
      "🌱 Training ensemble model 1/1\n",
      "Epoch 1.      Train Loss: 56.2748, Val Loss: 57.1796.      Train RMSE: 32347243642.5246, Val RMSE: 39701.8972\n",
      "Epoch 5.      Train Loss: 22.9533, Val Loss: 23.9884.      Train RMSE: 673984.3130, Val RMSE: 243.7586\n",
      "Epoch 10.      Train Loss: 8.7143, Val Loss: 9.7457.      Train RMSE: 16.9055, Val RMSE: 14.5710\n",
      "Early stopping triggered.\n"
     ]
    },
    {
     "name": "stderr",
     "output_type": "stream",
     "text": [
      "5it [42:59, 603.55s/it]"
     ]
    },
    {
     "name": "stdout",
     "output_type": "stream",
     "text": [
      "\n",
      "📊 h: 5, batch_size:128, lr: 0.0001, l2_lambda:3, likelihood\n",
      "\n",
      "🌱 Training ensemble model 1/1\n",
      "Epoch 1.      Train Loss: 56.2748, Val Loss: 57.1796.      Train RMSE: 32347243642.5246, Val RMSE: 39701.8972\n",
      "Epoch 5.      Train Loss: 22.9533, Val Loss: 23.9884.      Train RMSE: 673984.3130, Val RMSE: 243.7586\n",
      "Epoch 10.      Train Loss: 8.7143, Val Loss: 9.7457.      Train RMSE: 16.9055, Val RMSE: 14.5710\n",
      "Epoch 15.      Train Loss: 4.7135, Val Loss: 5.7306.      Train RMSE: 16.9138, Val RMSE: 14.5733\n",
      "Epoch 20.      Train Loss: 3.5409, Val Loss: 4.5618.      Train RMSE: 16.9137, Val RMSE: 14.5735\n",
      "Epoch 25.      Train Loss: 3.4256, Val Loss: 4.4457.      Train RMSE: 16.9138, Val RMSE: 14.5737\n",
      "Epoch 30.      Train Loss: 3.4257, Val Loss: 4.4472.      Train RMSE: 16.9139, Val RMSE: 14.5738\n",
      "Early stopping triggered.\n"
     ]
    },
    {
     "name": "stderr",
     "output_type": "stream",
     "text": [
      "6it [1:05:07, 849.83s/it]"
     ]
    },
    {
     "name": "stdout",
     "output_type": "stream",
     "text": [
      "\n",
      "📊 h: 5, batch_size:128, lr: 0.0001, l2_lambda:5, RMSE\n",
      "\n",
      "🌱 Training ensemble model 1/1\n",
      "Epoch 1.      Train Loss: 91.4425, Val Loss: 92.3498.      Train RMSE: 32344178334.7135, Val RMSE: 32649.8172\n",
      "Epoch 5.      Train Loss: 35.9989, Val Loss: 37.0473.      Train RMSE: 673006.0096, Val RMSE: 239.9122\n",
      "Epoch 10.      Train Loss: 12.2696, Val Loss: 13.3206.      Train RMSE: 16.9213, Val RMSE: 14.5840\n",
      "Early stopping triggered.\n"
     ]
    },
    {
     "name": "stderr",
     "output_type": "stream",
     "text": [
      "7it [1:15:04, 767.17s/it]"
     ]
    },
    {
     "name": "stdout",
     "output_type": "stream",
     "text": [
      "\n",
      "📊 h: 5, batch_size:128, lr: 0.0001, l2_lambda:5, likelihood\n",
      "\n",
      "🌱 Training ensemble model 1/1\n",
      "Epoch 1.      Train Loss: 91.4425, Val Loss: 92.3498.      Train RMSE: 32344178334.7135, Val RMSE: 32649.8172\n",
      "Epoch 5.      Train Loss: 35.9989, Val Loss: 37.0473.      Train RMSE: 673006.0096, Val RMSE: 239.9122\n",
      "Epoch 10.      Train Loss: 12.2696, Val Loss: 13.3206.      Train RMSE: 16.9213, Val RMSE: 14.5840\n",
      "Epoch 15.      Train Loss: 5.6041, Val Loss: 6.6404.      Train RMSE: 16.9256, Val RMSE: 14.5844\n",
      "Epoch 20.      Train Loss: 3.6502, Val Loss: 4.6889.      Train RMSE: 16.9256, Val RMSE: 14.5846\n",
      "Epoch 25.      Train Loss: 3.4583, Val Loss: 4.4962.      Train RMSE: 16.9257, Val RMSE: 14.5847\n",
      "Epoch 30.      Train Loss: 3.4584, Val Loss: 4.4975.      Train RMSE: 16.9258, Val RMSE: 14.5848\n",
      "Early stopping triggered.\n"
     ]
    },
    {
     "name": "stderr",
     "output_type": "stream",
     "text": [
      "8it [1:28:39, 782.44s/it]"
     ]
    },
    {
     "name": "stdout",
     "output_type": "stream",
     "text": [
      "\n",
      "📊 h: 5, batch_size:128, lr: 0.001, l2_lambda:0.1, RMSE\n",
      "\n",
      "🌱 Training ensemble model 1/1\n",
      "Epoch 1.      Train Loss: 3.0474, Val Loss: 3.5786.      Train RMSE: 45741527974.4060, Val RMSE: 6532.2404\n",
      "Epoch 5.      Train Loss: 2.6697, Val Loss: 2.7976.      Train RMSE: 6013823.9333, Val RMSE: 5468.8891\n",
      "Early stopping triggered.\n"
     ]
    },
    {
     "name": "stderr",
     "output_type": "stream",
     "text": [
      "9it [1:30:17, 568.35s/it]"
     ]
    },
    {
     "name": "stdout",
     "output_type": "stream",
     "text": [
      "\n",
      "📊 h: 5, batch_size:128, lr: 0.001, l2_lambda:0.1, likelihood\n",
      "\n",
      "🌱 Training ensemble model 1/1\n",
      "Epoch 1.      Train Loss: 3.0474, Val Loss: 3.5786.      Train RMSE: 45741527974.4060, Val RMSE: 6532.2404\n",
      "Epoch 5.      Train Loss: 2.6697, Val Loss: 2.7976.      Train RMSE: 6013823.9333, Val RMSE: 5468.8891\n",
      "Epoch 10.      Train Loss: 2.6697, Val Loss: 2.7974.      Train RMSE: 6094384.8426, Val RMSE: 5396.4600\n",
      "Early stopping triggered.\n"
     ]
    },
    {
     "name": "stderr",
     "output_type": "stream",
     "text": [
      "10it [1:33:00, 443.40s/it]"
     ]
    },
    {
     "name": "stdout",
     "output_type": "stream",
     "text": [
      "\n",
      "📊 h: 5, batch_size:128, lr: 0.001, l2_lambda:1, RMSE\n",
      "\n",
      "🌱 Training ensemble model 1/1\n",
      "Epoch 1.      Train Loss: 5.6689, Val Loss: 6.6441.      Train RMSE: 47.2214, Val RMSE: 14.4360\n",
      "Epoch 5.      Train Loss: 3.2973, Val Loss: 4.2372.      Train RMSE: 16.8622, Val RMSE: 14.5263\n",
      "Early stopping triggered.\n"
     ]
    },
    {
     "name": "stderr",
     "output_type": "stream",
     "text": [
      "11it [1:34:07, 328.19s/it]"
     ]
    },
    {
     "name": "stdout",
     "output_type": "stream",
     "text": [
      "\n",
      "📊 h: 5, batch_size:128, lr: 0.001, l2_lambda:1, likelihood\n",
      "\n",
      "🌱 Training ensemble model 1/1\n",
      "Epoch 1.      Train Loss: 5.6689, Val Loss: 6.6441.      Train RMSE: 47.2214, Val RMSE: 14.4360\n",
      "Epoch 5.      Train Loss: 3.2973, Val Loss: 4.2372.      Train RMSE: 16.8622, Val RMSE: 14.5263\n",
      "Early stopping triggered.\n"
     ]
    },
    {
     "name": "stderr",
     "output_type": "stream",
     "text": [
      "12it [1:36:01, 263.03s/it]"
     ]
    },
    {
     "name": "stdout",
     "output_type": "stream",
     "text": [
      "\n",
      "📊 h: 5, batch_size:128, lr: 0.001, l2_lambda:3, RMSE\n",
      "\n",
      "🌱 Training ensemble model 1/1\n",
      "Epoch 1.      Train Loss: 10.5141, Val Loss: 11.5576.      Train RMSE: 16.9020, Val RMSE: 14.5582\n",
      "Epoch 5.      Train Loss: 3.4256, Val Loss: 4.4471.      Train RMSE: 16.9141, Val RMSE: 14.5740\n",
      "Early stopping triggered.\n"
     ]
    },
    {
     "name": "stderr",
     "output_type": "stream",
     "text": [
      "13it [1:37:12, 204.87s/it]"
     ]
    },
    {
     "name": "stdout",
     "output_type": "stream",
     "text": [
      "\n",
      "📊 h: 5, batch_size:128, lr: 0.001, l2_lambda:3, likelihood\n",
      "\n",
      "🌱 Training ensemble model 1/1\n",
      "Epoch 1.      Train Loss: 10.5141, Val Loss: 11.5576.      Train RMSE: 16.9020, Val RMSE: 14.5582\n",
      "Epoch 5.      Train Loss: 3.4256, Val Loss: 4.4471.      Train RMSE: 16.9141, Val RMSE: 14.5740\n",
      "Epoch 10.      Train Loss: 3.4257, Val Loss: 4.4479.      Train RMSE: 16.9142, Val RMSE: 14.5741\n",
      "Early stopping triggered.\n"
     ]
    },
    {
     "name": "stderr",
     "output_type": "stream",
     "text": [
      "14it [1:39:56, 192.45s/it]"
     ]
    },
    {
     "name": "stdout",
     "output_type": "stream",
     "text": [
      "\n",
      "📊 h: 5, batch_size:128, lr: 0.001, l2_lambda:5, RMSE\n",
      "\n",
      "🌱 Training ensemble model 1/1\n",
      "Epoch 1.      Train Loss: 15.2600, Val Loss: 16.3218.      Train RMSE: 16.9133, Val RMSE: 14.5772\n",
      "Epoch 5.      Train Loss: 3.4582, Val Loss: 4.4970.      Train RMSE: 16.9256, Val RMSE: 14.5846\n",
      "Early stopping triggered.\n"
     ]
    },
    {
     "name": "stderr",
     "output_type": "stream",
     "text": [
      "15it [1:41:09, 156.40s/it]"
     ]
    },
    {
     "name": "stdout",
     "output_type": "stream",
     "text": [
      "\n",
      "📊 h: 5, batch_size:128, lr: 0.001, l2_lambda:5, likelihood\n",
      "\n",
      "🌱 Training ensemble model 1/1\n",
      "Epoch 1.      Train Loss: 15.2600, Val Loss: 16.3218.      Train RMSE: 16.9133, Val RMSE: 14.5772\n",
      "Epoch 5.      Train Loss: 3.4582, Val Loss: 4.4970.      Train RMSE: 16.9256, Val RMSE: 14.5846\n",
      "Epoch 10.      Train Loss: 3.4584, Val Loss: 4.4983.      Train RMSE: 16.9259, Val RMSE: 14.5849\n",
      "Epoch 15.      Train Loss: 3.4583, Val Loss: 4.4970.      Train RMSE: 16.9242, Val RMSE: 14.5833\n",
      "Early stopping triggered.\n"
     ]
    },
    {
     "name": "stderr",
     "output_type": "stream",
     "text": [
      "16it [1:44:26, 168.78s/it]"
     ]
    },
    {
     "name": "stdout",
     "output_type": "stream",
     "text": [
      "\n",
      "📊 h: 5, batch_size:256, lr: 0.0001, l2_lambda:0.1, RMSE\n",
      "\n",
      "🌱 Training ensemble model 1/1\n",
      "Epoch 1.      Train Loss: 5.4196, Val Loss: 6.3001.      Train RMSE: 58976753898.3173, Val RMSE: 528369.6742\n",
      "Epoch 5.      Train Loss: 4.4249, Val Loss: 5.3398.      Train RMSE: 59610829612.8828, Val RMSE: 645590.5332\n",
      "Early stopping triggered.\n"
     ]
    },
    {
     "name": "stderr",
     "output_type": "stream",
     "text": [
      "17it [1:45:12, 131.74s/it]"
     ]
    },
    {
     "name": "stdout",
     "output_type": "stream",
     "text": [
      "\n",
      "📊 h: 5, batch_size:256, lr: 0.0001, l2_lambda:0.1, likelihood\n",
      "\n",
      "🌱 Training ensemble model 1/1\n",
      "Epoch 1.      Train Loss: 5.4196, Val Loss: 6.3001.      Train RMSE: 58976753898.3173, Val RMSE: 528369.6742\n",
      "Epoch 5.      Train Loss: 4.4249, Val Loss: 5.3398.      Train RMSE: 59610829612.8828, Val RMSE: 645590.5332\n",
      "Epoch 10.      Train Loss: 3.6609, Val Loss: 4.5176.      Train RMSE: 58086322336.5214, Val RMSE: 138847.7456\n",
      "Epoch 15.      Train Loss: 3.1168, Val Loss: 3.5191.      Train RMSE: 32438804621.8844, Val RMSE: 2450.8060\n",
      "Epoch 20.      Train Loss: 2.8700, Val Loss: 3.0370.      Train RMSE: 8117306.0656, Val RMSE: 3553.1914\n",
      "Epoch 25.      Train Loss: 2.7622, Val Loss: 2.8785.      Train RMSE: 7224586.4093, Val RMSE: 3925.8454\n",
      "Epoch 30.      Train Loss: 2.7133, Val Loss: 2.8205.      Train RMSE: 7198114.3142, Val RMSE: 3944.2696\n",
      "Epoch 35.      Train Loss: 2.6880, Val Loss: 2.7930.      Train RMSE: 7480333.3870, Val RMSE: 4051.8052\n",
      "Epoch 40.      Train Loss: 2.6760, Val Loss: 2.7830.      Train RMSE: 6808477.3571, Val RMSE: 4273.0750\n"
     ]
    },
    {
     "name": "stderr",
     "output_type": "stream",
     "text": [
      "18it [1:50:08, 181.24s/it]"
     ]
    },
    {
     "name": "stdout",
     "output_type": "stream",
     "text": [
      "\n",
      "📊 h: 5, batch_size:256, lr: 0.0001, l2_lambda:1, RMSE\n",
      "\n",
      "🌱 Training ensemble model 1/1\n",
      "Epoch 1.      Train Loss: 23.3832, Val Loss: 24.2626.      Train RMSE: 45788382087.3650, Val RMSE: 143024.2497\n",
      "Epoch 5.      Train Loss: 15.4835, Val Loss: 16.4325.      Train RMSE: 22363998249.4613, Val RMSE: 7735.8857\n",
      "Epoch 10.      Train Loss: 9.7844, Val Loss: 10.7664.      Train RMSE: 28311990.5151, Val RMSE: 271.2708\n",
      "Epoch 15.      Train Loss: 6.6937, Val Loss: 7.6733.      Train RMSE: 60.4163, Val RMSE: 30.8675\n",
      "Epoch 20.      Train Loss: 5.0517, Val Loss: 6.0106.      Train RMSE: 16.7747, Val RMSE: 14.4884\n",
      "Early stopping triggered.\n"
     ]
    },
    {
     "name": "stderr",
     "output_type": "stream",
     "text": [
      "19it [1:52:47, 174.33s/it]"
     ]
    },
    {
     "name": "stdout",
     "output_type": "stream",
     "text": [
      "\n",
      "📊 h: 5, batch_size:256, lr: 0.0001, l2_lambda:1, likelihood\n",
      "\n",
      "🌱 Training ensemble model 1/1\n",
      "Epoch 1.      Train Loss: 23.3832, Val Loss: 24.2626.      Train RMSE: 45788382087.3650, Val RMSE: 143024.2497\n",
      "Epoch 5.      Train Loss: 15.4835, Val Loss: 16.4325.      Train RMSE: 22363998249.4613, Val RMSE: 7735.8857\n",
      "Epoch 10.      Train Loss: 9.7844, Val Loss: 10.7664.      Train RMSE: 28311990.5151, Val RMSE: 271.2708\n",
      "Epoch 15.      Train Loss: 6.6937, Val Loss: 7.6733.      Train RMSE: 60.4163, Val RMSE: 30.8675\n",
      "Epoch 20.      Train Loss: 5.0517, Val Loss: 6.0106.      Train RMSE: 16.7747, Val RMSE: 14.4884\n",
      "Epoch 25.      Train Loss: 4.1902, Val Loss: 5.1316.      Train RMSE: 16.8357, Val RMSE: 14.5105\n",
      "Epoch 30.      Train Loss: 3.7258, Val Loss: 4.6643.      Train RMSE: 16.8567, Val RMSE: 14.5226\n",
      "Epoch 35.      Train Loss: 3.4615, Val Loss: 4.4002.      Train RMSE: 16.8613, Val RMSE: 14.5255\n",
      "Epoch 40.      Train Loss: 3.3348, Val Loss: 4.2734.      Train RMSE: 16.8613, Val RMSE: 14.5255\n"
     ]
    },
    {
     "name": "stderr",
     "output_type": "stream",
     "text": [
      "20it [1:57:43, 211.03s/it]"
     ]
    },
    {
     "name": "stdout",
     "output_type": "stream",
     "text": [
      "\n",
      "📊 h: 5, batch_size:256, lr: 0.0001, l2_lambda:3, RMSE\n",
      "\n",
      "🌱 Training ensemble model 1/1\n",
      "Epoch 1.      Train Loss: 63.2433, Val Loss: 64.1209.      Train RMSE: 33353708808.4493, Val RMSE: 108234.9326\n",
      "Epoch 5.      Train Loss: 39.8615, Val Loss: 40.8348.      Train RMSE: 16453728558.2109, Val RMSE: 3521.3012\n",
      "Epoch 10.      Train Loss: 22.9167, Val Loss: 23.9500.      Train RMSE: 670292.5539, Val RMSE: 242.7901\n",
      "Epoch 15.      Train Loss: 13.6508, Val Loss: 14.6964.      Train RMSE: 31.0500, Val RMSE: 15.6444\n",
      "Epoch 20.      Train Loss: 8.6969, Val Loss: 9.7269.      Train RMSE: 16.9054, Val RMSE: 14.5707\n",
      "Early stopping triggered.\n"
     ]
    },
    {
     "name": "stderr",
     "output_type": "stream",
     "text": [
      "21it [2:00:19, 194.38s/it]"
     ]
    },
    {
     "name": "stdout",
     "output_type": "stream",
     "text": [
      "\n",
      "📊 h: 5, batch_size:256, lr: 0.0001, l2_lambda:3, likelihood\n",
      "\n",
      "🌱 Training ensemble model 1/1\n",
      "Epoch 1.      Train Loss: 63.2433, Val Loss: 64.1209.      Train RMSE: 33353708808.4493, Val RMSE: 108234.9326\n",
      "Epoch 5.      Train Loss: 39.8615, Val Loss: 40.8348.      Train RMSE: 16453728558.2109, Val RMSE: 3521.3012\n",
      "Epoch 10.      Train Loss: 22.9167, Val Loss: 23.9500.      Train RMSE: 670292.5539, Val RMSE: 242.7901\n",
      "Epoch 15.      Train Loss: 13.6508, Val Loss: 14.6964.      Train RMSE: 31.0500, Val RMSE: 15.6444\n",
      "Epoch 20.      Train Loss: 8.6969, Val Loss: 9.7269.      Train RMSE: 16.9054, Val RMSE: 14.5707\n",
      "Epoch 25.      Train Loss: 6.1057, Val Loss: 7.1205.      Train RMSE: 16.9122, Val RMSE: 14.5723\n",
      "Epoch 30.      Train Loss: 4.7066, Val Loss: 5.7231.      Train RMSE: 16.9136, Val RMSE: 14.5732\n",
      "Epoch 35.      Train Loss: 3.9177, Val Loss: 4.9359.      Train RMSE: 16.9137, Val RMSE: 14.5735\n",
      "Epoch 40.      Train Loss: 3.5385, Val Loss: 4.5574.      Train RMSE: 16.9136, Val RMSE: 14.5734\n"
     ]
    },
    {
     "name": "stderr",
     "output_type": "stream",
     "text": [
      "22it [2:05:34, 230.75s/it]"
     ]
    },
    {
     "name": "stdout",
     "output_type": "stream",
     "text": [
      "\n",
      "📊 h: 5, batch_size:256, lr: 0.0001, l2_lambda:5, RMSE\n",
      "\n",
      "🌱 Training ensemble model 1/1\n",
      "Epoch 1.      Train Loss: 103.1042, Val Loss: 103.9816.      Train RMSE: 32828610291.1468, Val RMSE: 101601.8545\n",
      "Epoch 5.      Train Loss: 64.1412, Val Loss: 65.1241.      Train RMSE: 16624616371.5950, Val RMSE: 2623.0507\n",
      "Epoch 10.      Train Loss: 35.9465, Val Loss: 36.9926.      Train RMSE: 675865.1874, Val RMSE: 239.3401\n",
      "Epoch 15.      Train Loss: 20.5048, Val Loss: 21.5681.      Train RMSE: 31.1881, Val RMSE: 14.9575\n",
      "Epoch 20.      Train Loss: 12.2417, Val Loss: 13.2914.      Train RMSE: 16.9211, Val RMSE: 14.5838\n",
      "Early stopping triggered.\n"
     ]
    },
    {
     "name": "stderr",
     "output_type": "stream",
     "text": [
      "23it [2:08:24, 212.32s/it]"
     ]
    },
    {
     "name": "stdout",
     "output_type": "stream",
     "text": [
      "\n",
      "📊 h: 5, batch_size:256, lr: 0.0001, l2_lambda:5, likelihood\n",
      "\n",
      "🌱 Training ensemble model 1/1\n",
      "Epoch 1.      Train Loss: 103.1042, Val Loss: 103.9816.      Train RMSE: 32828610291.1468, Val RMSE: 101601.8545\n",
      "Epoch 5.      Train Loss: 64.1412, Val Loss: 65.1241.      Train RMSE: 16624616371.5950, Val RMSE: 2623.0507\n",
      "Epoch 10.      Train Loss: 35.9465, Val Loss: 36.9926.      Train RMSE: 675865.1874, Val RMSE: 239.3401\n",
      "Epoch 15.      Train Loss: 20.5048, Val Loss: 21.5681.      Train RMSE: 31.1881, Val RMSE: 14.9575\n",
      "Epoch 20.      Train Loss: 12.2417, Val Loss: 13.2914.      Train RMSE: 16.9211, Val RMSE: 14.5838\n",
      "Epoch 25.      Train Loss: 7.9246, Val Loss: 8.9599.      Train RMSE: 16.9248, Val RMSE: 14.5841\n",
      "Epoch 30.      Train Loss: 5.5924, Val Loss: 6.6279.      Train RMSE: 16.9256, Val RMSE: 14.5845\n",
      "Epoch 35.      Train Loss: 4.2782, Val Loss: 5.3148.      Train RMSE: 16.9256, Val RMSE: 14.5845\n",
      "Epoch 40.      Train Loss: 3.6465, Val Loss: 4.6835.      Train RMSE: 16.9255, Val RMSE: 14.5845\n"
     ]
    },
    {
     "name": "stderr",
     "output_type": "stream",
     "text": [
      "24it [2:14:31, 258.85s/it]"
     ]
    },
    {
     "name": "stdout",
     "output_type": "stream",
     "text": [
      "\n",
      "📊 h: 5, batch_size:256, lr: 0.001, l2_lambda:0.1, RMSE\n",
      "\n",
      "🌱 Training ensemble model 1/1\n",
      "Epoch 1.      Train Loss: 3.7157, Val Loss: 4.5804.      Train RMSE: 65774347298.4966, Val RMSE: 222050.2666\n",
      "Epoch 5.      Train Loss: 2.6795, Val Loss: 2.7982.      Train RMSE: 7051434.7142, Val RMSE: 4851.7634\n",
      "Early stopping triggered.\n"
     ]
    },
    {
     "name": "stderr",
     "output_type": "stream",
     "text": [
      "25it [2:15:31, 199.08s/it]"
     ]
    },
    {
     "name": "stdout",
     "output_type": "stream",
     "text": [
      "\n",
      "📊 h: 5, batch_size:256, lr: 0.001, l2_lambda:0.1, likelihood\n",
      "\n",
      "🌱 Training ensemble model 1/1\n",
      "Epoch 1.      Train Loss: 3.7157, Val Loss: 4.5804.      Train RMSE: 65774347298.4966, Val RMSE: 222050.2666\n",
      "Epoch 5.      Train Loss: 2.6795, Val Loss: 2.7982.      Train RMSE: 7051434.7142, Val RMSE: 4851.7634\n",
      "Epoch 10.      Train Loss: 2.6694, Val Loss: 2.7919.      Train RMSE: 6096193.2279, Val RMSE: 5513.6855\n",
      "Early stopping triggered.\n"
     ]
    },
    {
     "name": "stderr",
     "output_type": "stream",
     "text": [
      "26it [2:17:19, 171.83s/it]"
     ]
    },
    {
     "name": "stdout",
     "output_type": "stream",
     "text": [
      "\n",
      "📊 h: 5, batch_size:256, lr: 0.001, l2_lambda:1, RMSE\n",
      "\n",
      "🌱 Training ensemble model 1/1\n",
      "Epoch 1.      Train Loss: 10.1413, Val Loss: 11.1216.      Train RMSE: 6448276917.7564, Val RMSE: 274.8540\n",
      "Epoch 5.      Train Loss: 3.3859, Val Loss: 4.3240.      Train RMSE: 16.8600, Val RMSE: 14.5248\n",
      "Early stopping triggered.\n"
     ]
    },
    {
     "name": "stderr",
     "output_type": "stream",
     "text": [
      "27it [2:18:22, 139.03s/it]"
     ]
    },
    {
     "name": "stdout",
     "output_type": "stream",
     "text": [
      "\n",
      "📊 h: 5, batch_size:256, lr: 0.001, l2_lambda:1, likelihood\n",
      "\n",
      "🌱 Training ensemble model 1/1\n",
      "Epoch 1.      Train Loss: 10.1413, Val Loss: 11.1216.      Train RMSE: 6448276917.7564, Val RMSE: 274.8540\n",
      "Epoch 5.      Train Loss: 3.3859, Val Loss: 4.3240.      Train RMSE: 16.8600, Val RMSE: 14.5248\n",
      "Epoch 10.      Train Loss: 3.2974, Val Loss: 4.2358.      Train RMSE: 16.8624, Val RMSE: 14.5265\n",
      "Epoch 15.      Train Loss: 3.2972, Val Loss: 4.2357.      Train RMSE: 16.8620, Val RMSE: 14.5261\n",
      "Epoch 20.      Train Loss: 3.2974, Val Loss: 4.2372.      Train RMSE: 16.8612, Val RMSE: 14.5254\n",
      "Epoch 25.      Train Loss: 3.2974, Val Loss: 4.2325.      Train RMSE: 16.8622, Val RMSE: 14.5262\n",
      "Epoch 30.      Train Loss: 3.2978, Val Loss: 4.2378.      Train RMSE: 16.8626, Val RMSE: 14.5266\n",
      "Early stopping triggered.\n"
     ]
    },
    {
     "name": "stderr",
     "output_type": "stream",
     "text": [
      "28it [2:23:45, 194.50s/it]"
     ]
    },
    {
     "name": "stdout",
     "output_type": "stream",
     "text": [
      "\n",
      "📊 h: 5, batch_size:256, lr: 0.001, l2_lambda:3, RMSE\n",
      "\n",
      "🌱 Training ensemble model 1/1\n",
      "Epoch 1.      Train Loss: 24.0979, Val Loss: 25.1339.      Train RMSE: 50329317.2794, Val RMSE: 274.2827\n",
      "Epoch 5.      Train Loss: 3.6879, Val Loss: 4.7077.      Train RMSE: 16.9143, Val RMSE: 14.5741\n",
      "Early stopping triggered.\n"
     ]
    },
    {
     "name": "stderr",
     "output_type": "stream",
     "text": [
      "29it [2:24:54, 156.84s/it]"
     ]
    },
    {
     "name": "stdout",
     "output_type": "stream",
     "text": [
      "\n",
      "📊 h: 5, batch_size:256, lr: 0.001, l2_lambda:3, likelihood\n",
      "\n",
      "🌱 Training ensemble model 1/1\n",
      "Epoch 1.      Train Loss: 24.0979, Val Loss: 25.1339.      Train RMSE: 50329317.2794, Val RMSE: 274.2827\n",
      "Epoch 5.      Train Loss: 3.6879, Val Loss: 4.7077.      Train RMSE: 16.9143, Val RMSE: 14.5741\n",
      "Epoch 10.      Train Loss: 3.4258, Val Loss: 4.4452.      Train RMSE: 16.9139, Val RMSE: 14.5738\n",
      "Epoch 15.      Train Loss: 3.4255, Val Loss: 4.4444.      Train RMSE: 16.9130, Val RMSE: 14.5729\n",
      "Early stopping triggered.\n"
     ]
    },
    {
     "name": "stderr",
     "output_type": "stream",
     "text": [
      "30it [2:27:37, 158.52s/it]"
     ]
    },
    {
     "name": "stdout",
     "output_type": "stream",
     "text": [
      "\n",
      "📊 h: 5, batch_size:256, lr: 0.001, l2_lambda:5, RMSE\n",
      "\n",
      "🌱 Training ensemble model 1/1\n",
      "Epoch 1.      Train Loss: 37.7087, Val Loss: 38.7522.      Train RMSE: 9181508.5769, Val RMSE: 266.1151\n",
      "Epoch 5.      Train Loss: 3.8946, Val Loss: 4.9325.      Train RMSE: 16.9263, Val RMSE: 14.5852\n",
      "Early stopping triggered.\n"
     ]
    },
    {
     "name": "stderr",
     "output_type": "stream",
     "text": [
      "31it [2:28:42, 130.46s/it]"
     ]
    },
    {
     "name": "stdout",
     "output_type": "stream",
     "text": [
      "\n",
      "📊 h: 5, batch_size:256, lr: 0.001, l2_lambda:5, likelihood\n",
      "\n",
      "🌱 Training ensemble model 1/1\n",
      "Epoch 1.      Train Loss: 37.7087, Val Loss: 38.7522.      Train RMSE: 9181508.5769, Val RMSE: 266.1151\n",
      "Epoch 5.      Train Loss: 3.8946, Val Loss: 4.9325.      Train RMSE: 16.9263, Val RMSE: 14.5852\n",
      "Epoch 10.      Train Loss: 3.4585, Val Loss: 4.4961.      Train RMSE: 16.9259, Val RMSE: 14.5849\n",
      "Epoch 15.      Train Loss: 3.4582, Val Loss: 4.4951.      Train RMSE: 16.9248, Val RMSE: 14.5839\n",
      "Early stopping triggered.\n"
     ]
    },
    {
     "name": "stderr",
     "output_type": "stream",
     "text": [
      "32it [2:31:26, 140.54s/it]"
     ]
    },
    {
     "name": "stdout",
     "output_type": "stream",
     "text": [
      "\n",
      "📊 h: 10, batch_size:128, lr: 0.0001, l2_lambda:0.1, RMSE\n",
      "\n",
      "🌱 Training ensemble model 1/1\n",
      "Epoch 1.      Train Loss: 5.1783, Val Loss: 5.6128.      Train RMSE: 16179447082.8365, Val RMSE: 11061276.6287\n",
      "Epoch 5.      Train Loss: 3.4947, Val Loss: 3.7138.      Train RMSE: 35183344029.3965, Val RMSE: 6991.3035\n",
      "Epoch 10.      Train Loss: 2.8012, Val Loss: 2.9494.      Train RMSE: 5674243.5515, Val RMSE: 5765.7822\n",
      "Epoch 15.      Train Loss: 2.6450, Val Loss: 2.7589.      Train RMSE: 5408342.6414, Val RMSE: 6166.6153\n",
      "Early stopping triggered.\n"
     ]
    },
    {
     "name": "stderr",
     "output_type": "stream",
     "text": [
      "33it [2:34:24, 151.75s/it]"
     ]
    },
    {
     "name": "stdout",
     "output_type": "stream",
     "text": [
      "\n",
      "📊 h: 10, batch_size:128, lr: 0.0001, l2_lambda:0.1, likelihood\n",
      "\n",
      "🌱 Training ensemble model 1/1\n",
      "Epoch 1.      Train Loss: 5.1783, Val Loss: 5.6128.      Train RMSE: 16179447082.8365, Val RMSE: 11061276.6287\n",
      "Epoch 5.      Train Loss: 3.4947, Val Loss: 3.7138.      Train RMSE: 35183344029.3965, Val RMSE: 6991.3035\n",
      "Epoch 10.      Train Loss: 2.8012, Val Loss: 2.9494.      Train RMSE: 5674243.5515, Val RMSE: 5765.7822\n",
      "Epoch 15.      Train Loss: 2.6450, Val Loss: 2.7589.      Train RMSE: 5408342.6414, Val RMSE: 6166.6153\n",
      "Epoch 20.      Train Loss: 2.6241, Val Loss: 2.7308.      Train RMSE: 5504837.5207, Val RMSE: 6495.8904\n",
      "Epoch 25.      Train Loss: 2.6213, Val Loss: 2.7280.      Train RMSE: 5390198.6609, Val RMSE: 6497.0692\n",
      "Early stopping triggered.\n"
     ]
    },
    {
     "name": "stderr",
     "output_type": "stream",
     "text": [
      "34it [2:40:09, 209.76s/it]"
     ]
    },
    {
     "name": "stdout",
     "output_type": "stream",
     "text": [
      "\n",
      "📊 h: 10, batch_size:128, lr: 0.0001, l2_lambda:1, RMSE\n",
      "\n",
      "🌱 Training ensemble model 1/1\n",
      "Epoch 1.      Train Loss: 20.0481, Val Loss: 20.6658.      Train RMSE: 4148391950.5897, Val RMSE: 441622.9281\n",
      "Epoch 5.      Train Loss: 8.1352, Val Loss: 9.0788.      Train RMSE: 2974892.1892, Val RMSE: 18.8451\n",
      "Epoch 10.      Train Loss: 4.0296, Val Loss: 4.9787.      Train RMSE: 17.1328, Val RMSE: 14.4345\n",
      "Early stopping triggered.\n"
     ]
    },
    {
     "name": "stderr",
     "output_type": "stream",
     "text": [
      "35it [2:42:23, 187.18s/it]"
     ]
    },
    {
     "name": "stdout",
     "output_type": "stream",
     "text": [
      "\n",
      "📊 h: 10, batch_size:128, lr: 0.0001, l2_lambda:1, likelihood\n",
      "\n",
      "🌱 Training ensemble model 1/1\n",
      "Epoch 1.      Train Loss: 20.0481, Val Loss: 20.6658.      Train RMSE: 4148391950.5897, Val RMSE: 441622.9281\n",
      "Epoch 5.      Train Loss: 8.1352, Val Loss: 9.0788.      Train RMSE: 2974892.1892, Val RMSE: 18.8451\n",
      "Epoch 10.      Train Loss: 4.0296, Val Loss: 4.9787.      Train RMSE: 17.1328, Val RMSE: 14.4345\n",
      "Epoch 15.      Train Loss: 3.3294, Val Loss: 4.2714.      Train RMSE: 16.8386, Val RMSE: 14.5115\n",
      "Epoch 20.      Train Loss: 3.2973, Val Loss: 4.2375.      Train RMSE: 16.8621, Val RMSE: 14.5263\n",
      "Early stopping triggered.\n"
     ]
    },
    {
     "name": "stderr",
     "output_type": "stream",
     "text": [
      "36it [2:47:54, 230.19s/it]"
     ]
    },
    {
     "name": "stdout",
     "output_type": "stream",
     "text": [
      "\n",
      "📊 h: 10, batch_size:128, lr: 0.0001, l2_lambda:3, RMSE\n",
      "\n",
      "🌱 Training ensemble model 1/1\n",
      "Epoch 1.      Train Loss: 52.8472, Val Loss: 53.4502.      Train RMSE: 3630951008.1413, Val RMSE: 223394.4822\n",
      "Epoch 5.      Train Loss: 17.9027, Val Loss: 18.8955.      Train RMSE: 12746.0808, Val RMSE: 14.5816\n",
      "Epoch 10.      Train Loss: 5.6381, Val Loss: 6.6556.      Train RMSE: 16.8999, Val RMSE: 14.5717\n",
      "Early stopping triggered.\n"
     ]
    },
    {
     "name": "stderr",
     "output_type": "stream",
     "text": [
      "37it [2:50:44, 212.23s/it]"
     ]
    },
    {
     "name": "stdout",
     "output_type": "stream",
     "text": [
      "\n",
      "📊 h: 10, batch_size:128, lr: 0.0001, l2_lambda:3, likelihood\n",
      "\n",
      "🌱 Training ensemble model 1/1\n",
      "Epoch 1.      Train Loss: 52.8472, Val Loss: 53.4502.      Train RMSE: 3630951008.1413, Val RMSE: 223394.4822\n",
      "Epoch 5.      Train Loss: 17.9027, Val Loss: 18.8955.      Train RMSE: 12746.0808, Val RMSE: 14.5816\n",
      "Epoch 10.      Train Loss: 5.6381, Val Loss: 6.6556.      Train RMSE: 16.8999, Val RMSE: 14.5717\n",
      "Epoch 15.      Train Loss: 3.5145, Val Loss: 4.5368.      Train RMSE: 16.9141, Val RMSE: 14.5745\n",
      "Epoch 20.      Train Loss: 3.4256, Val Loss: 4.4463.      Train RMSE: 16.9142, Val RMSE: 14.5743\n",
      "Epoch 25.      Train Loss: 3.4257, Val Loss: 4.4463.      Train RMSE: 16.9142, Val RMSE: 14.5742\n",
      "Early stopping triggered.\n"
     ]
    },
    {
     "name": "stderr",
     "output_type": "stream",
     "text": [
      "38it [3:02:26, 359.06s/it]"
     ]
    },
    {
     "name": "stdout",
     "output_type": "stream",
     "text": [
      "\n",
      "📊 h: 10, batch_size:128, lr: 0.0001, l2_lambda:5, RMSE\n",
      "\n",
      "🌱 Training ensemble model 1/1\n",
      "Epoch 1.      Train Loss: 85.6468, Val Loss: 86.2480.      Train RMSE: 3490133983.9364, Val RMSE: 194350.0446\n",
      "Epoch 5.      Train Loss: 27.5744, Val Loss: 28.5796.      Train RMSE: 3460.0993, Val RMSE: 14.5883\n",
      "Epoch 10.      Train Loss: 7.1303, Val Loss: 8.1635.      Train RMSE: 16.9203, Val RMSE: 14.5861\n",
      "Early stopping triggered.\n"
     ]
    },
    {
     "name": "stderr",
     "output_type": "stream",
     "text": [
      "39it [3:07:27, 341.70s/it]"
     ]
    },
    {
     "name": "stdout",
     "output_type": "stream",
     "text": [
      "\n",
      "📊 h: 10, batch_size:128, lr: 0.0001, l2_lambda:5, likelihood\n",
      "\n",
      "🌱 Training ensemble model 1/1\n",
      "Epoch 1.      Train Loss: 85.6468, Val Loss: 86.2480.      Train RMSE: 3490133983.9364, Val RMSE: 194350.0446\n",
      "Epoch 5.      Train Loss: 27.5744, Val Loss: 28.5796.      Train RMSE: 3460.0993, Val RMSE: 14.5883\n",
      "Epoch 10.      Train Loss: 7.1303, Val Loss: 8.1635.      Train RMSE: 16.9203, Val RMSE: 14.5861\n",
      "Epoch 15.      Train Loss: 3.6055, Val Loss: 4.6455.      Train RMSE: 16.9261, Val RMSE: 14.5855\n",
      "Epoch 20.      Train Loss: 3.4583, Val Loss: 4.4968.      Train RMSE: 16.9261, Val RMSE: 14.5852\n",
      "Epoch 25.      Train Loss: 3.4583, Val Loss: 4.4969.      Train RMSE: 16.9260, Val RMSE: 14.5852\n",
      "Early stopping triggered.\n"
     ]
    },
    {
     "name": "stderr",
     "output_type": "stream",
     "text": [
      "40it [3:18:17, 434.08s/it]"
     ]
    },
    {
     "name": "stdout",
     "output_type": "stream",
     "text": [
      "\n",
      "📊 h: 10, batch_size:128, lr: 0.001, l2_lambda:0.1, RMSE\n",
      "\n",
      "🌱 Training ensemble model 1/1\n",
      "Epoch 1.      Train Loss: 2.9384, Val Loss: 3.0818.      Train RMSE: 673237417.4846, Val RMSE: 6267.2224\n",
      "Epoch 5.      Train Loss: 2.6215, Val Loss: 2.7390.      Train RMSE: 4862756.8129, Val RMSE: 3749.9716\n",
      "Early stopping triggered.\n"
     ]
    },
    {
     "name": "stderr",
     "output_type": "stream",
     "text": [
      "41it [3:21:51, 367.99s/it]"
     ]
    },
    {
     "name": "stdout",
     "output_type": "stream",
     "text": [
      "\n",
      "📊 h: 10, batch_size:128, lr: 0.001, l2_lambda:0.1, likelihood\n",
      "\n",
      "🌱 Training ensemble model 1/1\n",
      "Epoch 1.      Train Loss: 2.9384, Val Loss: 3.0818.      Train RMSE: 673237417.4846, Val RMSE: 6267.2224\n",
      "Epoch 5.      Train Loss: 2.6215, Val Loss: 2.7390.      Train RMSE: 4862756.8129, Val RMSE: 3749.9716\n",
      "Epoch 10.      Train Loss: 2.6213, Val Loss: 2.7437.      Train RMSE: 6379114.3319, Val RMSE: 6239.8753\n",
      "Early stopping triggered.\n"
     ]
    },
    {
     "name": "stderr",
     "output_type": "stream",
     "text": [
      "42it [3:27:51, 365.69s/it]"
     ]
    },
    {
     "name": "stdout",
     "output_type": "stream",
     "text": [
      "\n",
      "📊 h: 10, batch_size:128, lr: 0.001, l2_lambda:1, RMSE\n",
      "\n",
      "🌱 Training ensemble model 1/1\n",
      "Epoch 1.      Train Loss: 4.6218, Val Loss: 5.5776.      Train RMSE: 34.7660, Val RMSE: 14.3967\n",
      "Epoch 5.      Train Loss: 3.2974, Val Loss: 4.2361.      Train RMSE: 16.8596, Val RMSE: 14.5241\n",
      "Early stopping triggered.\n"
     ]
    },
    {
     "name": "stderr",
     "output_type": "stream",
     "text": [
      "43it [3:32:16, 335.61s/it]"
     ]
    },
    {
     "name": "stdout",
     "output_type": "stream",
     "text": [
      "\n",
      "📊 h: 10, batch_size:128, lr: 0.001, l2_lambda:1, likelihood\n",
      "\n",
      "🌱 Training ensemble model 1/1\n",
      "Epoch 1.      Train Loss: 4.6218, Val Loss: 5.5776.      Train RMSE: 34.7660, Val RMSE: 14.3967\n",
      "Epoch 5.      Train Loss: 3.2974, Val Loss: 4.2361.      Train RMSE: 16.8596, Val RMSE: 14.5241\n",
      "Epoch 10.      Train Loss: 3.2973, Val Loss: 4.2368.      Train RMSE: 16.8608, Val RMSE: 14.5252\n",
      "Early stopping triggered.\n"
     ]
    },
    {
     "name": "stderr",
     "output_type": "stream",
     "text": [
      "44it [3:40:25, 381.68s/it]"
     ]
    },
    {
     "name": "stdout",
     "output_type": "stream",
     "text": [
      "\n",
      "📊 h: 10, batch_size:128, lr: 0.001, l2_lambda:3, RMSE\n",
      "\n",
      "🌱 Training ensemble model 1/1\n",
      "Epoch 1.      Train Loss: 7.3068, Val Loss: 8.3226.      Train RMSE: 16.8781, Val RMSE: 14.5657\n",
      "Epoch 5.      Train Loss: 3.4258, Val Loss: 4.4467.      Train RMSE: 16.9126, Val RMSE: 14.5727\n",
      "Early stopping triggered.\n"
     ]
    },
    {
     "name": "stderr",
     "output_type": "stream",
     "text": [
      "45it [3:44:32, 341.16s/it]"
     ]
    },
    {
     "name": "stdout",
     "output_type": "stream",
     "text": [
      "\n",
      "📊 h: 10, batch_size:128, lr: 0.001, l2_lambda:3, likelihood\n",
      "\n",
      "🌱 Training ensemble model 1/1\n",
      "Epoch 1.      Train Loss: 7.3068, Val Loss: 8.3226.      Train RMSE: 16.8781, Val RMSE: 14.5657\n",
      "Epoch 5.      Train Loss: 3.4258, Val Loss: 4.4467.      Train RMSE: 16.9126, Val RMSE: 14.5727\n",
      "Epoch 10.      Train Loss: 3.4257, Val Loss: 4.4458.      Train RMSE: 16.9126, Val RMSE: 14.5727\n",
      "Early stopping triggered.\n"
     ]
    },
    {
     "name": "stderr",
     "output_type": "stream",
     "text": [
      "46it [3:52:08, 375.55s/it]"
     ]
    },
    {
     "name": "stdout",
     "output_type": "stream",
     "text": [
      "\n",
      "📊 h: 10, batch_size:128, lr: 0.001, l2_lambda:5, RMSE\n",
      "\n",
      "🌱 Training ensemble model 1/1\n",
      "Epoch 1.      Train Loss: 9.8673, Val Loss: 10.8960.      Train RMSE: 16.9114, Val RMSE: 14.5850\n",
      "Epoch 5.      Train Loss: 3.4584, Val Loss: 4.4971.      Train RMSE: 16.9250, Val RMSE: 14.5842\n",
      "Early stopping triggered.\n"
     ]
    },
    {
     "name": "stderr",
     "output_type": "stream",
     "text": [
      "47it [3:55:40, 326.52s/it]"
     ]
    },
    {
     "name": "stdout",
     "output_type": "stream",
     "text": [
      "\n",
      "📊 h: 10, batch_size:128, lr: 0.001, l2_lambda:5, likelihood\n",
      "\n",
      "🌱 Training ensemble model 1/1\n",
      "Epoch 1.      Train Loss: 9.8673, Val Loss: 10.8960.      Train RMSE: 16.9114, Val RMSE: 14.5850\n",
      "Epoch 5.      Train Loss: 3.4584, Val Loss: 4.4971.      Train RMSE: 16.9250, Val RMSE: 14.5842\n",
      "Epoch 10.      Train Loss: 3.4585, Val Loss: 4.4958.      Train RMSE: 16.9248, Val RMSE: 14.5840\n",
      "Epoch 15.      Train Loss: 3.4582, Val Loss: 4.4986.      Train RMSE: 16.9269, Val RMSE: 14.5860\n",
      "Early stopping triggered.\n"
     ]
    },
    {
     "name": "stderr",
     "output_type": "stream",
     "text": [
      "48it [4:00:32, 316.09s/it]"
     ]
    },
    {
     "name": "stdout",
     "output_type": "stream",
     "text": [
      "\n",
      "📊 h: 10, batch_size:256, lr: 0.0001, l2_lambda:0.1, RMSE\n",
      "\n",
      "🌱 Training ensemble model 1/1\n",
      "Epoch 1.      Train Loss: 5.6198, Val Loss: 5.9758.      Train RMSE: 10419667158.2915, Val RMSE: 11991158.0524\n",
      "Epoch 5.      Train Loss: 4.2410, Val Loss: 4.6162.      Train RMSE: 32388244934.3968, Val RMSE: 398766.3485\n",
      "Epoch 10.      Train Loss: 3.4011, Val Loss: 3.5827.      Train RMSE: 33790904073.0632, Val RMSE: 5992.2033\n",
      "Epoch 15.      Train Loss: 2.9698, Val Loss: 3.1486.      Train RMSE: 122782933.4296, Val RMSE: 5745.8181\n",
      "Epoch 20.      Train Loss: 2.7568, Val Loss: 2.9054.      Train RMSE: 4778250.8558, Val RMSE: 5571.7351\n",
      "Early stopping triggered.\n"
     ]
    },
    {
     "name": "stderr",
     "output_type": "stream",
     "text": [
      "49it [4:05:19, 307.34s/it]"
     ]
    },
    {
     "name": "stdout",
     "output_type": "stream",
     "text": [
      "\n",
      "📊 h: 10, batch_size:256, lr: 0.0001, l2_lambda:0.1, likelihood\n",
      "\n",
      "🌱 Training ensemble model 1/1\n",
      "Epoch 1.      Train Loss: 5.6198, Val Loss: 5.9758.      Train RMSE: 10419667158.2915, Val RMSE: 11991158.0524\n",
      "Epoch 5.      Train Loss: 4.2410, Val Loss: 4.6162.      Train RMSE: 32388244934.3968, Val RMSE: 398766.3485\n",
      "Epoch 10.      Train Loss: 3.4011, Val Loss: 3.5827.      Train RMSE: 33790904073.0632, Val RMSE: 5992.2033\n",
      "Epoch 15.      Train Loss: 2.9698, Val Loss: 3.1486.      Train RMSE: 122782933.4296, Val RMSE: 5745.8181\n",
      "Epoch 20.      Train Loss: 2.7568, Val Loss: 2.9054.      Train RMSE: 4778250.8558, Val RMSE: 5571.7351\n",
      "Epoch 25.      Train Loss: 2.6628, Val Loss: 2.7856.      Train RMSE: 5034569.7039, Val RMSE: 5584.1571\n",
      "Epoch 30.      Train Loss: 2.6318, Val Loss: 2.7430.      Train RMSE: 5168686.8380, Val RMSE: 5974.5299\n",
      "Epoch 35.      Train Loss: 2.6237, Val Loss: 2.7295.      Train RMSE: 5245659.0635, Val RMSE: 6290.7430\n",
      "Epoch 40.      Train Loss: 2.6211, Val Loss: 2.7269.      Train RMSE: 5357560.3670, Val RMSE: 6432.9642\n"
     ]
    },
    {
     "name": "stderr",
     "output_type": "stream",
     "text": [
      "50it [4:13:15, 357.98s/it]"
     ]
    },
    {
     "name": "stdout",
     "output_type": "stream",
     "text": [
      "\n",
      "📊 h: 10, batch_size:256, lr: 0.0001, l2_lambda:1, RMSE\n",
      "\n",
      "🌱 Training ensemble model 1/1\n",
      "Epoch 1.      Train Loss: 22.8367, Val Loss: 23.2866.      Train RMSE: 2781117904.7591, Val RMSE: 4159483.3363\n",
      "Epoch 5.      Train Loss: 13.8523, Val Loss: 14.7054.      Train RMSE: 5501906349.8639, Val RMSE: 7832.6187\n",
      "Epoch 10.      Train Loss: 8.1111, Val Loss: 9.0528.      Train RMSE: 2857236.8153, Val RMSE: 15.1686\n",
      "Epoch 15.      Train Loss: 5.3282, Val Loss: 6.2794.      Train RMSE: 101.7601, Val RMSE: 14.3704\n",
      "Early stopping triggered.\n"
     ]
    },
    {
     "name": "stderr",
     "output_type": "stream",
     "text": [
      "51it [4:16:32, 309.61s/it]"
     ]
    },
    {
     "name": "stdout",
     "output_type": "stream",
     "text": [
      "\n",
      "📊 h: 10, batch_size:256, lr: 0.0001, l2_lambda:1, likelihood\n",
      "\n",
      "🌱 Training ensemble model 1/1\n",
      "Epoch 1.      Train Loss: 22.8367, Val Loss: 23.2866.      Train RMSE: 2781117904.7591, Val RMSE: 4159483.3363\n",
      "Epoch 5.      Train Loss: 13.8523, Val Loss: 14.7054.      Train RMSE: 5501906349.8639, Val RMSE: 7832.6187\n",
      "Epoch 10.      Train Loss: 8.1111, Val Loss: 9.0528.      Train RMSE: 2857236.8153, Val RMSE: 15.1686\n",
      "Epoch 15.      Train Loss: 5.3282, Val Loss: 6.2794.      Train RMSE: 101.7601, Val RMSE: 14.3704\n",
      "Epoch 20.      Train Loss: 4.0240, Val Loss: 4.9711.      Train RMSE: 17.0540, Val RMSE: 14.4355\n",
      "Epoch 25.      Train Loss: 3.4912, Val Loss: 4.4345.      Train RMSE: 16.7664, Val RMSE: 14.4787\n",
      "Epoch 30.      Train Loss: 3.3280, Val Loss: 4.2682.      Train RMSE: 16.8396, Val RMSE: 14.5118\n",
      "Epoch 35.      Train Loss: 3.2986, Val Loss: 4.2373.      Train RMSE: 16.8605, Val RMSE: 14.5251\n",
      "Epoch 40.      Train Loss: 3.2969, Val Loss: 4.2363.      Train RMSE: 16.8617, Val RMSE: 14.5260\n"
     ]
    },
    {
     "name": "stderr",
     "output_type": "stream",
     "text": [
      "52it [4:24:59, 369.08s/it]"
     ]
    },
    {
     "name": "stdout",
     "output_type": "stream",
     "text": [
      "\n",
      "📊 h: 10, batch_size:256, lr: 0.0001, l2_lambda:3, RMSE\n",
      "\n",
      "🌱 Training ensemble model 1/1\n",
      "Epoch 1.      Train Loss: 60.9012, Val Loss: 61.3282.      Train RMSE: 2215695922.9334, Val RMSE: 3756913.6588\n",
      "Epoch 5.      Train Loss: 34.8865, Val Loss: 35.7535.      Train RMSE: 2571885792.9073, Val RMSE: 4740.7225\n",
      "Epoch 10.      Train Loss: 17.8706, Val Loss: 18.8623.      Train RMSE: 12373.3145, Val RMSE: 14.5498\n",
      "Epoch 15.      Train Loss: 9.5453, Val Loss: 10.5528.      Train RMSE: 16.8613, Val RMSE: 14.5632\n",
      "Early stopping triggered.\n"
     ]
    },
    {
     "name": "stderr",
     "output_type": "stream",
     "text": [
      "53it [4:28:15, 317.11s/it]"
     ]
    },
    {
     "name": "stdout",
     "output_type": "stream",
     "text": [
      "\n",
      "📊 h: 10, batch_size:256, lr: 0.0001, l2_lambda:3, likelihood\n",
      "\n",
      "🌱 Training ensemble model 1/1\n",
      "Epoch 1.      Train Loss: 60.9012, Val Loss: 61.3282.      Train RMSE: 2215695922.9334, Val RMSE: 3756913.6588\n",
      "Epoch 5.      Train Loss: 34.8865, Val Loss: 35.7535.      Train RMSE: 2571885792.9073, Val RMSE: 4740.7225\n",
      "Epoch 10.      Train Loss: 17.8706, Val Loss: 18.8623.      Train RMSE: 12373.3145, Val RMSE: 14.5498\n",
      "Epoch 15.      Train Loss: 9.5453, Val Loss: 10.5528.      Train RMSE: 16.8613, Val RMSE: 14.5632\n",
      "Epoch 20.      Train Loss: 5.6256, Val Loss: 6.6419.      Train RMSE: 16.8999, Val RMSE: 14.5718\n",
      "Epoch 25.      Train Loss: 4.0144, Val Loss: 5.0355.      Train RMSE: 16.9101, Val RMSE: 14.5731\n",
      "Epoch 30.      Train Loss: 3.5122, Val Loss: 4.5328.      Train RMSE: 16.9134, Val RMSE: 14.5738\n",
      "Epoch 35.      Train Loss: 3.4280, Val Loss: 4.4476.      Train RMSE: 16.9136, Val RMSE: 14.5737\n",
      "Epoch 40.      Train Loss: 3.4252, Val Loss: 4.4455.      Train RMSE: 16.9137, Val RMSE: 14.5738\n"
     ]
    },
    {
     "name": "stderr",
     "output_type": "stream",
     "text": [
      "54it [4:37:10, 382.36s/it]"
     ]
    },
    {
     "name": "stdout",
     "output_type": "stream",
     "text": [
      "\n",
      "📊 h: 10, batch_size:256, lr: 0.0001, l2_lambda:5, RMSE\n",
      "\n",
      "🌱 Training ensemble model 1/1\n",
      "Epoch 1.      Train Loss: 98.9646, Val Loss: 99.3876.      Train RMSE: 2132930914.6495, Val RMSE: 3690688.9184\n",
      "Epoch 5.      Train Loss: 55.8694, Val Loss: 56.7444.      Train RMSE: 2533614260.4735, Val RMSE: 4251.7886\n",
      "Epoch 10.      Train Loss: 27.5257, Val Loss: 28.5299.      Train RMSE: 3378.1899, Val RMSE: 14.5726\n",
      "Epoch 15.      Train Loss: 13.6371, Val Loss: 14.6556.      Train RMSE: 16.9032, Val RMSE: 14.5846\n",
      "Early stopping triggered.\n"
     ]
    },
    {
     "name": "stderr",
     "output_type": "stream",
     "text": [
      "55it [4:40:09, 321.45s/it]"
     ]
    },
    {
     "name": "stdout",
     "output_type": "stream",
     "text": [
      "\n",
      "📊 h: 10, batch_size:256, lr: 0.0001, l2_lambda:5, likelihood\n",
      "\n",
      "🌱 Training ensemble model 1/1\n",
      "Epoch 1.      Train Loss: 98.9646, Val Loss: 99.3876.      Train RMSE: 2132930914.6495, Val RMSE: 3690688.9184\n",
      "Epoch 5.      Train Loss: 55.8694, Val Loss: 56.7444.      Train RMSE: 2533614260.4735, Val RMSE: 4251.7886\n",
      "Epoch 10.      Train Loss: 27.5257, Val Loss: 28.5299.      Train RMSE: 3378.1899, Val RMSE: 14.5726\n",
      "Epoch 15.      Train Loss: 13.6371, Val Loss: 14.6556.      Train RMSE: 16.9032, Val RMSE: 14.5846\n",
      "Epoch 20.      Train Loss: 7.1102, Val Loss: 8.1421.      Train RMSE: 16.9202, Val RMSE: 14.5861\n",
      "Epoch 25.      Train Loss: 4.4356, Val Loss: 5.4739.      Train RMSE: 16.9241, Val RMSE: 14.5849\n",
      "Epoch 30.      Train Loss: 3.6022, Val Loss: 4.6406.      Train RMSE: 16.9256, Val RMSE: 14.5850\n",
      "Epoch 35.      Train Loss: 3.4618, Val Loss: 4.4992.      Train RMSE: 16.9255, Val RMSE: 14.5847\n",
      "Epoch 40.      Train Loss: 3.4578, Val Loss: 4.4960.      Train RMSE: 16.9256, Val RMSE: 14.5847\n"
     ]
    },
    {
     "name": "stderr",
     "output_type": "stream",
     "text": [
      "56it [4:58:30, 555.26s/it]"
     ]
    },
    {
     "name": "stdout",
     "output_type": "stream",
     "text": [
      "\n",
      "📊 h: 10, batch_size:256, lr: 0.001, l2_lambda:0.1, RMSE\n",
      "\n",
      "🌱 Training ensemble model 1/1\n",
      "Epoch 1.      Train Loss: 3.5072, Val Loss: 3.6584.      Train RMSE: 35299990080.5313, Val RMSE: 6860.4574\n",
      "Epoch 5.      Train Loss: 2.6232, Val Loss: 2.7445.      Train RMSE: 4828405.0805, Val RMSE: 5127.0974\n",
      "Epoch 10.      Train Loss: 2.6214, Val Loss: 2.7317.      Train RMSE: 6453402.0369, Val RMSE: 3763.0015\n",
      "Early stopping triggered.\n"
     ]
    },
    {
     "name": "stderr",
     "output_type": "stream",
     "text": [
      "57it [5:06:05, 525.06s/it]"
     ]
    },
    {
     "name": "stdout",
     "output_type": "stream",
     "text": [
      "\n",
      "📊 h: 10, batch_size:256, lr: 0.001, l2_lambda:0.1, likelihood\n",
      "\n",
      "🌱 Training ensemble model 1/1\n",
      "Epoch 1.      Train Loss: 3.5072, Val Loss: 3.6584.      Train RMSE: 35299990080.5313, Val RMSE: 6860.4574\n",
      "Epoch 5.      Train Loss: 2.6232, Val Loss: 2.7445.      Train RMSE: 4828405.0805, Val RMSE: 5127.0974\n",
      "Epoch 10.      Train Loss: 2.6214, Val Loss: 2.7317.      Train RMSE: 6453402.0369, Val RMSE: 3763.0015\n",
      "Early stopping triggered.\n"
     ]
    },
    {
     "name": "stderr",
     "output_type": "stream",
     "text": [
      "58it [5:12:51, 489.39s/it]"
     ]
    },
    {
     "name": "stdout",
     "output_type": "stream",
     "text": [
      "\n",
      "📊 h: 10, batch_size:256, lr: 0.001, l2_lambda:1, RMSE\n",
      "\n",
      "🌱 Training ensemble model 1/1\n",
      "Epoch 1.      Train Loss: 8.5327, Val Loss: 9.4707.      Train RMSE: 6421883.7228, Val RMSE: 27.3454\n",
      "Epoch 5.      Train Loss: 3.3064, Val Loss: 4.2432.      Train RMSE: 16.8494, Val RMSE: 14.5177\n",
      "Early stopping triggered.\n"
     ]
    },
    {
     "name": "stderr",
     "output_type": "stream",
     "text": [
      "59it [5:16:00, 399.45s/it]"
     ]
    },
    {
     "name": "stdout",
     "output_type": "stream",
     "text": [
      "\n",
      "📊 h: 10, batch_size:256, lr: 0.001, l2_lambda:1, likelihood\n",
      "\n",
      "🌱 Training ensemble model 1/1\n",
      "Epoch 1.      Train Loss: 8.5327, Val Loss: 9.4707.      Train RMSE: 6421883.7228, Val RMSE: 27.3454\n",
      "Epoch 5.      Train Loss: 3.3064, Val Loss: 4.2432.      Train RMSE: 16.8494, Val RMSE: 14.5177\n",
      "Epoch 10.      Train Loss: 3.2973, Val Loss: 4.2358.      Train RMSE: 16.8623, Val RMSE: 14.5266\n",
      "Epoch 15.      Train Loss: 3.2964, Val Loss: 4.2390.      Train RMSE: 16.8643, Val RMSE: 14.5283\n",
      "Early stopping triggered.\n"
     ]
    },
    {
     "name": "stderr",
     "output_type": "stream",
     "text": [
      "60it [5:21:48, 384.06s/it]"
     ]
    },
    {
     "name": "stdout",
     "output_type": "stream",
     "text": [
      "\n",
      "📊 h: 10, batch_size:256, lr: 0.001, l2_lambda:3, RMSE\n",
      "\n",
      "🌱 Training ensemble model 1/1\n",
      "Epoch 1.      Train Loss: 19.0289, Val Loss: 20.0156.      Train RMSE: 36173.8009, Val RMSE: 31.2079\n",
      "Epoch 5.      Train Loss: 3.4417, Val Loss: 4.4604.      Train RMSE: 16.9127, Val RMSE: 14.5729\n",
      "Early stopping triggered.\n"
     ]
    },
    {
     "name": "stderr",
     "output_type": "stream",
     "text": [
      "61it [5:25:04, 327.52s/it]"
     ]
    },
    {
     "name": "stdout",
     "output_type": "stream",
     "text": [
      "\n",
      "📊 h: 10, batch_size:256, lr: 0.001, l2_lambda:3, likelihood\n",
      "\n",
      "🌱 Training ensemble model 1/1\n",
      "Epoch 1.      Train Loss: 19.0289, Val Loss: 20.0156.      Train RMSE: 36173.8009, Val RMSE: 31.2079\n",
      "Epoch 5.      Train Loss: 3.4417, Val Loss: 4.4604.      Train RMSE: 16.9127, Val RMSE: 14.5729\n",
      "Epoch 10.      Train Loss: 3.4257, Val Loss: 4.4453.      Train RMSE: 16.9135, Val RMSE: 14.5736\n",
      "Epoch 15.      Train Loss: 3.4248, Val Loss: 4.4483.      Train RMSE: 16.9149, Val RMSE: 14.5749\n",
      "Early stopping triggered.\n"
     ]
    },
    {
     "name": "stderr",
     "output_type": "stream",
     "text": [
      "62it [5:35:32, 417.75s/it]"
     ]
    },
    {
     "name": "stdout",
     "output_type": "stream",
     "text": [
      "\n",
      "📊 h: 10, batch_size:256, lr: 0.001, l2_lambda:5, RMSE\n",
      "\n",
      "🌱 Training ensemble model 1/1\n",
      "Epoch 1.      Train Loss: 29.4278, Val Loss: 30.4283.      Train RMSE: 11562.0375, Val RMSE: 32.7399\n",
      "Epoch 5.      Train Loss: 3.4841, Val Loss: 4.5213.      Train RMSE: 16.9248, Val RMSE: 14.5841\n",
      "Epoch 10.      Train Loss: 3.4584, Val Loss: 4.4958.      Train RMSE: 16.9252, Val RMSE: 14.5844\n",
      "Early stopping triggered.\n"
     ]
    },
    {
     "name": "stderr",
     "output_type": "stream",
     "text": [
      "63it [5:39:38, 366.25s/it]"
     ]
    },
    {
     "name": "stdout",
     "output_type": "stream",
     "text": [
      "\n",
      "📊 h: 10, batch_size:256, lr: 0.001, l2_lambda:5, likelihood\n",
      "\n",
      "🌱 Training ensemble model 1/1\n",
      "Epoch 1.      Train Loss: 29.4278, Val Loss: 30.4283.      Train RMSE: 11562.0375, Val RMSE: 32.7399\n",
      "Epoch 5.      Train Loss: 3.4841, Val Loss: 4.5213.      Train RMSE: 16.9248, Val RMSE: 14.5841\n",
      "Epoch 10.      Train Loss: 3.4584, Val Loss: 4.4958.      Train RMSE: 16.9252, Val RMSE: 14.5844\n",
      "Epoch 15.      Train Loss: 3.4574, Val Loss: 4.4981.      Train RMSE: 16.9266, Val RMSE: 14.5857\n",
      "Early stopping triggered.\n"
     ]
    },
    {
     "name": "stderr",
     "output_type": "stream",
     "text": [
      "64it [5:42:56, 315.78s/it]"
     ]
    },
    {
     "name": "stdout",
     "output_type": "stream",
     "text": [
      "\n",
      "📊 h: 25, batch_size:128, lr: 0.0001, l2_lambda:0.1, RMSE\n",
      "\n",
      "🌱 Training ensemble model 1/1\n",
      "Epoch 1.      Train Loss: 5.0137, Val Loss: 5.7368.      Train RMSE: 66934088352.5270, Val RMSE: 4249.0036\n",
      "Epoch 5.      Train Loss: 3.4476, Val Loss: 3.1026.      Train RMSE: 11605118.4520, Val RMSE: 3418.3151\n",
      "Early stopping triggered.\n"
     ]
    },
    {
     "name": "stderr",
     "output_type": "stream",
     "text": [
      "65it [5:44:50, 255.25s/it]"
     ]
    },
    {
     "name": "stdout",
     "output_type": "stream",
     "text": [
      "\n",
      "📊 h: 25, batch_size:128, lr: 0.0001, l2_lambda:0.1, likelihood\n",
      "\n",
      "🌱 Training ensemble model 1/1\n",
      "Epoch 1.      Train Loss: 5.0137, Val Loss: 5.7368.      Train RMSE: 66934088352.5270, Val RMSE: 4249.0036\n",
      "Epoch 5.      Train Loss: 3.4476, Val Loss: 3.1026.      Train RMSE: 11605118.4520, Val RMSE: 3418.3151\n",
      "Epoch 10.      Train Loss: 2.9398, Val Loss: 2.5250.      Train RMSE: 101892.1255, Val RMSE: 2258.2007\n",
      "Epoch 15.      Train Loss: 2.7955, Val Loss: 2.3459.      Train RMSE: 14338.0557, Val RMSE: 2097.9010\n",
      "Epoch 20.      Train Loss: 2.7231, Val Loss: 2.2510.      Train RMSE: 1371.1926, Val RMSE: 2149.2714\n",
      "Epoch 25.      Train Loss: 2.6847, Val Loss: 2.2009.      Train RMSE: 1114.6836, Val RMSE: 2064.1250\n",
      "Epoch 30.      Train Loss: 2.6624, Val Loss: 2.1711.      Train RMSE: 1144.0945, Val RMSE: 2167.4091\n",
      "Epoch 35.      Train Loss: 2.6476, Val Loss: 2.1556.      Train RMSE: 1065.3790, Val RMSE: 1817.7352\n",
      "Epoch 40.      Train Loss: 2.6361, Val Loss: 2.1441.      Train RMSE: 1074.3104, Val RMSE: 2078.7126\n"
     ]
    },
    {
     "name": "stderr",
     "output_type": "stream",
     "text": [
      "66it [5:54:54, 359.87s/it]"
     ]
    },
    {
     "name": "stdout",
     "output_type": "stream",
     "text": [
      "\n",
      "📊 h: 25, batch_size:128, lr: 0.0001, l2_lambda:1, RMSE\n",
      "\n",
      "🌱 Training ensemble model 1/1\n",
      "Epoch 1.      Train Loss: 19.4357, Val Loss: 20.3547.      Train RMSE: 53435625226.0227, Val RMSE: 22808.0267\n",
      "Epoch 5.      Train Loss: 6.9526, Val Loss: 7.9294.      Train RMSE: 4294581614.6832, Val RMSE: 267.4795\n",
      "Epoch 10.      Train Loss: 3.7308, Val Loss: 4.6741.      Train RMSE: 35.7561, Val RMSE: 14.3669\n",
      "Epoch 15.      Train Loss: 3.3037, Val Loss: 4.2504.      Train RMSE: 16.6740, Val RMSE: 14.4350\n",
      "Early stopping triggered.\n"
     ]
    },
    {
     "name": "stderr",
     "output_type": "stream",
     "text": [
      "67it [5:58:48, 321.84s/it]"
     ]
    },
    {
     "name": "stdout",
     "output_type": "stream",
     "text": [
      "\n",
      "📊 h: 25, batch_size:128, lr: 0.0001, l2_lambda:1, likelihood\n",
      "\n",
      "🌱 Training ensemble model 1/1\n",
      "Epoch 1.      Train Loss: 19.4357, Val Loss: 20.3547.      Train RMSE: 53435625226.0227, Val RMSE: 22808.0267\n",
      "Epoch 5.      Train Loss: 6.9526, Val Loss: 7.9294.      Train RMSE: 4294581614.6832, Val RMSE: 267.4795\n",
      "Epoch 10.      Train Loss: 3.7308, Val Loss: 4.6741.      Train RMSE: 35.7561, Val RMSE: 14.3669\n",
      "Epoch 15.      Train Loss: 3.3037, Val Loss: 4.2504.      Train RMSE: 16.6740, Val RMSE: 14.4350\n",
      "Epoch 20.      Train Loss: 3.2964, Val Loss: 4.2389.      Train RMSE: 16.7771, Val RMSE: 14.4769\n",
      "Epoch 25.      Train Loss: 3.2965, Val Loss: 4.2390.      Train RMSE: 16.7848, Val RMSE: 14.4801\n",
      "Early stopping triggered.\n"
     ]
    },
    {
     "name": "stderr",
     "output_type": "stream",
     "text": [
      "68it [6:05:03, 337.83s/it]"
     ]
    },
    {
     "name": "stdout",
     "output_type": "stream",
     "text": [
      "\n",
      "📊 h: 25, batch_size:128, lr: 0.0001, l2_lambda:3, RMSE\n",
      "\n",
      "🌱 Training ensemble model 1/1\n",
      "Epoch 1.      Train Loss: 51.0518, Val Loss: 52.0043.      Train RMSE: 49075255313.1890, Val RMSE: 13753.3845\n",
      "Epoch 5.      Train Loss: 14.3006, Val Loss: 15.3844.      Train RMSE: 938793.1183, Val RMSE: 44.0121\n",
      "Epoch 10.      Train Loss: 4.8187, Val Loss: 5.8490.      Train RMSE: 16.8847, Val RMSE: 14.5641\n",
      "Early stopping triggered.\n"
     ]
    },
    {
     "name": "stderr",
     "output_type": "stream",
     "text": [
      "69it [6:08:00, 289.57s/it]"
     ]
    },
    {
     "name": "stdout",
     "output_type": "stream",
     "text": [
      "\n",
      "📊 h: 25, batch_size:128, lr: 0.0001, l2_lambda:3, likelihood\n",
      "\n",
      "🌱 Training ensemble model 1/1\n",
      "Epoch 1.      Train Loss: 51.0518, Val Loss: 52.0043.      Train RMSE: 49075255313.1890, Val RMSE: 13753.3845\n",
      "Epoch 5.      Train Loss: 14.3006, Val Loss: 15.3844.      Train RMSE: 938793.1183, Val RMSE: 44.0121\n",
      "Epoch 10.      Train Loss: 4.8187, Val Loss: 5.8490.      Train RMSE: 16.8847, Val RMSE: 14.5641\n",
      "Epoch 15.      Train Loss: 3.4630, Val Loss: 4.4855.      Train RMSE: 16.9139, Val RMSE: 14.5712\n",
      "Epoch 20.      Train Loss: 3.4257, Val Loss: 4.4466.      Train RMSE: 16.9155, Val RMSE: 14.5720\n",
      "Epoch 25.      Train Loss: 3.4258, Val Loss: 4.4469.      Train RMSE: 16.9150, Val RMSE: 14.5714\n",
      "Early stopping triggered.\n"
     ]
    },
    {
     "name": "stderr",
     "output_type": "stream",
     "text": [
      "70it [6:14:07, 312.93s/it]"
     ]
    },
    {
     "name": "stdout",
     "output_type": "stream",
     "text": [
      "\n",
      "📊 h: 25, batch_size:128, lr: 0.0001, l2_lambda:5, RMSE\n",
      "\n",
      "🌱 Training ensemble model 1/1\n",
      "Epoch 1.      Train Loss: 82.8321, Val Loss: 83.7953.      Train RMSE: 49449036200.4928, Val RMSE: 13602.5827\n",
      "Epoch 5.      Train Loss: 21.6015, Val Loss: 22.7061.      Train RMSE: 192482.8382, Val RMSE: 30.2231\n",
      "Epoch 10.      Train Loss: 5.7813, Val Loss: 6.8284.      Train RMSE: 16.9147, Val RMSE: 14.5802\n",
      "Early stopping triggered.\n"
     ]
    },
    {
     "name": "stderr",
     "output_type": "stream",
     "text": [
      "71it [6:16:41, 265.14s/it]"
     ]
    },
    {
     "name": "stdout",
     "output_type": "stream",
     "text": [
      "\n",
      "📊 h: 25, batch_size:128, lr: 0.0001, l2_lambda:5, likelihood\n",
      "\n",
      "🌱 Training ensemble model 1/1\n",
      "Epoch 1.      Train Loss: 82.8321, Val Loss: 83.7953.      Train RMSE: 49449036200.4928, Val RMSE: 13602.5827\n",
      "Epoch 5.      Train Loss: 21.6015, Val Loss: 22.7061.      Train RMSE: 192482.8382, Val RMSE: 30.2231\n",
      "Epoch 10.      Train Loss: 5.7813, Val Loss: 6.8284.      Train RMSE: 16.9147, Val RMSE: 14.5802\n",
      "Epoch 15.      Train Loss: 3.5197, Val Loss: 4.5598.      Train RMSE: 16.9264, Val RMSE: 14.5824\n",
      "Epoch 20.      Train Loss: 3.4584, Val Loss: 4.4973.      Train RMSE: 16.9273, Val RMSE: 14.5829\n",
      "Epoch 25.      Train Loss: 3.4585, Val Loss: 4.4975.      Train RMSE: 16.9270, Val RMSE: 14.5826\n",
      "Early stopping triggered.\n"
     ]
    },
    {
     "name": "stderr",
     "output_type": "stream",
     "text": [
      "72it [6:22:06, 283.21s/it]"
     ]
    },
    {
     "name": "stdout",
     "output_type": "stream",
     "text": [
      "\n",
      "📊 h: 25, batch_size:128, lr: 0.001, l2_lambda:0.1, RMSE\n",
      "\n",
      "🌱 Training ensemble model 1/1\n",
      "Epoch 1.      Train Loss: 2.9282, Val Loss: 2.5218.      Train RMSE: 80885.6607, Val RMSE: 1261.5621\n",
      "Epoch 5.      Train Loss: 2.5854, Val Loss: 2.1224.      Train RMSE: 415226.9691, Val RMSE: 21078.8470\n",
      "Early stopping triggered.\n"
     ]
    },
    {
     "name": "stderr",
     "output_type": "stream",
     "text": [
      "73it [6:23:36, 225.11s/it]"
     ]
    },
    {
     "name": "stdout",
     "output_type": "stream",
     "text": [
      "\n",
      "📊 h: 25, batch_size:128, lr: 0.001, l2_lambda:0.1, likelihood\n",
      "\n",
      "🌱 Training ensemble model 1/1\n",
      "Epoch 1.      Train Loss: 2.9282, Val Loss: 2.5218.      Train RMSE: 80885.6607, Val RMSE: 1261.5621\n",
      "Epoch 5.      Train Loss: 2.5854, Val Loss: 2.1224.      Train RMSE: 415226.9691, Val RMSE: 21078.8470\n",
      "Epoch 10.      Train Loss: 2.5743, Val Loss: 2.1281.      Train RMSE: 655271.9441, Val RMSE: 8783.7869\n",
      "Early stopping triggered.\n"
     ]
    },
    {
     "name": "stderr",
     "output_type": "stream",
     "text": [
      "74it [6:26:02, 201.43s/it]"
     ]
    },
    {
     "name": "stdout",
     "output_type": "stream",
     "text": [
      "\n",
      "📊 h: 25, batch_size:128, lr: 0.001, l2_lambda:1, RMSE\n",
      "\n",
      "🌱 Training ensemble model 1/1\n",
      "Epoch 1.      Train Loss: 4.1188, Val Loss: 5.0711.      Train RMSE: 404.7309, Val RMSE: 14.5443\n",
      "Epoch 5.      Train Loss: 3.2966, Val Loss: 4.2411.      Train RMSE: 16.7906, Val RMSE: 14.4832\n",
      "Early stopping triggered.\n"
     ]
    },
    {
     "name": "stderr",
     "output_type": "stream",
     "text": [
      "75it [6:27:34, 168.53s/it]"
     ]
    },
    {
     "name": "stdout",
     "output_type": "stream",
     "text": [
      "\n",
      "📊 h: 25, batch_size:128, lr: 0.001, l2_lambda:1, likelihood\n",
      "\n",
      "🌱 Training ensemble model 1/1\n",
      "Epoch 1.      Train Loss: 4.1188, Val Loss: 5.0711.      Train RMSE: 404.7309, Val RMSE: 14.5443\n",
      "Epoch 5.      Train Loss: 3.2966, Val Loss: 4.2411.      Train RMSE: 16.7906, Val RMSE: 14.4832\n",
      "Epoch 10.      Train Loss: 3.2969, Val Loss: 4.2396.      Train RMSE: 16.7931, Val RMSE: 14.4833\n",
      "Early stopping triggered.\n"
     ]
    },
    {
     "name": "stderr",
     "output_type": "stream",
     "text": [
      "76it [6:30:29, 170.65s/it]"
     ]
    },
    {
     "name": "stdout",
     "output_type": "stream",
     "text": [
      "\n",
      "📊 h: 25, batch_size:128, lr: 0.001, l2_lambda:3, RMSE\n",
      "\n",
      "🌱 Training ensemble model 1/1\n",
      "Epoch 1.      Train Loss: 5.9966, Val Loss: 7.0380.      Train RMSE: 16.8716, Val RMSE: 14.5595\n",
      "Epoch 5.      Train Loss: 3.4259, Val Loss: 4.4491.      Train RMSE: 16.9150, Val RMSE: 14.5715\n",
      "Early stopping triggered.\n"
     ]
    },
    {
     "name": "stderr",
     "output_type": "stream",
     "text": [
      "77it [6:31:49, 143.30s/it]"
     ]
    },
    {
     "name": "stdout",
     "output_type": "stream",
     "text": [
      "\n",
      "📊 h: 25, batch_size:128, lr: 0.001, l2_lambda:3, likelihood\n",
      "\n",
      "🌱 Training ensemble model 1/1\n",
      "Epoch 1.      Train Loss: 5.9966, Val Loss: 7.0380.      Train RMSE: 16.8716, Val RMSE: 14.5595\n",
      "Epoch 5.      Train Loss: 3.4259, Val Loss: 4.4491.      Train RMSE: 16.9150, Val RMSE: 14.5715\n",
      "Epoch 10.      Train Loss: 3.4263, Val Loss: 4.4457.      Train RMSE: 16.9136, Val RMSE: 14.5702\n",
      "Epoch 15.      Train Loss: 3.4259, Val Loss: 4.4478.      Train RMSE: 16.9149, Val RMSE: 14.5714\n",
      "Early stopping triggered.\n"
     ]
    },
    {
     "name": "stderr",
     "output_type": "stream",
     "text": [
      "78it [6:35:23, 164.62s/it]"
     ]
    },
    {
     "name": "stdout",
     "output_type": "stream",
     "text": [
      "\n",
      "📊 h: 25, batch_size:128, lr: 0.001, l2_lambda:5, RMSE\n",
      "\n",
      "🌱 Training ensemble model 1/1\n",
      "Epoch 1.      Train Loss: 7.7368, Val Loss: 8.7948.      Train RMSE: 16.9071, Val RMSE: 14.5798\n",
      "Epoch 5.      Train Loss: 3.4586, Val Loss: 4.4997.      Train RMSE: 16.9263, Val RMSE: 14.5819\n",
      "Early stopping triggered.\n"
     ]
    },
    {
     "name": "stderr",
     "output_type": "stream",
     "text": [
      "79it [6:37:59, 161.93s/it]"
     ]
    },
    {
     "name": "stdout",
     "output_type": "stream",
     "text": [
      "\n",
      "📊 h: 25, batch_size:128, lr: 0.001, l2_lambda:5, likelihood\n",
      "\n",
      "🌱 Training ensemble model 1/1\n",
      "Epoch 1.      Train Loss: 7.7368, Val Loss: 8.7948.      Train RMSE: 16.9071, Val RMSE: 14.5798\n",
      "Epoch 5.      Train Loss: 3.4586, Val Loss: 4.4997.      Train RMSE: 16.9263, Val RMSE: 14.5819\n",
      "Epoch 10.      Train Loss: 3.4591, Val Loss: 4.4964.      Train RMSE: 16.9253, Val RMSE: 14.5810\n",
      "Epoch 15.      Train Loss: 3.4585, Val Loss: 4.4977.      Train RMSE: 16.9270, Val RMSE: 14.5826\n",
      "Early stopping triggered.\n"
     ]
    },
    {
     "name": "stderr",
     "output_type": "stream",
     "text": [
      "80it [6:46:20, 263.76s/it]"
     ]
    },
    {
     "name": "stdout",
     "output_type": "stream",
     "text": [
      "\n",
      "📊 h: 25, batch_size:256, lr: 0.0001, l2_lambda:0.1, RMSE\n",
      "\n",
      "🌱 Training ensemble model 1/1\n",
      "Epoch 1.      Train Loss: 5.3270, Val Loss: 6.0908.      Train RMSE: 74493499163.6881, Val RMSE: 38608.7658\n",
      "Epoch 5.      Train Loss: 4.0745, Val Loss: 3.9466.      Train RMSE: 45556272590.0099, Val RMSE: 2356.8253\n",
      "Early stopping triggered.\n"
     ]
    },
    {
     "name": "stderr",
     "output_type": "stream",
     "text": [
      "81it [6:49:23, 239.53s/it]"
     ]
    },
    {
     "name": "stdout",
     "output_type": "stream",
     "text": [
      "\n",
      "📊 h: 25, batch_size:256, lr: 0.0001, l2_lambda:0.1, likelihood\n",
      "\n",
      "🌱 Training ensemble model 1/1\n",
      "Epoch 1.      Train Loss: 5.3270, Val Loss: 6.0908.      Train RMSE: 74493499163.6881, Val RMSE: 38608.7658\n",
      "Epoch 5.      Train Loss: 4.0745, Val Loss: 3.9466.      Train RMSE: 45556272590.0099, Val RMSE: 2356.8253\n",
      "Epoch 10.      Train Loss: 3.3833, Val Loss: 3.0252.      Train RMSE: 1536079.2726, Val RMSE: 2844.5684\n",
      "Epoch 15.      Train Loss: 3.0530, Val Loss: 2.6532.      Train RMSE: 57775.0850, Val RMSE: 2119.3707\n",
      "Epoch 20.      Train Loss: 2.8888, Val Loss: 2.4601.      Train RMSE: 103360.3616, Val RMSE: 1776.7667\n",
      "Epoch 25.      Train Loss: 2.8048, Val Loss: 2.3553.      Train RMSE: 55903.8786, Val RMSE: 1671.6754\n",
      "Epoch 30.      Train Loss: 2.7545, Val Loss: 2.2860.      Train RMSE: 9451.3186, Val RMSE: 1738.7555\n",
      "Epoch 35.      Train Loss: 2.7199, Val Loss: 2.2429.      Train RMSE: 1596.6268, Val RMSE: 1893.7435\n",
      "Epoch 40.      Train Loss: 2.6942, Val Loss: 2.2090.      Train RMSE: 1133.3112, Val RMSE: 2066.1228\n"
     ]
    },
    {
     "name": "stderr",
     "output_type": "stream",
     "text": [
      "82it [7:02:51, 410.11s/it]"
     ]
    },
    {
     "name": "stdout",
     "output_type": "stream",
     "text": [
      "\n",
      "📊 h: 25, batch_size:256, lr: 0.0001, l2_lambda:1, RMSE\n",
      "\n",
      "🌱 Training ensemble model 1/1\n",
      "Epoch 1.      Train Loss: 22.6507, Val Loss: 23.5169.      Train RMSE: 71641627645.7561, Val RMSE: 33075.3225\n",
      "Epoch 5.      Train Loss: 12.5474, Val Loss: 13.5321.      Train RMSE: 32240194799.0147, Val RMSE: 3994.8748\n",
      "Epoch 10.      Train Loss: 6.9038, Val Loss: 7.8809.      Train RMSE: 616108282.5112, Val RMSE: 164.6670\n",
      "Epoch 15.      Train Loss: 4.6267, Val Loss: 5.5797.      Train RMSE: 351543.7101, Val RMSE: 14.9378\n",
      "Epoch 20.      Train Loss: 3.7185, Val Loss: 4.6599.      Train RMSE: 39.7814, Val RMSE: 14.3625\n",
      "Epoch 25.      Train Loss: 3.3875, Val Loss: 4.3312.      Train RMSE: 17.4010, Val RMSE: 14.3845\n",
      "Early stopping triggered.\n"
     ]
    },
    {
     "name": "stderr",
     "output_type": "stream",
     "text": [
      "83it [7:09:56, 414.61s/it]"
     ]
    },
    {
     "name": "stdout",
     "output_type": "stream",
     "text": [
      "\n",
      "📊 h: 25, batch_size:256, lr: 0.0001, l2_lambda:1, likelihood\n",
      "\n",
      "🌱 Training ensemble model 1/1\n",
      "Epoch 1.      Train Loss: 22.6507, Val Loss: 23.5169.      Train RMSE: 71641627645.7561, Val RMSE: 33075.3225\n",
      "Epoch 5.      Train Loss: 12.5474, Val Loss: 13.5321.      Train RMSE: 32240194799.0147, Val RMSE: 3994.8748\n",
      "Epoch 10.      Train Loss: 6.9038, Val Loss: 7.8809.      Train RMSE: 616108282.5112, Val RMSE: 164.6670\n",
      "Epoch 15.      Train Loss: 4.6267, Val Loss: 5.5797.      Train RMSE: 351543.7101, Val RMSE: 14.9378\n",
      "Epoch 20.      Train Loss: 3.7185, Val Loss: 4.6599.      Train RMSE: 39.7814, Val RMSE: 14.3625\n",
      "Epoch 25.      Train Loss: 3.3875, Val Loss: 4.3312.      Train RMSE: 17.4010, Val RMSE: 14.3845\n",
      "Epoch 30.      Train Loss: 3.3040, Val Loss: 4.2484.      Train RMSE: 16.6774, Val RMSE: 14.4361\n",
      "Epoch 35.      Train Loss: 3.2973, Val Loss: 4.2396.      Train RMSE: 16.7588, Val RMSE: 14.4685\n",
      "Epoch 40.      Train Loss: 3.2963, Val Loss: 4.2386.      Train RMSE: 16.7788, Val RMSE: 14.4775\n"
     ]
    },
    {
     "name": "stderr",
     "output_type": "stream",
     "text": [
      "84it [7:19:07, 455.46s/it]"
     ]
    },
    {
     "name": "stdout",
     "output_type": "stream",
     "text": [
      "\n",
      "📊 h: 25, batch_size:256, lr: 0.0001, l2_lambda:3, RMSE\n",
      "\n",
      "🌱 Training ensemble model 1/1\n",
      "Epoch 1.      Train Loss: 60.9484, Val Loss: 61.8272.      Train RMSE: 71620726615.4911, Val RMSE: 32823.4082\n",
      "Epoch 5.      Train Loss: 30.7513, Val Loss: 31.8118.      Train RMSE: 34143174154.3224, Val RMSE: 90628.4067\n",
      "Early stopping triggered.\n"
     ]
    },
    {
     "name": "stderr",
     "output_type": "stream",
     "text": [
      "85it [7:20:53, 350.60s/it]"
     ]
    },
    {
     "name": "stdout",
     "output_type": "stream",
     "text": [
      "\n",
      "📊 h: 25, batch_size:256, lr: 0.0001, l2_lambda:3, likelihood\n",
      "\n",
      "🌱 Training ensemble model 1/1\n",
      "Epoch 1.      Train Loss: 60.9484, Val Loss: 61.8272.      Train RMSE: 71620726615.4911, Val RMSE: 32823.4082\n",
      "Epoch 5.      Train Loss: 30.7513, Val Loss: 31.8118.      Train RMSE: 34143174154.3224, Val RMSE: 90628.4067\n",
      "Epoch 10.      Train Loss: 14.2729, Val Loss: 15.3544.      Train RMSE: 970253.3065, Val RMSE: 44.4870\n",
      "Epoch 15.      Train Loss: 7.5687, Val Loss: 8.6195.      Train RMSE: 888.3667, Val RMSE: 14.5512\n",
      "Epoch 20.      Train Loss: 4.8094, Val Loss: 5.8389.      Train RMSE: 16.8854, Val RMSE: 14.5644\n",
      "Epoch 25.      Train Loss: 3.7634, Val Loss: 4.7863.      Train RMSE: 16.9063, Val RMSE: 14.5686\n",
      "Epoch 30.      Train Loss: 3.4629, Val Loss: 4.4833.      Train RMSE: 16.9142, Val RMSE: 14.5714\n",
      "Epoch 35.      Train Loss: 3.4273, Val Loss: 4.4473.      Train RMSE: 16.9150, Val RMSE: 14.5715\n",
      "Epoch 40.      Train Loss: 3.4256, Val Loss: 4.4465.      Train RMSE: 16.9152, Val RMSE: 14.5717\n"
     ]
    },
    {
     "name": "stderr",
     "output_type": "stream",
     "text": [
      "86it [7:30:32, 419.06s/it]"
     ]
    },
    {
     "name": "stdout",
     "output_type": "stream",
     "text": [
      "\n",
      "📊 h: 25, batch_size:256, lr: 0.0001, l2_lambda:5, RMSE\n",
      "\n",
      "🌱 Training ensemble model 1/1\n",
      "Epoch 1.      Train Loss: 99.2956, Val Loss: 100.1763.      Train RMSE: 71716395467.4682, Val RMSE: 35734.8225\n",
      "Epoch 5.      Train Loss: 49.0273, Val Loss: 50.1130.      Train RMSE: 35174142557.3451, Val RMSE: 81669.1848\n",
      "Epoch 10.      Train Loss: 21.5645, Val Loss: 22.6669.      Train RMSE: 190998.2829, Val RMSE: 30.1764\n",
      "Epoch 15.      Train Loss: 10.3801, Val Loss: 11.4482.      Train RMSE: 167.5958, Val RMSE: 14.5777\n",
      "Early stopping triggered.\n"
     ]
    },
    {
     "name": "stderr",
     "output_type": "stream",
     "text": [
      "87it [7:34:57, 372.89s/it]"
     ]
    },
    {
     "name": "stdout",
     "output_type": "stream",
     "text": [
      "\n",
      "📊 h: 25, batch_size:256, lr: 0.0001, l2_lambda:5, likelihood\n",
      "\n",
      "🌱 Training ensemble model 1/1\n",
      "Epoch 1.      Train Loss: 99.2956, Val Loss: 100.1763.      Train RMSE: 71716395467.4682, Val RMSE: 35734.8225\n",
      "Epoch 5.      Train Loss: 49.0273, Val Loss: 50.1130.      Train RMSE: 35174142557.3451, Val RMSE: 81669.1848\n",
      "Epoch 10.      Train Loss: 21.5645, Val Loss: 22.6669.      Train RMSE: 190998.2829, Val RMSE: 30.1764\n",
      "Epoch 15.      Train Loss: 10.3801, Val Loss: 11.4482.      Train RMSE: 167.5958, Val RMSE: 14.5777\n",
      "Epoch 20.      Train Loss: 5.7676, Val Loss: 6.8141.      Train RMSE: 16.9152, Val RMSE: 14.5805\n",
      "Epoch 25.      Train Loss: 4.0195, Val Loss: 5.0595.      Train RMSE: 16.9228, Val RMSE: 14.5813\n",
      "Epoch 30.      Train Loss: 3.5191, Val Loss: 4.5572.      Train RMSE: 16.9266, Val RMSE: 14.5826\n",
      "Epoch 35.      Train Loss: 3.4603, Val Loss: 4.4981.      Train RMSE: 16.9269, Val RMSE: 14.5825\n",
      "Epoch 40.      Train Loss: 3.4582, Val Loss: 4.4970.      Train RMSE: 16.9271, Val RMSE: 14.5827\n"
     ]
    },
    {
     "name": "stderr",
     "output_type": "stream",
     "text": [
      "88it [7:44:03, 424.79s/it]"
     ]
    },
    {
     "name": "stdout",
     "output_type": "stream",
     "text": [
      "\n",
      "📊 h: 25, batch_size:256, lr: 0.001, l2_lambda:0.1, RMSE\n",
      "\n",
      "🌱 Training ensemble model 1/1\n",
      "Epoch 1.      Train Loss: 3.3916, Val Loss: 3.0388.      Train RMSE: 7771036.3520, Val RMSE: 2274.8308\n",
      "Epoch 5.      Train Loss: 2.6623, Val Loss: 2.1933.      Train RMSE: 1597.9900, Val RMSE: 3021.2112\n",
      "Early stopping triggered.\n"
     ]
    },
    {
     "name": "stderr",
     "output_type": "stream",
     "text": [
      "89it [7:45:16, 319.34s/it]"
     ]
    },
    {
     "name": "stdout",
     "output_type": "stream",
     "text": [
      "\n",
      "📊 h: 25, batch_size:256, lr: 0.001, l2_lambda:0.1, likelihood\n",
      "\n",
      "🌱 Training ensemble model 1/1\n",
      "Epoch 1.      Train Loss: 3.3916, Val Loss: 3.0388.      Train RMSE: 7771036.3520, Val RMSE: 2274.8308\n",
      "Epoch 5.      Train Loss: 2.6623, Val Loss: 2.1933.      Train RMSE: 1597.9900, Val RMSE: 3021.2112\n",
      "Epoch 10.      Train Loss: 2.5967, Val Loss: 2.1129.      Train RMSE: 930.7926, Val RMSE: 1906.9597\n",
      "Epoch 15.      Train Loss: 2.5941, Val Loss: 2.1165.      Train RMSE: 1563.3826, Val RMSE: 3193.7630\n",
      "Epoch 20.      Train Loss: 2.5908, Val Loss: 2.1004.      Train RMSE: 1261.6273, Val RMSE: 2534.6807\n",
      "Epoch 25.      Train Loss: 2.5833, Val Loss: 2.1123.      Train RMSE: 8830.4677, Val RMSE: 1080.6973\n",
      "Epoch 30.      Train Loss: 2.5752, Val Loss: 2.0865.      Train RMSE: 578771.7276, Val RMSE: 24825.5030\n",
      "Early stopping triggered.\n"
     ]
    },
    {
     "name": "stderr",
     "output_type": "stream",
     "text": [
      "90it [7:50:29, 317.49s/it]"
     ]
    },
    {
     "name": "stdout",
     "output_type": "stream",
     "text": [
      "\n",
      "📊 h: 25, batch_size:256, lr: 0.001, l2_lambda:1, RMSE\n",
      "\n",
      "🌱 Training ensemble model 1/1\n",
      "Epoch 1.      Train Loss: 7.3009, Val Loss: 8.2787.      Train RMSE: 30097361079.1842, Val RMSE: 839.9543\n",
      "Epoch 5.      Train Loss: 3.2988, Val Loss: 4.2440.      Train RMSE: 16.7116, Val RMSE: 14.4508\n",
      "Early stopping triggered.\n"
     ]
    },
    {
     "name": "stderr",
     "output_type": "stream",
     "text": [
      "91it [7:51:47, 245.60s/it]"
     ]
    },
    {
     "name": "stdout",
     "output_type": "stream",
     "text": [
      "\n",
      "📊 h: 25, batch_size:256, lr: 0.001, l2_lambda:1, likelihood\n",
      "\n",
      "🌱 Training ensemble model 1/1\n",
      "Epoch 1.      Train Loss: 7.3009, Val Loss: 8.2787.      Train RMSE: 30097361079.1842, Val RMSE: 839.9543\n",
      "Epoch 5.      Train Loss: 3.2988, Val Loss: 4.2440.      Train RMSE: 16.7116, Val RMSE: 14.4508\n",
      "Epoch 10.      Train Loss: 3.2976, Val Loss: 4.2401.      Train RMSE: 16.7867, Val RMSE: 14.4807\n",
      "Early stopping triggered.\n"
     ]
    },
    {
     "name": "stderr",
     "output_type": "stream",
     "text": [
      "92it [7:53:57, 210.75s/it]"
     ]
    },
    {
     "name": "stdout",
     "output_type": "stream",
     "text": [
      "\n",
      "📊 h: 25, batch_size:256, lr: 0.001, l2_lambda:3, RMSE\n",
      "\n",
      "🌱 Training ensemble model 1/1\n",
      "Epoch 1.      Train Loss: 15.3891, Val Loss: 16.4723.      Train RMSE: 2731989.9727, Val RMSE: 74.0456\n",
      "Epoch 5.      Train Loss: 3.4334, Val Loss: 4.4554.      Train RMSE: 16.9155, Val RMSE: 14.5721\n",
      "Early stopping triggered.\n"
     ]
    },
    {
     "name": "stderr",
     "output_type": "stream",
     "text": [
      "93it [7:55:03, 167.58s/it]"
     ]
    },
    {
     "name": "stdout",
     "output_type": "stream",
     "text": [
      "\n",
      "📊 h: 25, batch_size:256, lr: 0.001, l2_lambda:3, likelihood\n",
      "\n",
      "🌱 Training ensemble model 1/1\n",
      "Epoch 1.      Train Loss: 15.3891, Val Loss: 16.4723.      Train RMSE: 2731989.9727, Val RMSE: 74.0456\n",
      "Epoch 5.      Train Loss: 3.4334, Val Loss: 4.4554.      Train RMSE: 16.9155, Val RMSE: 14.5721\n",
      "Epoch 10.      Train Loss: 3.4271, Val Loss: 4.4457.      Train RMSE: 16.9148, Val RMSE: 14.5713\n",
      "Early stopping triggered.\n"
     ]
    },
    {
     "name": "stderr",
     "output_type": "stream",
     "text": [
      "94it [7:57:10, 155.33s/it]"
     ]
    },
    {
     "name": "stdout",
     "output_type": "stream",
     "text": [
      "\n",
      "📊 h: 25, batch_size:256, lr: 0.001, l2_lambda:5, RMSE\n",
      "\n",
      "🌱 Training ensemble model 1/1\n",
      "Epoch 1.      Train Loss: 23.4133, Val Loss: 24.5184.      Train RMSE: 714313.3095, Val RMSE: 51.1019\n",
      "Epoch 5.      Train Loss: 3.4705, Val Loss: 4.5103.      Train RMSE: 16.9274, Val RMSE: 14.5830\n",
      "Early stopping triggered.\n"
     ]
    },
    {
     "name": "stderr",
     "output_type": "stream",
     "text": [
      "95it [7:58:21, 130.04s/it]"
     ]
    },
    {
     "name": "stdout",
     "output_type": "stream",
     "text": [
      "\n",
      "📊 h: 25, batch_size:256, lr: 0.001, l2_lambda:5, likelihood\n",
      "\n",
      "🌱 Training ensemble model 1/1\n",
      "Epoch 1.      Train Loss: 23.4133, Val Loss: 24.5184.      Train RMSE: 714313.3095, Val RMSE: 51.1019\n",
      "Epoch 5.      Train Loss: 3.4705, Val Loss: 4.5103.      Train RMSE: 16.9274, Val RMSE: 14.5830\n",
      "Epoch 10.      Train Loss: 3.4599, Val Loss: 4.4958.      Train RMSE: 16.9266, Val RMSE: 14.5822\n",
      "Early stopping triggered.\n"
     ]
    },
    {
     "name": "stderr",
     "output_type": "stream",
     "text": [
      "96it [8:00:29, 300.30s/it]\n"
     ]
    }
   ],
   "source": [
    "h_list = [5, 10, 25]#[4, 6, 8, 10]\n",
    "batch_size_list = [128, 256]\n",
    "lr_list = [1e-4, 1e-3]\n",
    "l2_lambda_list = [0.1, 1, 3, 5]\n",
    "stop_criteria_list = ['RMSE', 'likelihood']\n",
    "\n",
    "d1=source1_tensor.shape[1]  # number of features of the 1st source\n",
    "d2=source2_tensor.shape[1]  # number of features of the 2nd source\n",
    "\n",
    "# Make sure the folder exists\n",
    "output_dir = 'validation_results_final_attempt_normalized_direct'\n",
    "os.makedirs(output_dir, exist_ok=True)\n",
    "\n",
    "for h, batch_size, lr, l2_lambda, stop_cr in tqdm.tqdm(itertools.product(h_list, batch_size_list, lr_list, l2_lambda_list, stop_criteria_list)):\n",
    "    # if [h, batch_size, lr, l2_lambda] in existing_results:\n",
    "    #     continue\n",
    "\n",
    "    # create dataset\n",
    "    train_loader, val_loader, test_loader = create_datasets(source1_array, source2_array, target_direct_array, weight_array, batch_size, h)\n",
    "\n",
    "    print(f\"\\n📊 h: {h}, batch_size:{batch_size}, lr: {lr}, l2_lambda:{l2_lambda}, {stop_cr}\")\n",
    "    \n",
    "    ensemble, losses = train_tme_ensemble(\n",
    "        train_loader=train_loader,\n",
    "        val_loader=val_loader,\n",
    "        d1=d1,  # number of features of the 1st source\n",
    "        d2=d2,  # number of features of the 2nd source\n",
    "        h=h,  # lag length\n",
    "        num_models=1,#20,\n",
    "        device=device,\n",
    "        lr=lr,\n",
    "        weight_decay=0.1,\n",
    "        l2_lambda=l2_lambda,\n",
    "        max_epochs=40,\n",
    "        patience=5,\n",
    "        adam=True,\n",
    "        direct_target=True,\n",
    "        stop_criteria=stop_cr\n",
    "    )\n",
    "\n",
    "    y_preds, y_preds_median, rmse, mae = evaluate_tme_ensemble(ensemble, val_loader, device='cpu', direct_target=True)\n",
    "\n",
    "    results_to_save = {\n",
    "        'rmse': rmse,\n",
    "        'mae': mae,\n",
    "        'val_losses': losses\n",
    "    }\n",
    "\n",
    "    # Create a filename based on hyperparameters\n",
    "    filename = f\"h{h}_batch{batch_size}_lr{lr:.0e}_lambda{l2_lambda}_{stop_cr}.json\"\n",
    "    filepath = os.path.join(output_dir, filename)\n",
    "\n",
    "    # Save the dictionary to a JSON file\n",
    "    with open(filepath, 'w') as f:\n",
    "        json.dump(results_to_save, f, indent=4)"
   ]
  },
  {
   "cell_type": "code",
   "execution_count": 50,
   "id": "6380663c",
   "metadata": {},
   "outputs": [
    {
     "name": "stdout",
     "output_type": "stream",
     "text": [
      "[{'h': 100, 'batch_size': 128, 'lr': 0.001, 'l2_lambda': 0.1, 'stop_cr': 'likelihood', 'rmse': 68979.37607658409, 'mae': 59339.983965488624, 'val_losses': [0.26479744779892633]}, {'h': 100, 'batch_size': 128, 'lr': 0.001, 'l2_lambda': 0.1, 'stop_cr': 'RMSE', 'rmse': 68979.37607658409, 'mae': 59339.983965488624, 'val_losses': [0.26479744779892633]}, {'h': 100, 'batch_size': 128, 'lr': 0.001, 'l2_lambda': 1.0, 'stop_cr': 'likelihood', 'rmse': 15.069406876841056, 'mae': 5.043644012542797, 'val_losses': [7.617420178944947]}, {'h': 100, 'batch_size': 128, 'lr': 0.001, 'l2_lambda': 1.0, 'stop_cr': 'RMSE', 'rmse': 15.069406876841056, 'mae': 5.043644012542797, 'val_losses': [7.617420178944947]}, {'h': 100, 'batch_size': 128, 'lr': 0.001, 'l2_lambda': 3.0, 'stop_cr': 'likelihood', 'rmse': 54897.372032017556, 'mae': 32563.52545414799, 'val_losses': [19.377565383911133]}, {'h': 100, 'batch_size': 128, 'lr': 0.001, 'l2_lambda': 3.0, 'stop_cr': 'RMSE', 'rmse': 54897.372032017556, 'mae': 32563.52545414799, 'val_losses': [19.377565383911133]}, {'h': 100, 'batch_size': 128, 'lr': 0.001, 'l2_lambda': 5.0, 'stop_cr': 'likelihood', 'rmse': 68056548271988.234, 'mae': 62998276469511.89, 'val_losses': [7.836399936773738]}, {'h': 100, 'batch_size': 128, 'lr': 0.001, 'l2_lambda': 5.0, 'stop_cr': 'RMSE', 'rmse': 68056548271988.234, 'mae': 62998276469511.89, 'val_losses': [7.836399936773738]}, {'h': 100, 'batch_size': 128, 'lr': 0.0001, 'l2_lambda': 0.1, 'stop_cr': 'likelihood', 'rmse': 12171518422225.041, 'mae': 2210299555252.9517, 'val_losses': [12.745102624424169]}, {'h': 100, 'batch_size': 128, 'lr': 0.0001, 'l2_lambda': 0.1, 'stop_cr': 'RMSE', 'rmse': 12171518422225.041, 'mae': 2210299555252.9517, 'val_losses': [12.745102624424169]}, {'h': 100, 'batch_size': 128, 'lr': 0.0001, 'l2_lambda': 1.0, 'stop_cr': 'likelihood', 'rmse': 3089832644.857638, 'mae': 2860182247.1295567, 'val_losses': [0.6772387618290596]}, {'h': 100, 'batch_size': 128, 'lr': 0.0001, 'l2_lambda': 1.0, 'stop_cr': 'RMSE', 'rmse': 3089832644.857638, 'mae': 2860182247.1295567, 'val_losses': [0.6772387618290596]}, {'h': 100, 'batch_size': 128, 'lr': 0.0001, 'l2_lambda': 3.0, 'stop_cr': 'likelihood', 'rmse': 67310.86018505298, 'mae': 46268.41250250406, 'val_losses': [7.6765339227973435]}, {'h': 100, 'batch_size': 128, 'lr': 0.0001, 'l2_lambda': 3.0, 'stop_cr': 'RMSE', 'rmse': 67310.86018505298, 'mae': 46268.41250250406, 'val_losses': [7.6765339227973435]}, {'h': 100, 'batch_size': 128, 'lr': 0.0001, 'l2_lambda': 5.0, 'stop_cr': 'likelihood', 'rmse': 40155.73999565415, 'mae': 21051.379042949913, 'val_losses': [2.9053135387233047]}, {'h': 100, 'batch_size': 128, 'lr': 0.0001, 'l2_lambda': 5.0, 'stop_cr': 'RMSE', 'rmse': 40155.73999565415, 'mae': 21051.379042949913, 'val_losses': [2.9053135387233047]}, {'h': 100, 'batch_size': 256, 'lr': 0.001, 'l2_lambda': 0.1, 'stop_cr': 'likelihood', 'rmse': 15.069406876841056, 'mae': 5.043644012542797, 'val_losses': [18.64002033921539]}, {'h': 100, 'batch_size': 256, 'lr': 0.001, 'l2_lambda': 0.1, 'stop_cr': 'RMSE', 'rmse': 15.069406876841056, 'mae': 5.043644012542797, 'val_losses': [18.64002033921539]}, {'h': 100, 'batch_size': 256, 'lr': 0.001, 'l2_lambda': 1.0, 'stop_cr': 'likelihood', 'rmse': 15.069406876841056, 'mae': 5.043644012542797, 'val_losses': [7.836691892049352]}, {'h': 100, 'batch_size': 256, 'lr': 0.001, 'l2_lambda': 1.0, 'stop_cr': 'RMSE', 'rmse': 15.069406876841056, 'mae': 5.043644012542797, 'val_losses': [7.836691892049352]}, {'h': 100, 'batch_size': 256, 'lr': 0.001, 'l2_lambda': 3.0, 'stop_cr': 'likelihood', 'rmse': 99123.06266389378, 'mae': 66658.7586020746, 'val_losses': [8.092309262908874]}, {'h': 100, 'batch_size': 256, 'lr': 0.001, 'l2_lambda': 3.0, 'stop_cr': 'RMSE', 'rmse': 99123.06266389378, 'mae': 66658.7586020746, 'val_losses': [8.092309262908874]}, {'h': 100, 'batch_size': 256, 'lr': 0.001, 'l2_lambda': 5.0, 'stop_cr': 'likelihood', 'rmse': 80395.05931500279, 'mae': 57145.44888221134, 'val_losses': [2.51166455667527]}, {'h': 100, 'batch_size': 256, 'lr': 0.001, 'l2_lambda': 5.0, 'stop_cr': 'RMSE', 'rmse': 80395.05931500279, 'mae': 57145.44888221134, 'val_losses': [2.51166455667527]}, {'h': 100, 'batch_size': 256, 'lr': 0.0001, 'l2_lambda': 0.1, 'stop_cr': 'likelihood', 'rmse': 14774103260233.932, 'mae': 3129089929818.645, 'val_losses': [11.5506896190956]}, {'h': 100, 'batch_size': 256, 'lr': 0.0001, 'l2_lambda': 0.1, 'stop_cr': 'RMSE', 'rmse': 14774103260233.932, 'mae': 3129089929818.645, 'val_losses': [11.5506896190956]}, {'h': 100, 'batch_size': 256, 'lr': 0.0001, 'l2_lambda': 1.0, 'stop_cr': 'likelihood', 'rmse': 14381965694791.578, 'mae': 3003361700746.9844, 'val_losses': [29.38122055178783]}, {'h': 100, 'batch_size': 256, 'lr': 0.0001, 'l2_lambda': 1.0, 'stop_cr': 'RMSE', 'rmse': 14381965694791.578, 'mae': 3003361700746.9844, 'val_losses': [29.38122055178783]}, {'h': 100, 'batch_size': 256, 'lr': 0.0001, 'l2_lambda': 3.0, 'stop_cr': 'likelihood', 'rmse': 24897.789117041513, 'mae': 12205.2122721225, 'val_losses': [2.64041359111911]}, {'h': 100, 'batch_size': 256, 'lr': 0.0001, 'l2_lambda': 3.0, 'stop_cr': 'RMSE', 'rmse': 24897.789117041513, 'mae': 12205.2122721225, 'val_losses': [2.64041359111911]}, {'h': 100, 'batch_size': 256, 'lr': 0.0001, 'l2_lambda': 5.0, 'stop_cr': 'likelihood', 'rmse': 9455814357287.006, 'mae': 1317582936061.2969, 'val_losses': [98.2235306286421]}, {'h': 100, 'batch_size': 256, 'lr': 0.0001, 'l2_lambda': 5.0, 'stop_cr': 'RMSE', 'rmse': 9455814357287.006, 'mae': 1317582936061.2969, 'val_losses': [98.2235306286421]}, {'h': 10, 'batch_size': 128, 'lr': 0.001, 'l2_lambda': 0.1, 'stop_cr': 'likelihood', 'rmse': 15.072409210499876, 'mae': 5.049950293037167, 'val_losses': [7.526100934773195]}, {'h': 10, 'batch_size': 128, 'lr': 0.001, 'l2_lambda': 0.1, 'stop_cr': 'RMSE', 'rmse': 15.072409210499876, 'mae': 5.049950293037167, 'val_losses': [7.526100934773195]}, {'h': 10, 'batch_size': 128, 'lr': 0.001, 'l2_lambda': 1.0, 'stop_cr': 'likelihood', 'rmse': 89826.04724898943, 'mae': 64080.27113042802, 'val_losses': [1.746459339485794]}, {'h': 10, 'batch_size': 128, 'lr': 0.001, 'l2_lambda': 1.0, 'stop_cr': 'RMSE', 'rmse': 89826.04724898943, 'mae': 64080.27113042802, 'val_losses': [1.746459339485794]}, {'h': 10, 'batch_size': 128, 'lr': 0.001, 'l2_lambda': 3.0, 'stop_cr': 'likelihood', 'rmse': 10857.77149335717, 'mae': 2522.0454414450123, 'val_losses': [3.1398896584745315]}, {'h': 10, 'batch_size': 128, 'lr': 0.001, 'l2_lambda': 3.0, 'stop_cr': 'RMSE', 'rmse': 10857.77149335717, 'mae': 2522.0454414450123, 'val_losses': [3.1398896584745315]}, {'h': 10, 'batch_size': 128, 'lr': 0.001, 'l2_lambda': 5.0, 'stop_cr': 'likelihood', 'rmse': 5094401881.233604, 'mae': 4715922935.838725, 'val_losses': [3.5218634155930064]}, {'h': 10, 'batch_size': 128, 'lr': 0.001, 'l2_lambda': 5.0, 'stop_cr': 'RMSE', 'rmse': 5094401881.233604, 'mae': 4715922935.838725, 'val_losses': [3.5218634155930064]}, {'h': 10, 'batch_size': 128, 'lr': 0.0001, 'l2_lambda': 0.1, 'stop_cr': 'likelihood', 'rmse': 68048390911635.96, 'mae': 62983977975033.734, 'val_losses': [20.05964635630123]}, {'h': 10, 'batch_size': 128, 'lr': 0.0001, 'l2_lambda': 0.1, 'stop_cr': 'RMSE', 'rmse': 68048390911635.96, 'mae': 62983977975033.734, 'val_losses': [20.05964635630123]}, {'h': 10, 'batch_size': 128, 'lr': 0.0001, 'l2_lambda': 1.0, 'stop_cr': 'likelihood', 'rmse': 68050358874801.05, 'mae': 62988122140317.22, 'val_losses': [34.81329702158443]}, {'h': 10, 'batch_size': 128, 'lr': 0.0001, 'l2_lambda': 1.0, 'stop_cr': 'RMSE', 'rmse': 68050358874801.05, 'mae': 62988122140317.22, 'val_losses': [34.81329702158443]}, {'h': 10, 'batch_size': 128, 'lr': 0.0001, 'l2_lambda': 3.0, 'stop_cr': 'likelihood', 'rmse': 3540.1624450264994, 'mae': 547.3590819533518, 'val_losses': [22.02240828217053]}, {'h': 10, 'batch_size': 128, 'lr': 0.0001, 'l2_lambda': 3.0, 'stop_cr': 'RMSE', 'rmse': 3540.1624450264994, 'mae': 547.3590819533518, 'val_losses': [22.02240828217053]}, {'h': 10, 'batch_size': 128, 'lr': 0.0001, 'l2_lambda': 5.0, 'stop_cr': 'likelihood', 'rmse': 1136.008250665491, 'mae': 90.25081792256853, 'val_losses': [31.782062170935458]}, {'h': 10, 'batch_size': 128, 'lr': 0.0001, 'l2_lambda': 5.0, 'stop_cr': 'RMSE', 'rmse': 1136.008250665491, 'mae': 90.25081792256853, 'val_losses': [31.782062170935458]}, {'h': 10, 'batch_size': 256, 'lr': 0.001, 'l2_lambda': 0.1, 'stop_cr': 'likelihood', 'rmse': 15.072409210499876, 'mae': 5.049950293037167, 'val_losses': [7.662225492665025]}, {'h': 10, 'batch_size': 256, 'lr': 0.001, 'l2_lambda': 0.1, 'stop_cr': 'RMSE', 'rmse': 15.072409210499876, 'mae': 5.049950293037167, 'val_losses': [7.662225492665025]}, {'h': 10, 'batch_size': 256, 'lr': 0.001, 'l2_lambda': 1.0, 'stop_cr': 'likelihood', 'rmse': 15.072409210499876, 'mae': 5.049950293037167, 'val_losses': [8.797287497364106]}, {'h': 10, 'batch_size': 256, 'lr': 0.001, 'l2_lambda': 1.0, 'stop_cr': 'RMSE', 'rmse': 15.072409210499876, 'mae': 5.049950293037167, 'val_losses': [8.797287497364106]}, {'h': 10, 'batch_size': 256, 'lr': 0.001, 'l2_lambda': 3.0, 'stop_cr': 'likelihood', 'rmse': 15.072409210361094, 'mae': 5.049950292689948, 'val_losses': [11.304258964100821]}, {'h': 10, 'batch_size': 256, 'lr': 0.001, 'l2_lambda': 3.0, 'stop_cr': 'RMSE', 'rmse': 15.072409210361094, 'mae': 5.049950292689948, 'val_losses': [11.304258964100821]}, {'h': 10, 'batch_size': 256, 'lr': 0.001, 'l2_lambda': 5.0, 'stop_cr': 'likelihood', 'rmse': 15.16535042892225, 'mae': 8.80577879452656, 'val_losses': [13.819583478521128]}, {'h': 10, 'batch_size': 256, 'lr': 0.001, 'l2_lambda': 5.0, 'stop_cr': 'RMSE', 'rmse': 15.16535042892225, 'mae': 8.80577879452656, 'val_losses': [13.819583478521128]}, {'h': 10, 'batch_size': 256, 'lr': 0.0001, 'l2_lambda': 0.1, 'stop_cr': 'likelihood', 'rmse': 758937714032.2826, 'mae': 11394333381.96216, 'val_losses': [20.323001830304257]}, {'h': 10, 'batch_size': 256, 'lr': 0.0001, 'l2_lambda': 0.1, 'stop_cr': 'RMSE', 'rmse': 758937714032.2826, 'mae': 11394333381.96216, 'val_losses': [20.323001830304257]}, {'h': 10, 'batch_size': 256, 'lr': 0.0001, 'l2_lambda': 1.0, 'stop_cr': 'likelihood', 'rmse': 758937714032.2826, 'mae': 11394333381.96216, 'val_losses': [37.44372933809875]}, {'h': 10, 'batch_size': 256, 'lr': 0.0001, 'l2_lambda': 1.0, 'stop_cr': 'RMSE', 'rmse': 758937714032.2826, 'mae': 11394333381.96216, 'val_losses': [37.44372933809875]}, {'h': 10, 'batch_size': 256, 'lr': 0.0001, 'l2_lambda': 3.0, 'stop_cr': 'likelihood', 'rmse': 758937714032.2826, 'mae': 11394333381.96216, 'val_losses': [75.48981475830078]}, {'h': 10, 'batch_size': 256, 'lr': 0.0001, 'l2_lambda': 3.0, 'stop_cr': 'RMSE', 'rmse': 758937714032.2826, 'mae': 11394333381.96216, 'val_losses': [75.48981475830078]}, {'h': 10, 'batch_size': 256, 'lr': 0.0001, 'l2_lambda': 5.0, 'stop_cr': 'likelihood', 'rmse': 758937714032.2826, 'mae': 11394333381.96216, 'val_losses': [113.53590393066406]}, {'h': 10, 'batch_size': 256, 'lr': 0.0001, 'l2_lambda': 5.0, 'stop_cr': 'RMSE', 'rmse': 758937714032.2826, 'mae': 11394333381.96216, 'val_losses': [113.53590393066406]}, {'h': 25, 'batch_size': 128, 'lr': 0.001, 'l2_lambda': 0.1, 'stop_cr': 'likelihood', 'rmse': 15.069525064534918, 'mae': 5.04602204856172, 'val_losses': [7.575232119100993]}, {'h': 25, 'batch_size': 128, 'lr': 0.001, 'l2_lambda': 0.1, 'stop_cr': 'RMSE', 'rmse': 15.069525064534918, 'mae': 5.04602204856172, 'val_losses': [7.575232119100993]}, {'h': 25, 'batch_size': 128, 'lr': 0.001, 'l2_lambda': 1.0, 'stop_cr': 'likelihood', 'rmse': 88368.84310521049, 'mae': 70935.22564315132, 'val_losses': [11.355183577928386]}, {'h': 25, 'batch_size': 128, 'lr': 0.001, 'l2_lambda': 1.0, 'stop_cr': 'RMSE', 'rmse': 88368.84310521049, 'mae': 70935.22564315132, 'val_losses': [11.355183577928386]}, {'h': 25, 'batch_size': 128, 'lr': 0.001, 'l2_lambda': 3.0, 'stop_cr': 'likelihood', 'rmse': 97098.5846173218, 'mae': 62588.42390645988, 'val_losses': [7.688464757848958]}, {'h': 25, 'batch_size': 128, 'lr': 0.001, 'l2_lambda': 3.0, 'stop_cr': 'RMSE', 'rmse': 97098.5846173218, 'mae': 62588.42390645988, 'val_losses': [7.688464757848958]}, {'h': 25, 'batch_size': 128, 'lr': 0.001, 'l2_lambda': 5.0, 'stop_cr': 'likelihood', 'rmse': 15.338348445624137, 'mae': 9.197971578836926, 'val_losses': [7.614977875938181]}, {'h': 25, 'batch_size': 128, 'lr': 0.001, 'l2_lambda': 5.0, 'stop_cr': 'RMSE', 'rmse': 15.338348445624137, 'mae': 9.197971578836926, 'val_losses': [7.614977875938181]}, {'h': 25, 'batch_size': 128, 'lr': 0.0001, 'l2_lambda': 0.1, 'stop_cr': 'likelihood', 'rmse': 93489.7449154685, 'mae': 77987.97182342631, 'val_losses': [0.37197359443688]}, {'h': 25, 'batch_size': 128, 'lr': 0.0001, 'l2_lambda': 0.1, 'stop_cr': 'RMSE', 'rmse': 93489.7449154685, 'mae': 77987.97182342631, 'val_losses': [0.37197359443688]}, {'h': 25, 'batch_size': 128, 'lr': 0.0001, 'l2_lambda': 1.0, 'stop_cr': 'likelihood', 'rmse': 85923.25868007803, 'mae': 67189.61689563826, 'val_losses': [1.1456504828128657]}, {'h': 25, 'batch_size': 128, 'lr': 0.0001, 'l2_lambda': 1.0, 'stop_cr': 'RMSE', 'rmse': 85923.25868007803, 'mae': 67189.61689563826, 'val_losses': [1.1456504828128657]}, {'h': 25, 'batch_size': 128, 'lr': 0.0001, 'l2_lambda': 3.0, 'stop_cr': 'likelihood', 'rmse': 26328.242675608035, 'mae': 24369.41130055231, 'val_losses': [0.2419198281818726]}, {'h': 25, 'batch_size': 128, 'lr': 0.0001, 'l2_lambda': 3.0, 'stop_cr': 'RMSE', 'rmse': 26328.242675608035, 'mae': 24369.41130055231, 'val_losses': [0.2419198281818726]}, {'h': 25, 'batch_size': 128, 'lr': 0.0001, 'l2_lambda': 5.0, 'stop_cr': 'likelihood', 'rmse': 33054.4169676163, 'mae': 30595.331828682138, 'val_losses': [3.231472291907326]}, {'h': 25, 'batch_size': 128, 'lr': 0.0001, 'l2_lambda': 5.0, 'stop_cr': 'RMSE', 'rmse': 33054.4169676163, 'mae': 30595.331828682138, 'val_losses': [3.231472291907326]}, {'h': 25, 'batch_size': 256, 'lr': 0.001, 'l2_lambda': 0.1, 'stop_cr': 'likelihood', 'rmse': 15.069525064534918, 'mae': 5.04602204856172, 'val_losses': [7.533015938078771]}, {'h': 25, 'batch_size': 256, 'lr': 0.001, 'l2_lambda': 0.1, 'stop_cr': 'RMSE', 'rmse': 15.069525064534918, 'mae': 5.04602204856172, 'val_losses': [7.533015938078771]}, {'h': 25, 'batch_size': 256, 'lr': 0.001, 'l2_lambda': 1.0, 'stop_cr': 'likelihood', 'rmse': 88032.39550327612, 'mae': 69770.04927753503, 'val_losses': [1.2102843161489143]}, {'h': 25, 'batch_size': 256, 'lr': 0.001, 'l2_lambda': 1.0, 'stop_cr': 'RMSE', 'rmse': 88032.39550327612, 'mae': 69770.04927753503, 'val_losses': [1.2102843161489143]}, {'h': 25, 'batch_size': 256, 'lr': 0.001, 'l2_lambda': 3.0, 'stop_cr': 'likelihood', 'rmse': 419646328.1902674, 'mae': 388065288.7227999, 'val_losses': [7.9431502511266805]}, {'h': 25, 'batch_size': 256, 'lr': 0.001, 'l2_lambda': 3.0, 'stop_cr': 'RMSE', 'rmse': 419646328.1902674, 'mae': 388065288.7227999, 'val_losses': [7.9431502511266805]}, {'h': 25, 'batch_size': 256, 'lr': 0.001, 'l2_lambda': 5.0, 'stop_cr': 'likelihood', 'rmse': 4564.864210811716, 'mae': 872.8616410207617, 'val_losses': [3.6614142949463893]}, {'h': 25, 'batch_size': 256, 'lr': 0.001, 'l2_lambda': 5.0, 'stop_cr': 'RMSE', 'rmse': 4564.864210811716, 'mae': 872.8616410207617, 'val_losses': [3.6614142949463893]}, {'h': 25, 'batch_size': 256, 'lr': 0.0001, 'l2_lambda': 0.1, 'stop_cr': 'likelihood', 'rmse': 597009876632.4692, 'mae': 5106322212.47607, 'val_losses': [0.5314532745568479]}, {'h': 25, 'batch_size': 256, 'lr': 0.0001, 'l2_lambda': 0.1, 'stop_cr': 'RMSE', 'rmse': 597009876632.4692, 'mae': 5106322212.47607, 'val_losses': [0.5314532745568479]}, {'h': 25, 'batch_size': 256, 'lr': 0.0001, 'l2_lambda': 1.0, 'stop_cr': 'likelihood', 'rmse': 584721410149.7483, 'mae': 4682632998.67578, 'val_losses': [1.2584866993739956]}, {'h': 25, 'batch_size': 256, 'lr': 0.0001, 'l2_lambda': 1.0, 'stop_cr': 'RMSE', 'rmse': 584721410149.7483, 'mae': 4682632998.67578, 'val_losses': [1.2584866993739956]}, {'h': 25, 'batch_size': 256, 'lr': 0.0001, 'l2_lambda': 3.0, 'stop_cr': 'likelihood', 'rmse': 38431.838738376384, 'mae': 19282.120436883262, 'val_losses': [2.819055058917061]}, {'h': 25, 'batch_size': 256, 'lr': 0.0001, 'l2_lambda': 3.0, 'stop_cr': 'RMSE', 'rmse': 38431.838738376384, 'mae': 19282.120436883262, 'val_losses': [2.819055058917061]}, {'h': 25, 'batch_size': 256, 'lr': 0.0001, 'l2_lambda': 5.0, 'stop_cr': 'likelihood', 'rmse': 1852.741043456241, 'mae': 338.24235596346784, 'val_losses': [5.339966039188573]}, {'h': 25, 'batch_size': 256, 'lr': 0.0001, 'l2_lambda': 5.0, 'stop_cr': 'RMSE', 'rmse': 1852.741043456241, 'mae': 338.24235596346784, 'val_losses': [5.339966039188573]}, {'h': 5, 'batch_size': 128, 'lr': 0.001, 'l2_lambda': 0.1, 'stop_cr': 'likelihood', 'rmse': 86678.66909030119, 'mae': 72642.51067465774, 'val_losses': [0.993814944243822]}, {'h': 5, 'batch_size': 128, 'lr': 0.001, 'l2_lambda': 0.1, 'stop_cr': 'RMSE', 'rmse': 86678.66909030119, 'mae': 72642.51067465774, 'val_losses': [0.993814944243822]}, {'h': 5, 'batch_size': 128, 'lr': 0.001, 'l2_lambda': 1.0, 'stop_cr': 'likelihood', 'rmse': 15.071926471322984, 'mae': 5.04965797915121, 'val_losses': [7.842506098942678]}, {'h': 5, 'batch_size': 128, 'lr': 0.001, 'l2_lambda': 1.0, 'stop_cr': 'RMSE', 'rmse': 15.071926471322984, 'mae': 5.04965797915121, 'val_losses': [7.842506098942678]}, {'h': 5, 'batch_size': 128, 'lr': 0.001, 'l2_lambda': 3.0, 'stop_cr': 'likelihood', 'rmse': 68060071383567.984, 'mae': 63004013314866.445, 'val_losses': [4.830797998631587]}, {'h': 5, 'batch_size': 128, 'lr': 0.001, 'l2_lambda': 3.0, 'stop_cr': 'RMSE', 'rmse': 68060071383567.984, 'mae': 63004013314866.445, 'val_losses': [4.830797998631587]}, {'h': 5, 'batch_size': 128, 'lr': 0.001, 'l2_lambda': 5.0, 'stop_cr': 'likelihood', 'rmse': 7231.791079983321, 'mae': 863.3475186987366, 'val_losses': [16.718727533934548]}, {'h': 5, 'batch_size': 128, 'lr': 0.001, 'l2_lambda': 5.0, 'stop_cr': 'RMSE', 'rmse': 7231.791079983321, 'mae': 863.3475186987366, 'val_losses': [16.718727533934548]}, {'h': 5, 'batch_size': 128, 'lr': 0.0001, 'l2_lambda': 0.1, 'stop_cr': 'likelihood', 'rmse': 58872.36702063993, 'mae': 42122.46839966859, 'val_losses': [4.134205108783284]}, {'h': 5, 'batch_size': 128, 'lr': 0.0001, 'l2_lambda': 0.1, 'stop_cr': 'RMSE', 'rmse': 58872.36702063993, 'mae': 42122.46839966859, 'val_losses': [4.134205108783284]}, {'h': 5, 'batch_size': 128, 'lr': 0.0001, 'l2_lambda': 1.0, 'stop_cr': 'likelihood', 'rmse': 13651.30827012896, 'mae': 4452.090146278641, 'val_losses': [1.9620317435655437]}, {'h': 5, 'batch_size': 128, 'lr': 0.0001, 'l2_lambda': 1.0, 'stop_cr': 'RMSE', 'rmse': 13651.30827012896, 'mae': 4452.090146278641, 'val_losses': [1.9620317435655437]}, {'h': 5, 'batch_size': 128, 'lr': 0.0001, 'l2_lambda': 3.0, 'stop_cr': 'likelihood', 'rmse': 6245.628689812526, 'mae': 1029.1128747001583, 'val_losses': [5.362102897440801]}, {'h': 5, 'batch_size': 128, 'lr': 0.0001, 'l2_lambda': 3.0, 'stop_cr': 'RMSE', 'rmse': 6245.628689812526, 'mae': 1029.1128747001583, 'val_losses': [5.362102897440801]}, {'h': 5, 'batch_size': 128, 'lr': 0.0001, 'l2_lambda': 5.0, 'stop_cr': 'likelihood', 'rmse': 3629.9620911130555, 'mae': 3361.4128152725934, 'val_losses': [11.100628071143978]}, {'h': 5, 'batch_size': 128, 'lr': 0.0001, 'l2_lambda': 5.0, 'stop_cr': 'RMSE', 'rmse': 3629.9620911130555, 'mae': 3361.4128152725934, 'val_losses': [11.100628071143978]}, {'h': 5, 'batch_size': 256, 'lr': 0.001, 'l2_lambda': 0.1, 'stop_cr': 'likelihood', 'rmse': 83874.46837787918, 'mae': 71722.74193745751, 'val_losses': [1.1854483167656134]}, {'h': 5, 'batch_size': 256, 'lr': 0.001, 'l2_lambda': 0.1, 'stop_cr': 'RMSE', 'rmse': 83874.46837787918, 'mae': 71722.74193745751, 'val_losses': [1.1854483167656134]}, {'h': 5, 'batch_size': 256, 'lr': 0.001, 'l2_lambda': 1.0, 'stop_cr': 'likelihood', 'rmse': 15.071926474808654, 'mae': 5.049657995124636, 'val_losses': [9.117346386440465]}, {'h': 5, 'batch_size': 256, 'lr': 0.001, 'l2_lambda': 1.0, 'stop_cr': 'RMSE', 'rmse': 15.071926474808654, 'mae': 5.049657995124636, 'val_losses': [9.117346386440465]}, {'h': 5, 'batch_size': 256, 'lr': 0.001, 'l2_lambda': 3.0, 'stop_cr': 'likelihood', 'rmse': 8063.226015465303, 'mae': 1328.5292541435501, 'val_losses': [9.408976949629237]}, {'h': 5, 'batch_size': 256, 'lr': 0.001, 'l2_lambda': 3.0, 'stop_cr': 'RMSE', 'rmse': 8063.226015465303, 'mae': 1328.5292541435501, 'val_losses': [9.408976949629237]}, {'h': 5, 'batch_size': 256, 'lr': 0.001, 'l2_lambda': 5.0, 'stop_cr': 'likelihood', 'rmse': 7739.192814576912, 'mae': 920.0775076568631, 'val_losses': [10.619846594138224]}, {'h': 5, 'batch_size': 256, 'lr': 0.001, 'l2_lambda': 5.0, 'stop_cr': 'RMSE', 'rmse': 7739.192814576912, 'mae': 920.0775076568631, 'val_losses': [10.619846594138224]}, {'h': 5, 'batch_size': 256, 'lr': 0.0001, 'l2_lambda': 0.1, 'stop_cr': 'likelihood', 'rmse': 68055615716025.3, 'mae': 62993281705812.36, 'val_losses': [20.41301320810787]}, {'h': 5, 'batch_size': 256, 'lr': 0.0001, 'l2_lambda': 0.1, 'stop_cr': 'RMSE', 'rmse': 68055615716025.3, 'mae': 62993281705812.36, 'val_losses': [20.41301320810787]}, {'h': 5, 'batch_size': 256, 'lr': 0.0001, 'l2_lambda': 1.0, 'stop_cr': 'likelihood', 'rmse': 68055615716025.3, 'mae': 62993281705812.36, 'val_losses': [38.35010691158107]}, {'h': 5, 'batch_size': 256, 'lr': 0.0001, 'l2_lambda': 1.0, 'stop_cr': 'RMSE', 'rmse': 68055615716025.3, 'mae': 62993281705812.36, 'val_losses': [38.35010691158107]}, {'h': 5, 'batch_size': 256, 'lr': 0.0001, 'l2_lambda': 3.0, 'stop_cr': 'likelihood', 'rmse': 68055615716025.3, 'mae': 62993281705812.36, 'val_losses': [78.21040119108606]}, {'h': 5, 'batch_size': 256, 'lr': 0.0001, 'l2_lambda': 3.0, 'stop_cr': 'RMSE', 'rmse': 68055615716025.3, 'mae': 62993281705812.36, 'val_losses': [78.21040119108606]}, {'h': 5, 'batch_size': 256, 'lr': 0.0001, 'l2_lambda': 5.0, 'stop_cr': 'likelihood', 'rmse': 68055615716025.3, 'mae': 62993281705812.36, 'val_losses': [118.07069171842981]}, {'h': 5, 'batch_size': 256, 'lr': 0.0001, 'l2_lambda': 5.0, 'stop_cr': 'RMSE', 'rmse': 68055615716025.3, 'mae': 62993281705812.36, 'val_losses': [118.07069171842981]}]\n"
     ]
    }
   ],
   "source": [
    "# Directory containing your saved results\n",
    "input_dir = 'validation_results_final_attempt'\n",
    "\n",
    "# Prepare a list to collect all results\n",
    "all_results = []\n",
    "existing_results = []\n",
    "\n",
    "# Loop over all files in the directory\n",
    "for filename in os.listdir(input_dir):\n",
    "    if filename.endswith('.json'):\n",
    "        filepath = os.path.join(input_dir, filename)\n",
    "        \n",
    "        # Open and load the JSON file\n",
    "        with open(filepath, 'r') as f:\n",
    "            result = json.load(f)\n",
    "        \n",
    "        # Parse hyperparameters from the filename\n",
    "        name_parts = filename.replace('.json', '').split('_')\n",
    "        h = int(name_parts[0][1:])  # strip the 'h'\n",
    "        batch_size = int(name_parts[1][5:])  # strip 'batch'\n",
    "        lr = float(name_parts[2][2:].replace('e', 'e'))  # scientific notation stays\n",
    "        l2_lambda = float(name_parts[3][6:])  # strip 'lambda'\n",
    "        stop_cr = name_parts[4]  # strip 'criteria'\n",
    "\n",
    "        existing_results.append([h,batch_size,lr,l2_lambda,stop_cr])\n",
    "        \n",
    "        # Combine hyperparameters and results\n",
    "        entry = {\n",
    "            'h': h,\n",
    "            'batch_size': batch_size,\n",
    "            'lr': lr,\n",
    "            'l2_lambda': l2_lambda,\n",
    "            'stop_cr':stop_cr,\n",
    "            **result  # unpack the RMSE, MAE, etc.\n",
    "        }\n",
    "        all_results.append(entry)\n",
    "\n",
    "# Now `all_results` is a list of dictionaries\n",
    "print(all_results)"
   ]
  },
  {
   "cell_type": "code",
   "execution_count": 52,
   "id": "3faad820",
   "metadata": {},
   "outputs": [
    {
     "data": {
      "text/html": [
       "<div>\n",
       "<style scoped>\n",
       "    .dataframe tbody tr th:only-of-type {\n",
       "        vertical-align: middle;\n",
       "    }\n",
       "\n",
       "    .dataframe tbody tr th {\n",
       "        vertical-align: top;\n",
       "    }\n",
       "\n",
       "    .dataframe thead th {\n",
       "        text-align: right;\n",
       "    }\n",
       "</style>\n",
       "<table border=\"1\" class=\"dataframe\">\n",
       "  <thead>\n",
       "    <tr style=\"text-align: right;\">\n",
       "      <th></th>\n",
       "      <th>h</th>\n",
       "      <th>batch_size</th>\n",
       "      <th>lr</th>\n",
       "      <th>l2_lambda</th>\n",
       "      <th>stop_cr</th>\n",
       "      <th>rmse</th>\n",
       "      <th>mae</th>\n",
       "      <th>val_losses</th>\n",
       "    </tr>\n",
       "  </thead>\n",
       "  <tbody>\n",
       "    <tr>\n",
       "      <th>3</th>\n",
       "      <td>100</td>\n",
       "      <td>128</td>\n",
       "      <td>0.001</td>\n",
       "      <td>1.0</td>\n",
       "      <td>RMSE</td>\n",
       "      <td>15.069407</td>\n",
       "      <td>5.043644</td>\n",
       "      <td>[7.617420178944947]</td>\n",
       "    </tr>\n",
       "    <tr>\n",
       "      <th>2</th>\n",
       "      <td>100</td>\n",
       "      <td>128</td>\n",
       "      <td>0.001</td>\n",
       "      <td>1.0</td>\n",
       "      <td>likelihood</td>\n",
       "      <td>15.069407</td>\n",
       "      <td>5.043644</td>\n",
       "      <td>[7.617420178944947]</td>\n",
       "    </tr>\n",
       "    <tr>\n",
       "      <th>17</th>\n",
       "      <td>100</td>\n",
       "      <td>256</td>\n",
       "      <td>0.001</td>\n",
       "      <td>0.1</td>\n",
       "      <td>RMSE</td>\n",
       "      <td>15.069407</td>\n",
       "      <td>5.043644</td>\n",
       "      <td>[18.64002033921539]</td>\n",
       "    </tr>\n",
       "    <tr>\n",
       "      <th>16</th>\n",
       "      <td>100</td>\n",
       "      <td>256</td>\n",
       "      <td>0.001</td>\n",
       "      <td>0.1</td>\n",
       "      <td>likelihood</td>\n",
       "      <td>15.069407</td>\n",
       "      <td>5.043644</td>\n",
       "      <td>[18.64002033921539]</td>\n",
       "    </tr>\n",
       "    <tr>\n",
       "      <th>19</th>\n",
       "      <td>100</td>\n",
       "      <td>256</td>\n",
       "      <td>0.001</td>\n",
       "      <td>1.0</td>\n",
       "      <td>RMSE</td>\n",
       "      <td>15.069407</td>\n",
       "      <td>5.043644</td>\n",
       "      <td>[7.836691892049352]</td>\n",
       "    </tr>\n",
       "    <tr>\n",
       "      <th>18</th>\n",
       "      <td>100</td>\n",
       "      <td>256</td>\n",
       "      <td>0.001</td>\n",
       "      <td>1.0</td>\n",
       "      <td>likelihood</td>\n",
       "      <td>15.069407</td>\n",
       "      <td>5.043644</td>\n",
       "      <td>[7.836691892049352]</td>\n",
       "    </tr>\n",
       "    <tr>\n",
       "      <th>65</th>\n",
       "      <td>25</td>\n",
       "      <td>128</td>\n",
       "      <td>0.001</td>\n",
       "      <td>0.1</td>\n",
       "      <td>RMSE</td>\n",
       "      <td>15.069525</td>\n",
       "      <td>5.046022</td>\n",
       "      <td>[7.575232119100993]</td>\n",
       "    </tr>\n",
       "    <tr>\n",
       "      <th>64</th>\n",
       "      <td>25</td>\n",
       "      <td>128</td>\n",
       "      <td>0.001</td>\n",
       "      <td>0.1</td>\n",
       "      <td>likelihood</td>\n",
       "      <td>15.069525</td>\n",
       "      <td>5.046022</td>\n",
       "      <td>[7.575232119100993]</td>\n",
       "    </tr>\n",
       "    <tr>\n",
       "      <th>80</th>\n",
       "      <td>25</td>\n",
       "      <td>256</td>\n",
       "      <td>0.001</td>\n",
       "      <td>0.1</td>\n",
       "      <td>likelihood</td>\n",
       "      <td>15.069525</td>\n",
       "      <td>5.046022</td>\n",
       "      <td>[7.533015938078771]</td>\n",
       "    </tr>\n",
       "    <tr>\n",
       "      <th>81</th>\n",
       "      <td>25</td>\n",
       "      <td>256</td>\n",
       "      <td>0.001</td>\n",
       "      <td>0.1</td>\n",
       "      <td>RMSE</td>\n",
       "      <td>15.069525</td>\n",
       "      <td>5.046022</td>\n",
       "      <td>[7.533015938078771]</td>\n",
       "    </tr>\n",
       "    <tr>\n",
       "      <th>99</th>\n",
       "      <td>5</td>\n",
       "      <td>128</td>\n",
       "      <td>0.001</td>\n",
       "      <td>1.0</td>\n",
       "      <td>RMSE</td>\n",
       "      <td>15.071926</td>\n",
       "      <td>5.049658</td>\n",
       "      <td>[7.842506098942678]</td>\n",
       "    </tr>\n",
       "    <tr>\n",
       "      <th>98</th>\n",
       "      <td>5</td>\n",
       "      <td>128</td>\n",
       "      <td>0.001</td>\n",
       "      <td>1.0</td>\n",
       "      <td>likelihood</td>\n",
       "      <td>15.071926</td>\n",
       "      <td>5.049658</td>\n",
       "      <td>[7.842506098942678]</td>\n",
       "    </tr>\n",
       "    <tr>\n",
       "      <th>114</th>\n",
       "      <td>5</td>\n",
       "      <td>256</td>\n",
       "      <td>0.001</td>\n",
       "      <td>1.0</td>\n",
       "      <td>likelihood</td>\n",
       "      <td>15.071926</td>\n",
       "      <td>5.049658</td>\n",
       "      <td>[9.117346386440465]</td>\n",
       "    </tr>\n",
       "    <tr>\n",
       "      <th>115</th>\n",
       "      <td>5</td>\n",
       "      <td>256</td>\n",
       "      <td>0.001</td>\n",
       "      <td>1.0</td>\n",
       "      <td>RMSE</td>\n",
       "      <td>15.071926</td>\n",
       "      <td>5.049658</td>\n",
       "      <td>[9.117346386440465]</td>\n",
       "    </tr>\n",
       "    <tr>\n",
       "      <th>53</th>\n",
       "      <td>10</td>\n",
       "      <td>256</td>\n",
       "      <td>0.001</td>\n",
       "      <td>3.0</td>\n",
       "      <td>RMSE</td>\n",
       "      <td>15.072409</td>\n",
       "      <td>5.049950</td>\n",
       "      <td>[11.304258964100821]</td>\n",
       "    </tr>\n",
       "    <tr>\n",
       "      <th>52</th>\n",
       "      <td>10</td>\n",
       "      <td>256</td>\n",
       "      <td>0.001</td>\n",
       "      <td>3.0</td>\n",
       "      <td>likelihood</td>\n",
       "      <td>15.072409</td>\n",
       "      <td>5.049950</td>\n",
       "      <td>[11.304258964100821]</td>\n",
       "    </tr>\n",
       "    <tr>\n",
       "      <th>51</th>\n",
       "      <td>10</td>\n",
       "      <td>256</td>\n",
       "      <td>0.001</td>\n",
       "      <td>1.0</td>\n",
       "      <td>RMSE</td>\n",
       "      <td>15.072409</td>\n",
       "      <td>5.049950</td>\n",
       "      <td>[8.797287497364106]</td>\n",
       "    </tr>\n",
       "    <tr>\n",
       "      <th>50</th>\n",
       "      <td>10</td>\n",
       "      <td>256</td>\n",
       "      <td>0.001</td>\n",
       "      <td>1.0</td>\n",
       "      <td>likelihood</td>\n",
       "      <td>15.072409</td>\n",
       "      <td>5.049950</td>\n",
       "      <td>[8.797287497364106]</td>\n",
       "    </tr>\n",
       "    <tr>\n",
       "      <th>48</th>\n",
       "      <td>10</td>\n",
       "      <td>256</td>\n",
       "      <td>0.001</td>\n",
       "      <td>0.1</td>\n",
       "      <td>likelihood</td>\n",
       "      <td>15.072409</td>\n",
       "      <td>5.049950</td>\n",
       "      <td>[7.662225492665025]</td>\n",
       "    </tr>\n",
       "    <tr>\n",
       "      <th>49</th>\n",
       "      <td>10</td>\n",
       "      <td>256</td>\n",
       "      <td>0.001</td>\n",
       "      <td>0.1</td>\n",
       "      <td>RMSE</td>\n",
       "      <td>15.072409</td>\n",
       "      <td>5.049950</td>\n",
       "      <td>[7.662225492665025]</td>\n",
       "    </tr>\n",
       "  </tbody>\n",
       "</table>\n",
       "</div>"
      ],
      "text/plain": [
       "       h  batch_size     lr  l2_lambda     stop_cr       rmse       mae  \\\n",
       "3    100         128  0.001        1.0        RMSE  15.069407  5.043644   \n",
       "2    100         128  0.001        1.0  likelihood  15.069407  5.043644   \n",
       "17   100         256  0.001        0.1        RMSE  15.069407  5.043644   \n",
       "16   100         256  0.001        0.1  likelihood  15.069407  5.043644   \n",
       "19   100         256  0.001        1.0        RMSE  15.069407  5.043644   \n",
       "18   100         256  0.001        1.0  likelihood  15.069407  5.043644   \n",
       "65    25         128  0.001        0.1        RMSE  15.069525  5.046022   \n",
       "64    25         128  0.001        0.1  likelihood  15.069525  5.046022   \n",
       "80    25         256  0.001        0.1  likelihood  15.069525  5.046022   \n",
       "81    25         256  0.001        0.1        RMSE  15.069525  5.046022   \n",
       "99     5         128  0.001        1.0        RMSE  15.071926  5.049658   \n",
       "98     5         128  0.001        1.0  likelihood  15.071926  5.049658   \n",
       "114    5         256  0.001        1.0  likelihood  15.071926  5.049658   \n",
       "115    5         256  0.001        1.0        RMSE  15.071926  5.049658   \n",
       "53    10         256  0.001        3.0        RMSE  15.072409  5.049950   \n",
       "52    10         256  0.001        3.0  likelihood  15.072409  5.049950   \n",
       "51    10         256  0.001        1.0        RMSE  15.072409  5.049950   \n",
       "50    10         256  0.001        1.0  likelihood  15.072409  5.049950   \n",
       "48    10         256  0.001        0.1  likelihood  15.072409  5.049950   \n",
       "49    10         256  0.001        0.1        RMSE  15.072409  5.049950   \n",
       "\n",
       "               val_losses  \n",
       "3     [7.617420178944947]  \n",
       "2     [7.617420178944947]  \n",
       "17    [18.64002033921539]  \n",
       "16    [18.64002033921539]  \n",
       "19    [7.836691892049352]  \n",
       "18    [7.836691892049352]  \n",
       "65    [7.575232119100993]  \n",
       "64    [7.575232119100993]  \n",
       "80    [7.533015938078771]  \n",
       "81    [7.533015938078771]  \n",
       "99    [7.842506098942678]  \n",
       "98    [7.842506098942678]  \n",
       "114   [9.117346386440465]  \n",
       "115   [9.117346386440465]  \n",
       "53   [11.304258964100821]  \n",
       "52   [11.304258964100821]  \n",
       "51    [8.797287497364106]  \n",
       "50    [8.797287497364106]  \n",
       "48    [7.662225492665025]  \n",
       "49    [7.662225492665025]  "
      ]
     },
     "execution_count": 52,
     "metadata": {},
     "output_type": "execute_result"
    }
   ],
   "source": [
    "pd.DataFrame(all_results).sort_values(\"rmse\").head(20)"
   ]
  },
  {
   "cell_type": "code",
   "execution_count": 72,
   "id": "25309f04",
   "metadata": {},
   "outputs": [
    {
     "name": "stdout",
     "output_type": "stream",
     "text": [
      "[{'h': 10, 'batch_size': 128, 'lr': 0.001, 'l2_lambda': 0.1, 'stop_cr': 'likelihood', 'rmse': 6228.705229856462, 'mae': 4057.033469512603, 'val_losses': [2.7177600600436085]}, {'h': 10, 'batch_size': 128, 'lr': 0.001, 'l2_lambda': 0.1, 'stop_cr': 'RMSE', 'rmse': 6157.428270675481, 'mae': 4073.441802385299, 'val_losses': [2.720077675507694]}, {'h': 10, 'batch_size': 128, 'lr': 0.001, 'l2_lambda': 1.0, 'stop_cr': 'likelihood', 'rmse': 14.525172299878667, 'mae': 4.854197910140237, 'val_losses': [4.236113470108783]}, {'h': 10, 'batch_size': 128, 'lr': 0.001, 'l2_lambda': 1.0, 'stop_cr': 'RMSE', 'rmse': 14.524382497531139, 'mae': 4.854869315897113, 'val_losses': [5.577551650219276]}, {'h': 10, 'batch_size': 128, 'lr': 0.001, 'l2_lambda': 3.0, 'stop_cr': 'likelihood', 'rmse': 14.575473923032664, 'mae': 4.818254072418233, 'val_losses': [4.44591977752623]}, {'h': 10, 'batch_size': 128, 'lr': 0.001, 'l2_lambda': 3.0, 'stop_cr': 'RMSE', 'rmse': 14.572619262439595, 'mae': 4.8200079892921215, 'val_losses': [8.32257206713567]}, {'h': 10, 'batch_size': 128, 'lr': 0.001, 'l2_lambda': 5.0, 'stop_cr': 'likelihood', 'rmse': 14.586259129535254, 'mae': 4.811870480613147, 'val_losses': [4.495032580172429]}, {'h': 10, 'batch_size': 128, 'lr': 0.001, 'l2_lambda': 5.0, 'stop_cr': 'RMSE', 'rmse': 14.585066184903685, 'mae': 4.8125562221022715, 'val_losses': [4.7247890585758645]}, {'h': 10, 'batch_size': 128, 'lr': 0.0001, 'l2_lambda': 0.1, 'stop_cr': 'likelihood', 'rmse': 6484.961044111233, 'mae': 4320.611801463361, 'val_losses': [2.726440468406091]}, {'h': 10, 'batch_size': 128, 'lr': 0.0001, 'l2_lambda': 0.1, 'stop_cr': 'RMSE', 'rmse': 6166.615226192292, 'mae': 3962.4221549268386, 'val_losses': [2.949371301736988]}, {'h': 10, 'batch_size': 128, 'lr': 0.0001, 'l2_lambda': 1.0, 'stop_cr': 'likelihood', 'rmse': 14.526335354124134, 'mae': 4.8532354133546205, 'val_losses': [4.2372599038921415]}, {'h': 10, 'batch_size': 128, 'lr': 0.0001, 'l2_lambda': 1.0, 'stop_cr': 'RMSE', 'rmse': 14.45612137037627, 'mae': 4.781401812690522, 'val_losses': [7.720754791478642]}, {'h': 10, 'batch_size': 128, 'lr': 0.0001, 'l2_lambda': 3.0, 'stop_cr': 'likelihood', 'rmse': 14.574236906940142, 'mae': 4.819011056304426, 'val_losses': [4.44628306295051]}, {'h': 10, 'batch_size': 128, 'lr': 0.0001, 'l2_lambda': 3.0, 'stop_cr': 'RMSE', 'rmse': 14.573051479224329, 'mae': 4.811851339747914, 'val_losses': [14.839963576832755]}, {'h': 10, 'batch_size': 128, 'lr': 0.0001, 'l2_lambda': 5.0, 'stop_cr': 'likelihood', 'rmse': 14.585179922667262, 'mae': 4.812490617696665, 'val_losses': [4.4967949214528815]}, {'h': 10, 'batch_size': 128, 'lr': 0.0001, 'l2_lambda': 5.0, 'stop_cr': 'RMSE', 'rmse': 14.585931762503737, 'mae': 4.809383121819099, 'val_losses': [21.80469935057593]}, {'h': 10, 'batch_size': 256, 'lr': 0.001, 'l2_lambda': 0.1, 'stop_cr': 'likelihood', 'rmse': 4874.071947147343, 'mae': 3316.322300124153, 'val_losses': [2.710247133598953]}, {'h': 10, 'batch_size': 256, 'lr': 0.001, 'l2_lambda': 0.1, 'stop_cr': 'RMSE', 'rmse': 5006.597160928745, 'mae': 3333.0490841077367, 'val_losses': [2.7113638874448713]}, {'h': 10, 'batch_size': 256, 'lr': 0.001, 'l2_lambda': 1.0, 'stop_cr': 'likelihood', 'rmse': 14.527665406505145, 'mae': 4.8521458601502365, 'val_losses': [4.235389736832166]}, {'h': 10, 'batch_size': 256, 'lr': 0.001, 'l2_lambda': 1.0, 'stop_cr': 'RMSE', 'rmse': 14.527876992095985, 'mae': 4.851636720591015, 'val_losses': [5.5608681538065925]}, {'h': 10, 'batch_size': 256, 'lr': 0.001, 'l2_lambda': 3.0, 'stop_cr': 'likelihood', 'rmse': 14.574609653642375, 'mae': 4.818782503677424, 'val_losses': [4.443622636013344]}, {'h': 10, 'batch_size': 256, 'lr': 0.001, 'l2_lambda': 3.0, 'stop_cr': 'RMSE', 'rmse': 14.575482330812564, 'mae': 4.818248524094189, 'val_losses': [8.300939927335646]}, {'h': 10, 'batch_size': 256, 'lr': 0.001, 'l2_lambda': 5.0, 'stop_cr': 'likelihood', 'rmse': 14.586293915236613, 'mae': 4.811850542797229, 'val_losses': [4.494587624659304]}, {'h': 10, 'batch_size': 256, 'lr': 0.001, 'l2_lambda': 5.0, 'stop_cr': 'RMSE', 'rmse': 14.584368940291194, 'mae': 4.812959636467264, 'val_losses': [4.521345330066368]}, {'h': 10, 'batch_size': 256, 'lr': 0.0001, 'l2_lambda': 0.1, 'stop_cr': 'likelihood', 'rmse': 6432.964219451606, 'mae': 4261.974542397454, 'val_losses': [2.7256689670144536]}, {'h': 10, 'batch_size': 256, 'lr': 0.0001, 'l2_lambda': 0.1, 'stop_cr': 'RMSE', 'rmse': 5501.579475586483, 'mae': 3382.830428680327, 'val_losses': [2.941806399431385]}, {'h': 10, 'batch_size': 256, 'lr': 0.0001, 'l2_lambda': 1.0, 'stop_cr': 'likelihood', 'rmse': 14.525986708122135, 'mae': 4.85352298810131, 'val_losses': [4.236153727672139]}, {'h': 10, 'batch_size': 256, 'lr': 0.0001, 'l2_lambda': 1.0, 'stop_cr': 'RMSE', 'rmse': 14.38473183279145, 'mae': 4.748922781817904, 'val_losses': [8.327800578758366]}, {'h': 10, 'batch_size': 256, 'lr': 0.0001, 'l2_lambda': 3.0, 'stop_cr': 'likelihood', 'rmse': 14.57379810309285, 'mae': 4.819280398255307, 'val_losses': [4.445226165114856]}, {'h': 10, 'batch_size': 256, 'lr': 0.0001, 'l2_lambda': 3.0, 'stop_cr': 'RMSE', 'rmse': 14.565803332304757, 'mae': 4.802866757339597, 'val_losses': [16.692371556016266]}, {'h': 10, 'batch_size': 256, 'lr': 0.0001, 'l2_lambda': 5.0, 'stop_cr': 'likelihood', 'rmse': 14.584740282595709, 'mae': 4.812744569148644, 'val_losses': [4.495750907991753]}, {'h': 10, 'batch_size': 256, 'lr': 0.0001, 'l2_lambda': 5.0, 'stop_cr': 'RMSE', 'rmse': 14.585463368352544, 'mae': 4.808060808527884, 'val_losses': [24.90410942327781]}, {'h': 25, 'batch_size': 128, 'lr': 0.001, 'l2_lambda': 0.1, 'stop_cr': 'likelihood', 'rmse': 10374.097347841533, 'mae': 430.2110538345559, 'val_losses': [2.0769510515889182]}, {'h': 25, 'batch_size': 128, 'lr': 0.001, 'l2_lambda': 0.1, 'stop_cr': 'RMSE', 'rmse': 14904.32217315563, 'mae': 605.8175979278528, 'val_losses': [2.2409466999720355]}, {'h': 25, 'batch_size': 128, 'lr': 0.001, 'l2_lambda': 1.0, 'stop_cr': 'likelihood', 'rmse': 14.4650695019372, 'mae': 4.7882054695233975, 'val_losses': [4.236893728131154]}, {'h': 25, 'batch_size': 128, 'lr': 0.001, 'l2_lambda': 1.0, 'stop_cr': 'RMSE', 'rmse': 14.492096546502975, 'mae': 4.807007771349164, 'val_losses': [4.263716308796992]}, {'h': 25, 'batch_size': 128, 'lr': 0.001, 'l2_lambda': 3.0, 'stop_cr': 'likelihood', 'rmse': 14.571800551864264, 'mae': 4.8155410144043485, 'val_losses': [4.445216790574496]}, {'h': 25, 'batch_size': 128, 'lr': 0.001, 'l2_lambda': 3.0, 'stop_cr': 'RMSE', 'rmse': 14.57095056684082, 'mae': 4.816065266906797, 'val_losses': [7.037950527472574]}, {'h': 25, 'batch_size': 128, 'lr': 0.001, 'l2_lambda': 5.0, 'stop_cr': 'likelihood', 'rmse': 14.582584066951226, 'mae': 4.809093021742472, 'val_losses': [4.4962329317311776]}, {'h': 25, 'batch_size': 128, 'lr': 0.001, 'l2_lambda': 5.0, 'stop_cr': 'RMSE', 'rmse': 14.582058390836558, 'mae': 4.809398006547919, 'val_losses': [8.794847504037325]}, {'h': 25, 'batch_size': 128, 'lr': 0.0001, 'l2_lambda': 0.1, 'stop_cr': 'likelihood', 'rmse': 2078.7125569658524, 'mae': 1027.4981412134136, 'val_losses': [2.1441121144128625]}, {'h': 25, 'batch_size': 128, 'lr': 0.0001, 'l2_lambda': 0.1, 'stop_cr': 'RMSE', 'rmse': 2929.952768856239, 'mae': 1081.9276916853046, 'val_losses': [4.633889595016104]}, {'h': 25, 'batch_size': 128, 'lr': 0.0001, 'l2_lambda': 1.0, 'stop_cr': 'likelihood', 'rmse': 14.48013018029614, 'mae': 4.79790993941391, 'val_losses': [4.238893856767748]}, {'h': 25, 'batch_size': 128, 'lr': 0.0001, 'l2_lambda': 1.0, 'stop_cr': 'RMSE', 'rmse': 14.448909917474444, 'mae': 4.769400968451381, 'val_losses': [4.491244148035518]}, {'h': 25, 'batch_size': 128, 'lr': 0.0001, 'l2_lambda': 3.0, 'stop_cr': 'likelihood', 'rmse': 14.571444952292575, 'mae': 4.815759902949029, 'val_losses': [4.446572977988446]}, {'h': 25, 'batch_size': 128, 'lr': 0.0001, 'l2_lambda': 3.0, 'stop_cr': 'RMSE', 'rmse': 14.567814491530045, 'mae': 4.804773272107817, 'val_losses': [9.557971907443688]}, {'h': 25, 'batch_size': 128, 'lr': 0.0001, 'l2_lambda': 5.0, 'stop_cr': 'likelihood', 'rmse': 14.582562819933349, 'mae': 4.809105322394051, 'val_losses': [4.497327611094615]}, {'h': 25, 'batch_size': 128, 'lr': 0.0001, 'l2_lambda': 5.0, 'stop_cr': 'RMSE', 'rmse': 14.581032652517495, 'mae': 4.804001079789478, 'val_losses': [13.003638759988252]}, {'h': 25, 'batch_size': 256, 'lr': 0.001, 'l2_lambda': 0.1, 'stop_cr': 'likelihood', 'rmse': 1415.160108166369, 'mae': 510.54574718179543, 'val_losses': [2.073997501467095]}, {'h': 25, 'batch_size': 256, 'lr': 0.001, 'l2_lambda': 0.1, 'stop_cr': 'RMSE', 'rmse': 3620.938821218824, 'mae': 1877.2335398414493, 'val_losses': [2.5126408323889873]}, {'h': 25, 'batch_size': 256, 'lr': 0.001, 'l2_lambda': 1.0, 'stop_cr': 'likelihood', 'rmse': 14.472256103029244, 'mae': 4.794486756915385, 'val_losses': [4.23736521064258]}, {'h': 25, 'batch_size': 256, 'lr': 0.001, 'l2_lambda': 1.0, 'stop_cr': 'RMSE', 'rmse': 14.476185517096653, 'mae': 4.793326011093763, 'val_losses': [4.398288554832583]}, {'h': 25, 'batch_size': 256, 'lr': 0.001, 'l2_lambda': 3.0, 'stop_cr': 'likelihood', 'rmse': 14.570711109125254, 'mae': 4.816213500720986, 'val_losses': [4.444991698030566]}, {'h': 25, 'batch_size': 256, 'lr': 0.001, 'l2_lambda': 3.0, 'stop_cr': 'RMSE', 'rmse': 14.572317822459055, 'mae': 4.815222209690556, 'val_losses': [7.0268953276462245]}, {'h': 25, 'batch_size': 256, 'lr': 0.001, 'l2_lambda': 5.0, 'stop_cr': 'likelihood', 'rmse': 14.58188162072255, 'mae': 4.809500772196075, 'val_losses': [4.4956519369219174]}, {'h': 25, 'batch_size': 256, 'lr': 0.001, 'l2_lambda': 5.0, 'stop_cr': 'RMSE', 'rmse': 14.582658293076273, 'mae': 4.809049725321354, 'val_losses': [8.777711508704014]}, {'h': 25, 'batch_size': 256, 'lr': 0.0001, 'l2_lambda': 0.1, 'stop_cr': 'likelihood', 'rmse': 2066.122799335037, 'mae': 1003.3653869619706, 'val_losses': [2.2090306997787756]}, {'h': 25, 'batch_size': 256, 'lr': 0.0001, 'l2_lambda': 0.1, 'stop_cr': 'RMSE', 'rmse': 3015.817273059075, 'mae': 889.0485228314712, 'val_losses': [4.384350233390683]}, {'h': 25, 'batch_size': 256, 'lr': 0.0001, 'l2_lambda': 1.0, 'stop_cr': 'likelihood', 'rmse': 14.47750587283002, 'mae': 4.794963031873038, 'val_losses': [4.238338783139088]}, {'h': 25, 'batch_size': 256, 'lr': 0.0001, 'l2_lambda': 1.0, 'stop_cr': 'RMSE', 'rmse': 14.384539403772527, 'mae': 4.7210582666033645, 'val_losses': [4.659853231711466]}, {'h': 25, 'batch_size': 256, 'lr': 0.0001, 'l2_lambda': 3.0, 'stop_cr': 'likelihood', 'rmse': 14.571676627192714, 'mae': 4.8156172837495985, 'val_losses': [4.445979915681432]}, {'h': 25, 'batch_size': 256, 'lr': 0.0001, 'l2_lambda': 3.0, 'stop_cr': 'RMSE', 'rmse': 7521.89305244821, 'mae': 65.08794852278928, 'val_losses': [43.93827876106637]}, {'h': 25, 'batch_size': 256, 'lr': 0.0001, 'l2_lambda': 5.0, 'stop_cr': 'likelihood', 'rmse': 14.582676555753498, 'mae': 4.80903948922477, 'val_losses': [4.496560878440982]}, {'h': 25, 'batch_size': 256, 'lr': 0.0001, 'l2_lambda': 5.0, 'stop_cr': 'RMSE', 'rmse': 14.580114674893911, 'mae': 4.7942841557878415, 'val_losses': [14.801800196288061]}, {'h': 5, 'batch_size': 128, 'lr': 0.001, 'l2_lambda': 0.1, 'stop_cr': 'likelihood', 'rmse': 5613.599125774626, 'mae': 3431.4658412017493, 'val_losses': [2.7671545918603413]}, {'h': 5, 'batch_size': 128, 'lr': 0.001, 'l2_lambda': 0.1, 'stop_cr': 'RMSE', 'rmse': 6053.788966828211, 'mae': 3923.3525269824163, 'val_losses': [2.7984880983340936]}, {'h': 5, 'batch_size': 128, 'lr': 0.001, 'l2_lambda': 1.0, 'stop_cr': 'likelihood', 'rmse': 14.525106797679905, 'mae': 4.853655459386882, 'val_losses': [4.2358082845562794]}, {'h': 5, 'batch_size': 128, 'lr': 0.001, 'l2_lambda': 1.0, 'stop_cr': 'RMSE', 'rmse': 14.52365668145943, 'mae': 4.854882286827656, 'val_losses': [6.644109593063105]}, {'h': 5, 'batch_size': 128, 'lr': 0.001, 'l2_lambda': 3.0, 'stop_cr': 'likelihood', 'rmse': 14.573625565435169, 'mae': 4.818874917655421, 'val_losses': [4.445815785986478]}, {'h': 5, 'batch_size': 128, 'lr': 0.001, 'l2_lambda': 3.0, 'stop_cr': 'RMSE', 'rmse': 14.571722826788802, 'mae': 4.8200500517710125, 'val_losses': [11.557613794920874]}, {'h': 5, 'batch_size': 128, 'lr': 0.001, 'l2_lambda': 5.0, 'stop_cr': 'likelihood', 'rmse': 14.583721742353008, 'mae': 4.812836592921657, 'val_losses': [4.495883871297368]}, {'h': 5, 'batch_size': 128, 'lr': 0.001, 'l2_lambda': 5.0, 'stop_cr': 'RMSE', 'rmse': 14.582720505957498, 'mae': 4.813419355346479, 'val_losses': [16.321759294291013]}, {'h': 5, 'batch_size': 128, 'lr': 0.0001, 'l2_lambda': 0.1, 'stop_cr': 'likelihood', 'rmse': 4235.15248699478, 'mae': 2578.350447038551, 'val_losses': [2.7824908746559114]}, {'h': 5, 'batch_size': 128, 'lr': 0.0001, 'l2_lambda': 0.1, 'stop_cr': 'RMSE', 'rmse': 3624.904614170633, 'mae': 2082.695742763973, 'val_losses': [3.4394935100782114]}, {'h': 5, 'batch_size': 128, 'lr': 0.0001, 'l2_lambda': 1.0, 'stop_cr': 'likelihood', 'rmse': 14.525791074021399, 'mae': 4.853089488187896, 'val_losses': [4.237045102432126]}, {'h': 5, 'batch_size': 128, 'lr': 0.0001, 'l2_lambda': 1.0, 'stop_cr': 'RMSE', 'rmse': 14.512135102488534, 'mae': 4.837811480045719, 'val_losses': [7.274908546541558]}, {'h': 5, 'batch_size': 128, 'lr': 0.0001, 'l2_lambda': 3.0, 'stop_cr': 'likelihood', 'rmse': 14.57378912104991, 'mae': 4.818774544061739, 'val_losses': [4.445717219446526]}, {'h': 5, 'batch_size': 128, 'lr': 0.0001, 'l2_lambda': 3.0, 'stop_cr': 'RMSE', 'rmse': 14.5721371128834, 'mae': 4.818811566832305, 'val_losses': [13.463940995638488]}, {'h': 5, 'batch_size': 128, 'lr': 0.0001, 'l2_lambda': 5.0, 'stop_cr': 'likelihood', 'rmse': 14.58483032957929, 'mae': 4.81219498985088, 'val_losses': [4.496218972518796]}, {'h': 5, 'batch_size': 128, 'lr': 0.0001, 'l2_lambda': 5.0, 'stop_cr': 'RMSE', 'rmse': 14.58380459891897, 'mae': 4.81218880676386, 'val_losses': [19.51018513226118]}, {'h': 5, 'batch_size': 256, 'lr': 0.001, 'l2_lambda': 0.1, 'stop_cr': 'likelihood', 'rmse': 5551.574717580649, 'mae': 3387.964143684034, 'val_losses': [2.7674933112547047]}, {'h': 5, 'batch_size': 256, 'lr': 0.001, 'l2_lambda': 0.1, 'stop_cr': 'RMSE', 'rmse': 5055.297842380252, 'mae': 3020.6614392998845, 'val_losses': [3.103829837236248]}, {'h': 5, 'batch_size': 256, 'lr': 0.001, 'l2_lambda': 1.0, 'stop_cr': 'likelihood', 'rmse': 14.52660018733426, 'mae': 4.852424265772733, 'val_losses': [4.2324679562302885]}, {'h': 5, 'batch_size': 256, 'lr': 0.001, 'l2_lambda': 1.0, 'stop_cr': 'RMSE', 'rmse': 14.525072031447214, 'mae': 4.853669470085981, 'val_losses': [6.6284719217019]}, {'h': 5, 'batch_size': 256, 'lr': 0.001, 'l2_lambda': 3.0, 'stop_cr': 'likelihood', 'rmse': 14.573179490504165, 'mae': 4.819149165078496, 'val_losses': [4.44347282315864]}, {'h': 5, 'batch_size': 256, 'lr': 0.001, 'l2_lambda': 3.0, 'stop_cr': 'RMSE', 'rmse': 14.574171081627577, 'mae': 4.818541801439845, 'val_losses': [11.567236603283492]}, {'h': 5, 'batch_size': 256, 'lr': 0.001, 'l2_lambda': 5.0, 'stop_cr': 'likelihood', 'rmse': 14.58408862819879, 'mae': 4.81262374853257, 'val_losses': [4.494054387827388]}, {'h': 5, 'batch_size': 256, 'lr': 0.001, 'l2_lambda': 5.0, 'stop_cr': 'RMSE', 'rmse': 14.585313244540318, 'mae': 4.811918148724039, 'val_losses': [16.275580671967052]}, {'h': 5, 'batch_size': 256, 'lr': 0.0001, 'l2_lambda': 0.1, 'stop_cr': 'likelihood', 'rmse': 4273.075019819375, 'mae': 2633.7172535364216, 'val_losses': [2.7830494871882143]}, {'h': 5, 'batch_size': 256, 'lr': 0.0001, 'l2_lambda': 0.1, 'stop_cr': 'RMSE', 'rmse': 660434.5281976676, 'mae': 9429.965346544852, 'val_losses': [6.300127474988093]}, {'h': 5, 'batch_size': 256, 'lr': 0.0001, 'l2_lambda': 1.0, 'stop_cr': 'likelihood', 'rmse': 14.525481019917668, 'mae': 4.853360595219443, 'val_losses': [4.273355355028246]}, {'h': 5, 'batch_size': 256, 'lr': 0.0001, 'l2_lambda': 1.0, 'stop_cr': 'RMSE', 'rmse': 14.495109591988962, 'mae': 4.821017802306405, 'val_losses': [7.252524399366535]}, {'h': 5, 'batch_size': 256, 'lr': 0.0001, 'l2_lambda': 3.0, 'stop_cr': 'likelihood', 'rmse': 14.573440246322173, 'mae': 4.819024550823999, 'val_losses': [4.557407171999822]}, {'h': 5, 'batch_size': 256, 'lr': 0.0001, 'l2_lambda': 3.0, 'stop_cr': 'RMSE', 'rmse': 14.571769670050658, 'mae': 4.8165872394812, 'val_losses': [13.43692391817687]}, {'h': 5, 'batch_size': 256, 'lr': 0.0001, 'l2_lambda': 5.0, 'stop_cr': 'likelihood', 'rmse': 14.584478428254775, 'mae': 4.812420758704011, 'val_losses': [4.683479617853633]}, {'h': 5, 'batch_size': 256, 'lr': 0.0001, 'l2_lambda': 5.0, 'stop_cr': 'RMSE', 'rmse': 14.584257944441589, 'mae': 4.811292278768922, 'val_losses': [19.469285464677654]}]\n"
     ]
    }
   ],
   "source": [
    "# Directory containing your saved results\n",
    "input_dir = 'validation_results_final_attempt_normalized_direct'\n",
    "\n",
    "# Prepare a list to collect all results\n",
    "all_results = []\n",
    "existing_results = []\n",
    "\n",
    "# Loop over all files in the directory\n",
    "for filename in os.listdir(input_dir):\n",
    "    if filename.endswith('.json'):\n",
    "        filepath = os.path.join(input_dir, filename)\n",
    "        \n",
    "        # Open and load the JSON file\n",
    "        with open(filepath, 'r') as f:\n",
    "            result = json.load(f)\n",
    "        \n",
    "        # Parse hyperparameters from the filename\n",
    "        name_parts = filename.replace('.json', '').split('_')\n",
    "        h = int(name_parts[0][1:])  # strip the 'h'\n",
    "        batch_size = int(name_parts[1][5:])  # strip 'batch'\n",
    "        lr = float(name_parts[2][2:].replace('e', 'e'))  # scientific notation stays\n",
    "        l2_lambda = float(name_parts[3][6:])  # strip 'lambda'\n",
    "        stop_cr = name_parts[4]  # strip 'criteria'\n",
    "\n",
    "        existing_results.append([h,batch_size,lr,l2_lambda,stop_cr])\n",
    "        \n",
    "        # Combine hyperparameters and results\n",
    "        entry = {\n",
    "            'h': h,\n",
    "            'batch_size': batch_size,\n",
    "            'lr': lr,\n",
    "            'l2_lambda': l2_lambda,\n",
    "            'stop_cr':stop_cr,\n",
    "            **result  # unpack the RMSE, MAE, etc.\n",
    "        }\n",
    "        all_results.append(entry)\n",
    "\n",
    "# Now `all_results` is a list of dictionaries\n",
    "print(all_results)"
   ]
  },
  {
   "cell_type": "code",
   "execution_count": 73,
   "id": "94c8c7a4",
   "metadata": {},
   "outputs": [
    {
     "data": {
      "text/html": [
       "<div>\n",
       "<style scoped>\n",
       "    .dataframe tbody tr th:only-of-type {\n",
       "        vertical-align: middle;\n",
       "    }\n",
       "\n",
       "    .dataframe tbody tr th {\n",
       "        vertical-align: top;\n",
       "    }\n",
       "\n",
       "    .dataframe thead th {\n",
       "        text-align: right;\n",
       "    }\n",
       "</style>\n",
       "<table border=\"1\" class=\"dataframe\">\n",
       "  <thead>\n",
       "    <tr style=\"text-align: right;\">\n",
       "      <th></th>\n",
       "      <th>h</th>\n",
       "      <th>batch_size</th>\n",
       "      <th>lr</th>\n",
       "      <th>l2_lambda</th>\n",
       "      <th>stop_cr</th>\n",
       "      <th>rmse</th>\n",
       "      <th>mae</th>\n",
       "      <th>val_losses</th>\n",
       "    </tr>\n",
       "  </thead>\n",
       "  <tbody>\n",
       "    <tr>\n",
       "      <th>59</th>\n",
       "      <td>25</td>\n",
       "      <td>256</td>\n",
       "      <td>0.0001</td>\n",
       "      <td>1.0</td>\n",
       "      <td>RMSE</td>\n",
       "      <td>14.384539</td>\n",
       "      <td>4.721058</td>\n",
       "      <td>[4.659853231711466]</td>\n",
       "    </tr>\n",
       "    <tr>\n",
       "      <th>27</th>\n",
       "      <td>10</td>\n",
       "      <td>256</td>\n",
       "      <td>0.0001</td>\n",
       "      <td>1.0</td>\n",
       "      <td>RMSE</td>\n",
       "      <td>14.384732</td>\n",
       "      <td>4.748923</td>\n",
       "      <td>[8.327800578758366]</td>\n",
       "    </tr>\n",
       "    <tr>\n",
       "      <th>43</th>\n",
       "      <td>25</td>\n",
       "      <td>128</td>\n",
       "      <td>0.0001</td>\n",
       "      <td>1.0</td>\n",
       "      <td>RMSE</td>\n",
       "      <td>14.448910</td>\n",
       "      <td>4.769401</td>\n",
       "      <td>[4.491244148035518]</td>\n",
       "    </tr>\n",
       "    <tr>\n",
       "      <th>11</th>\n",
       "      <td>10</td>\n",
       "      <td>128</td>\n",
       "      <td>0.0001</td>\n",
       "      <td>1.0</td>\n",
       "      <td>RMSE</td>\n",
       "      <td>14.456121</td>\n",
       "      <td>4.781402</td>\n",
       "      <td>[7.720754791478642]</td>\n",
       "    </tr>\n",
       "    <tr>\n",
       "      <th>34</th>\n",
       "      <td>25</td>\n",
       "      <td>128</td>\n",
       "      <td>0.0010</td>\n",
       "      <td>1.0</td>\n",
       "      <td>likelihood</td>\n",
       "      <td>14.465070</td>\n",
       "      <td>4.788205</td>\n",
       "      <td>[4.236893728131154]</td>\n",
       "    </tr>\n",
       "    <tr>\n",
       "      <th>50</th>\n",
       "      <td>25</td>\n",
       "      <td>256</td>\n",
       "      <td>0.0010</td>\n",
       "      <td>1.0</td>\n",
       "      <td>likelihood</td>\n",
       "      <td>14.472256</td>\n",
       "      <td>4.794487</td>\n",
       "      <td>[4.23736521064258]</td>\n",
       "    </tr>\n",
       "    <tr>\n",
       "      <th>51</th>\n",
       "      <td>25</td>\n",
       "      <td>256</td>\n",
       "      <td>0.0010</td>\n",
       "      <td>1.0</td>\n",
       "      <td>RMSE</td>\n",
       "      <td>14.476186</td>\n",
       "      <td>4.793326</td>\n",
       "      <td>[4.398288554832583]</td>\n",
       "    </tr>\n",
       "    <tr>\n",
       "      <th>58</th>\n",
       "      <td>25</td>\n",
       "      <td>256</td>\n",
       "      <td>0.0001</td>\n",
       "      <td>1.0</td>\n",
       "      <td>likelihood</td>\n",
       "      <td>14.477506</td>\n",
       "      <td>4.794963</td>\n",
       "      <td>[4.238338783139088]</td>\n",
       "    </tr>\n",
       "    <tr>\n",
       "      <th>42</th>\n",
       "      <td>25</td>\n",
       "      <td>128</td>\n",
       "      <td>0.0001</td>\n",
       "      <td>1.0</td>\n",
       "      <td>likelihood</td>\n",
       "      <td>14.480130</td>\n",
       "      <td>4.797910</td>\n",
       "      <td>[4.238893856767748]</td>\n",
       "    </tr>\n",
       "    <tr>\n",
       "      <th>35</th>\n",
       "      <td>25</td>\n",
       "      <td>128</td>\n",
       "      <td>0.0010</td>\n",
       "      <td>1.0</td>\n",
       "      <td>RMSE</td>\n",
       "      <td>14.492097</td>\n",
       "      <td>4.807008</td>\n",
       "      <td>[4.263716308796992]</td>\n",
       "    </tr>\n",
       "    <tr>\n",
       "      <th>91</th>\n",
       "      <td>5</td>\n",
       "      <td>256</td>\n",
       "      <td>0.0001</td>\n",
       "      <td>1.0</td>\n",
       "      <td>RMSE</td>\n",
       "      <td>14.495110</td>\n",
       "      <td>4.821018</td>\n",
       "      <td>[7.252524399366535]</td>\n",
       "    </tr>\n",
       "    <tr>\n",
       "      <th>75</th>\n",
       "      <td>5</td>\n",
       "      <td>128</td>\n",
       "      <td>0.0001</td>\n",
       "      <td>1.0</td>\n",
       "      <td>RMSE</td>\n",
       "      <td>14.512135</td>\n",
       "      <td>4.837811</td>\n",
       "      <td>[7.274908546541558]</td>\n",
       "    </tr>\n",
       "    <tr>\n",
       "      <th>67</th>\n",
       "      <td>5</td>\n",
       "      <td>128</td>\n",
       "      <td>0.0010</td>\n",
       "      <td>1.0</td>\n",
       "      <td>RMSE</td>\n",
       "      <td>14.523657</td>\n",
       "      <td>4.854882</td>\n",
       "      <td>[6.644109593063105]</td>\n",
       "    </tr>\n",
       "    <tr>\n",
       "      <th>3</th>\n",
       "      <td>10</td>\n",
       "      <td>128</td>\n",
       "      <td>0.0010</td>\n",
       "      <td>1.0</td>\n",
       "      <td>RMSE</td>\n",
       "      <td>14.524382</td>\n",
       "      <td>4.854869</td>\n",
       "      <td>[5.577551650219276]</td>\n",
       "    </tr>\n",
       "    <tr>\n",
       "      <th>83</th>\n",
       "      <td>5</td>\n",
       "      <td>256</td>\n",
       "      <td>0.0010</td>\n",
       "      <td>1.0</td>\n",
       "      <td>RMSE</td>\n",
       "      <td>14.525072</td>\n",
       "      <td>4.853669</td>\n",
       "      <td>[6.6284719217019]</td>\n",
       "    </tr>\n",
       "    <tr>\n",
       "      <th>66</th>\n",
       "      <td>5</td>\n",
       "      <td>128</td>\n",
       "      <td>0.0010</td>\n",
       "      <td>1.0</td>\n",
       "      <td>likelihood</td>\n",
       "      <td>14.525107</td>\n",
       "      <td>4.853655</td>\n",
       "      <td>[4.2358082845562794]</td>\n",
       "    </tr>\n",
       "    <tr>\n",
       "      <th>2</th>\n",
       "      <td>10</td>\n",
       "      <td>128</td>\n",
       "      <td>0.0010</td>\n",
       "      <td>1.0</td>\n",
       "      <td>likelihood</td>\n",
       "      <td>14.525172</td>\n",
       "      <td>4.854198</td>\n",
       "      <td>[4.236113470108783]</td>\n",
       "    </tr>\n",
       "    <tr>\n",
       "      <th>90</th>\n",
       "      <td>5</td>\n",
       "      <td>256</td>\n",
       "      <td>0.0001</td>\n",
       "      <td>1.0</td>\n",
       "      <td>likelihood</td>\n",
       "      <td>14.525481</td>\n",
       "      <td>4.853361</td>\n",
       "      <td>[4.273355355028246]</td>\n",
       "    </tr>\n",
       "    <tr>\n",
       "      <th>74</th>\n",
       "      <td>5</td>\n",
       "      <td>128</td>\n",
       "      <td>0.0001</td>\n",
       "      <td>1.0</td>\n",
       "      <td>likelihood</td>\n",
       "      <td>14.525791</td>\n",
       "      <td>4.853089</td>\n",
       "      <td>[4.237045102432126]</td>\n",
       "    </tr>\n",
       "    <tr>\n",
       "      <th>26</th>\n",
       "      <td>10</td>\n",
       "      <td>256</td>\n",
       "      <td>0.0001</td>\n",
       "      <td>1.0</td>\n",
       "      <td>likelihood</td>\n",
       "      <td>14.525987</td>\n",
       "      <td>4.853523</td>\n",
       "      <td>[4.236153727672139]</td>\n",
       "    </tr>\n",
       "  </tbody>\n",
       "</table>\n",
       "</div>"
      ],
      "text/plain": [
       "     h  batch_size      lr  l2_lambda     stop_cr       rmse       mae  \\\n",
       "59  25         256  0.0001        1.0        RMSE  14.384539  4.721058   \n",
       "27  10         256  0.0001        1.0        RMSE  14.384732  4.748923   \n",
       "43  25         128  0.0001        1.0        RMSE  14.448910  4.769401   \n",
       "11  10         128  0.0001        1.0        RMSE  14.456121  4.781402   \n",
       "34  25         128  0.0010        1.0  likelihood  14.465070  4.788205   \n",
       "50  25         256  0.0010        1.0  likelihood  14.472256  4.794487   \n",
       "51  25         256  0.0010        1.0        RMSE  14.476186  4.793326   \n",
       "58  25         256  0.0001        1.0  likelihood  14.477506  4.794963   \n",
       "42  25         128  0.0001        1.0  likelihood  14.480130  4.797910   \n",
       "35  25         128  0.0010        1.0        RMSE  14.492097  4.807008   \n",
       "91   5         256  0.0001        1.0        RMSE  14.495110  4.821018   \n",
       "75   5         128  0.0001        1.0        RMSE  14.512135  4.837811   \n",
       "67   5         128  0.0010        1.0        RMSE  14.523657  4.854882   \n",
       "3   10         128  0.0010        1.0        RMSE  14.524382  4.854869   \n",
       "83   5         256  0.0010        1.0        RMSE  14.525072  4.853669   \n",
       "66   5         128  0.0010        1.0  likelihood  14.525107  4.853655   \n",
       "2   10         128  0.0010        1.0  likelihood  14.525172  4.854198   \n",
       "90   5         256  0.0001        1.0  likelihood  14.525481  4.853361   \n",
       "74   5         128  0.0001        1.0  likelihood  14.525791  4.853089   \n",
       "26  10         256  0.0001        1.0  likelihood  14.525987  4.853523   \n",
       "\n",
       "              val_losses  \n",
       "59   [4.659853231711466]  \n",
       "27   [8.327800578758366]  \n",
       "43   [4.491244148035518]  \n",
       "11   [7.720754791478642]  \n",
       "34   [4.236893728131154]  \n",
       "50    [4.23736521064258]  \n",
       "51   [4.398288554832583]  \n",
       "58   [4.238338783139088]  \n",
       "42   [4.238893856767748]  \n",
       "35   [4.263716308796992]  \n",
       "91   [7.252524399366535]  \n",
       "75   [7.274908546541558]  \n",
       "67   [6.644109593063105]  \n",
       "3    [5.577551650219276]  \n",
       "83     [6.6284719217019]  \n",
       "66  [4.2358082845562794]  \n",
       "2    [4.236113470108783]  \n",
       "90   [4.273355355028246]  \n",
       "74   [4.237045102432126]  \n",
       "26   [4.236153727672139]  "
      ]
     },
     "execution_count": 73,
     "metadata": {},
     "output_type": "execute_result"
    }
   ],
   "source": [
    "pd.DataFrame(all_results).sort_values(\"rmse\").head(20)"
   ]
  },
  {
   "cell_type": "code",
   "execution_count": null,
   "id": "d69f1470",
   "metadata": {},
   "outputs": [],
   "source": []
  },
  {
   "cell_type": "code",
   "execution_count": 58,
   "id": "fff78adc",
   "metadata": {},
   "outputs": [
    {
     "name": "stdout",
     "output_type": "stream",
     "text": [
      "\n",
      "📊 h: 100, batch_size:256, lr: 0.001, l2_lambda:1, RMSE\n",
      "\n",
      "🌱 Training ensemble model 1/2\n",
      "Epoch 1.      Train Loss: 4.3489, Val Loss: 5.0285.      Train RMSE: 21907429.8663, Val RMSE: 246.1650\n",
      "Epoch 5.      Train Loss: 1.9335, Val Loss: 1.6357.      Train RMSE: 3997.7097, Val RMSE: 10040.2470\n",
      "Epoch 10.      Train Loss: 1.9281, Val Loss: 1.6358.      Train RMSE: 3649.8656, Val RMSE: 9563.5353\n",
      "Early stopping triggered.\n",
      "\n",
      "🌱 Training ensemble model 2/2\n",
      "Epoch 1.      Train Loss: 2.9476, Val Loss: 2.6765.      Train RMSE: 1584.7315, Val RMSE: 3730.1980\n",
      "Epoch 5.      Train Loss: 1.9287, Val Loss: 1.6363.      Train RMSE: 3574.3518, Val RMSE: 9467.1618\n",
      "Epoch 10.      Train Loss: 1.9307, Val Loss: 1.6251.      Train RMSE: 4028.7133, Val RMSE: 10159.8720\n",
      "Early stopping triggered.\n"
     ]
    }
   ],
   "source": [
    "h, batch_size, lr, l2_lambda, stop_cr = 100, 256, 1e-3, 1, 'RMSE'\n",
    "\n",
    "d1=source1_tensor.shape[1]  # number of features of the 1st source\n",
    "d2=source2_tensor.shape[1]  # number of features of the 2nd source\n",
    "\n",
    "device = 'cuda' if torch.cuda.is_available() else 'cpu'\n",
    "\n",
    "\n",
    "train_loader, val_loader, test_loader = create_datasets(source1_array, source2_array, target_array, weight_array, batch_size, h)\n",
    "\n",
    "print(f\"\\n📊 h: {h}, batch_size:{batch_size}, lr: {lr}, l2_lambda:{l2_lambda}, {stop_cr}\")\n",
    "\n",
    "ensemble, losses = train_tme_ensemble(\n",
    "    train_loader=train_loader,\n",
    "    val_loader=val_loader,\n",
    "    d1=d1,  # number of features of the 1st source\n",
    "    d2=d2,  # number of features of the 2nd source\n",
    "    h=h,  # lag length\n",
    "    num_models=2,#20,\n",
    "    device=device,\n",
    "    lr=lr,\n",
    "    weight_decay=0.1,\n",
    "    l2_lambda=l2_lambda,\n",
    "    max_epochs=100,\n",
    "    patience=10,\n",
    "    adam=True,\n",
    "    direct_target=False,\n",
    "    stop_criteria=stop_cr\n",
    ")"
   ]
  },
  {
   "cell_type": "code",
   "execution_count": 59,
   "id": "b64d4967",
   "metadata": {},
   "outputs": [],
   "source": [
    "y_preds, y_preds_median, rmse, mae = evaluate_tme_ensemble(ensemble, test_loader, device='cpu')"
   ]
  },
  {
   "cell_type": "code",
   "execution_count": 60,
   "id": "4ddf4eb1",
   "metadata": {},
   "outputs": [
    {
     "name": "stdout",
     "output_type": "stream",
     "text": [
      "10686.299290363746 3382.2510533179084\n"
     ]
    }
   ],
   "source": [
    "print(rmse, mae)"
   ]
  },
  {
   "cell_type": "code",
   "execution_count": 110,
   "id": "faeb3632",
   "metadata": {},
   "outputs": [
    {
     "name": "stdout",
     "output_type": "stream",
     "text": [
      "\n",
      "📊 h: 25, batch_size:128, lr: 0.0001, l2_lambda:1, RMSE\n",
      "\n",
      "🌱 Training ensemble model 1/10\n",
      "Model 1 initialized with seed: 1581798263\n",
      "Epoch 1.      Train Loss: 23.0315, Val Loss: 23.6696.      Train RMSE: 18890253067.2180, Val RMSE: 61936.8535\n",
      "Epoch 5.      Train Loss: 8.9735, Val Loss: 9.8773.      Train RMSE: 223184317.7682, Val RMSE: 87.5109\n",
      "Epoch 10.      Train Loss: 4.5166, Val Loss: 5.4789.      Train RMSE: 161.1182, Val RMSE: 14.4605\n",
      "Epoch 15.      Train Loss: 3.6072, Val Loss: 4.5265.      Train RMSE: 54.4358, Val RMSE: 14.4867\n",
      "Early stopping triggered.\n",
      "\n",
      "🌱 Training ensemble model 2/10\n",
      "Model 2 initialized with seed: 805311477\n",
      "Epoch 1.      Train Loss: 18.6276, Val Loss: 17.3453.      Train RMSE: 898420420.0992, Val RMSE: 41058.7450\n",
      "Epoch 5.      Train Loss: 7.4518, Val Loss: 8.1189.      Train RMSE: 33786.8708, Val RMSE: 14.5328\n",
      "Epoch 10.      Train Loss: 4.2188, Val Loss: 5.1075.      Train RMSE: 51.9776, Val RMSE: 14.1949\n",
      "Epoch 15.      Train Loss: 3.4235, Val Loss: 4.3641.      Train RMSE: 18.4530, Val RMSE: 14.3213\n",
      "Early stopping triggered.\n",
      "\n",
      "🌱 Training ensemble model 3/10\n",
      "Model 3 initialized with seed: 499550012\n",
      "Epoch 1.      Train Loss: 21.2489, Val Loss: 22.2362.      Train RMSE: 32482016034.2947, Val RMSE: 17312528.8510\n",
      "Epoch 5.      Train Loss: 6.9399, Val Loss: 7.8952.      Train RMSE: 21581421.7036, Val RMSE: 228.4569\n",
      "Epoch 10.      Train Loss: 3.6068, Val Loss: 4.5514.      Train RMSE: 45.6166, Val RMSE: 14.3528\n",
      "Epoch 15.      Train Loss: 3.3077, Val Loss: 4.2538.      Train RMSE: 16.6529, Val RMSE: 14.4217\n",
      "Early stopping triggered.\n",
      "\n",
      "🌱 Training ensemble model 4/10\n",
      "Model 4 initialized with seed: 2061950113\n",
      "Epoch 1.      Train Loss: 19.5392, Val Loss: 20.9883.      Train RMSE: 45691317824.7598, Val RMSE: 388274.2810\n",
      "Epoch 5.      Train Loss: 7.8841, Val Loss: 8.7471.      Train RMSE: 495016292.5763, Val RMSE: 2920.6263\n",
      "Epoch 10.      Train Loss: 4.2965, Val Loss: 5.1702.      Train RMSE: 6977.5761, Val RMSE: 17.2672\n",
      "Epoch 15.      Train Loss: 3.4433, Val Loss: 4.3695.      Train RMSE: 19.5323, Val RMSE: 14.3060\n",
      "Epoch 20.      Train Loss: 3.2996, Val Loss: 4.2434.      Train RMSE: 16.7559, Val RMSE: 14.4669\n",
      "Early stopping triggered.\n",
      "\n",
      "🌱 Training ensemble model 5/10\n",
      "Model 5 initialized with seed: 1124417233\n",
      "Epoch 1.      Train Loss: 21.1176, Val Loss: 21.2264.      Train RMSE: 30853301364.3763, Val RMSE: 120812.9180\n",
      "Epoch 5.      Train Loss: 7.4676, Val Loss: 8.3759.      Train RMSE: 1245003.1448, Val RMSE: 1042.4794\n",
      "Epoch 10.      Train Loss: 3.8131, Val Loss: 4.7535.      Train RMSE: 19.0049, Val RMSE: 14.3073\n",
      "Early stopping triggered.\n",
      "\n",
      "🌱 Training ensemble model 6/10\n",
      "Model 6 initialized with seed: 1279896647\n",
      "Epoch 1.      Train Loss: 18.8360, Val Loss: 19.6145.      Train RMSE: 57420878997.0336, Val RMSE: 7788933200.8249\n",
      "Epoch 5.      Train Loss: 6.7365, Val Loss: 7.5889.      Train RMSE: 2549599.0953, Val RMSE: 940.5544\n",
      "Epoch 10.      Train Loss: 3.9647, Val Loss: 4.9084.      Train RMSE: 59.8085, Val RMSE: 14.2099\n",
      "Epoch 15.      Train Loss: 3.4410, Val Loss: 4.3859.      Train RMSE: 16.7086, Val RMSE: 14.4457\n",
      "Early stopping triggered.\n",
      "\n",
      "🌱 Training ensemble model 7/10\n",
      "Model 7 initialized with seed: 1523395765\n",
      "Epoch 1.      Train Loss: 18.4827, Val Loss: 19.2690.      Train RMSE: 113564934208.1345, Val RMSE: 67373982365.0085\n",
      "Epoch 5.      Train Loss: 5.9964, Val Loss: 6.8535.      Train RMSE: 208447249.1863, Val RMSE: 445.1123\n",
      "Epoch 10.      Train Loss: 3.4555, Val Loss: 4.4022.      Train RMSE: 215.3880, Val RMSE: 14.1114\n",
      "Epoch 15.      Train Loss: 3.2980, Val Loss: 4.2431.      Train RMSE: 16.7053, Val RMSE: 14.4451\n",
      "Early stopping triggered.\n",
      "\n",
      "🌱 Training ensemble model 8/10\n",
      "Model 8 initialized with seed: 1960940757\n",
      "Epoch 1.      Train Loss: 17.8158, Val Loss: 18.4285.      Train RMSE: 63884347324.4361, Val RMSE: 6428.7066\n",
      "Epoch 5.      Train Loss: 5.6842, Val Loss: 6.4707.      Train RMSE: 239.1917, Val RMSE: 183.1378\n",
      "Epoch 10.      Train Loss: 3.3827, Val Loss: 4.3411.      Train RMSE: 16.8542, Val RMSE: 14.5166\n",
      "Epoch 15.      Train Loss: 3.2976, Val Loss: 4.2379.      Train RMSE: 16.8628, Val RMSE: 14.5236\n",
      "Early stopping triggered.\n",
      "\n",
      "🌱 Training ensemble model 9/10\n",
      "Model 9 initialized with seed: 1771317417\n",
      "Epoch 1.      Train Loss: 16.0533, Val Loss: 17.0019.      Train RMSE: 57688949405.7468, Val RMSE: 246571.9753\n",
      "Epoch 5.      Train Loss: 5.3274, Val Loss: 6.1880.      Train RMSE: 2060472.4848, Val RMSE: 14.5190\n",
      "Epoch 10.      Train Loss: 3.5014, Val Loss: 4.4112.      Train RMSE: 17.3517, Val RMSE: 14.3289\n",
      "Early stopping triggered.\n",
      "\n",
      "🌱 Training ensemble model 10/10\n",
      "Model 10 initialized with seed: 708439349\n",
      "Epoch 1.      Train Loss: 18.9808, Val Loss: 19.9433.      Train RMSE: 98077974640.5708, Val RMSE: 11336424332.9414\n",
      "Epoch 5.      Train Loss: 6.9202, Val Loss: 7.9164.      Train RMSE: 19636589103.9228, Val RMSE: 145.7219\n",
      "Epoch 10.      Train Loss: 3.6755, Val Loss: 4.6159.      Train RMSE: 585.7237, Val RMSE: 14.2390\n",
      "Epoch 15.      Train Loss: 3.3086, Val Loss: 4.2536.      Train RMSE: 16.7859, Val RMSE: 14.3688\n",
      "Early stopping triggered.\n"
     ]
    }
   ],
   "source": [
    "h, batch_size, lr, l2_lambda, stop_cr = 25, 128, 1e-4, 1, 'RMSE'\n",
    "\n",
    "d1=source1_tensor.shape[1]  # number of features of the 1st source\n",
    "d2=source2_tensor.shape[1]  # number of features of the 2nd source\n",
    "\n",
    "device = 'cuda' if torch.cuda.is_available() else 'cpu'\n",
    "\n",
    "\n",
    "train_loader, val_loader, test_loader = create_datasets(source1_array, source2_array, target_direct_array, weight_array, batch_size, h)\n",
    "\n",
    "print(f\"\\n📊 h: {h}, batch_size:{batch_size}, lr: {lr}, l2_lambda:{l2_lambda}, {stop_cr}\")\n",
    "\n",
    "ensemble, val_losses, all_train_losses, all_val_losses = train_tme_ensemble(\n",
    "    train_loader=train_loader,\n",
    "    val_loader=val_loader,\n",
    "    d1=d1,  # number of features of the 1st source\n",
    "    d2=d2,  # number of features of the 2nd source\n",
    "    h=h,  # lag length\n",
    "    num_models=10,#20,\n",
    "    device=device,\n",
    "    lr=lr,\n",
    "    weight_decay=0.1,\n",
    "    l2_lambda=l2_lambda,\n",
    "    max_epochs=60,\n",
    "    patience=7,\n",
    "    adam=True,\n",
    "    direct_target=True,\n",
    "    stop_criteria=stop_cr,\n",
    "    output_everything=True\n",
    ")"
   ]
  },
  {
   "cell_type": "code",
   "execution_count": 111,
   "id": "2de3eacc",
   "metadata": {},
   "outputs": [],
   "source": [
    "output_dict = evaluate_tme_ensemble(ensemble, test_loader, device='cpu', direct_target=True, output_everything=True)"
   ]
  },
  {
   "cell_type": "code",
   "execution_count": 27,
   "id": "397678c0",
   "metadata": {},
   "outputs": [
    {
     "data": {
      "text/plain": [
       "torch.Size([31187, 22])"
      ]
     },
     "execution_count": 27,
     "metadata": {},
     "output_type": "execute_result"
    }
   ],
   "source": [
    "output_dict['y_preds'].shape"
   ]
  },
  {
   "cell_type": "code",
   "execution_count": null,
   "id": "3e24087a",
   "metadata": {},
   "outputs": [
    {
     "data": {
      "text/plain": [
       "torch.Size([31187])"
      ]
     },
     "execution_count": 33,
     "metadata": {},
     "output_type": "execute_result"
    }
   ],
   "source": [
    "11.130561490457083 3.7821060498975974 tensor(20561.4803, dtype=torch.float64) tensor(8.5047, dtype=torch.float64) tensor(20552.9755, dtype=torch.float64) tensor(37.3111, dtype=torch.float64)"
   ]
  },
  {
   "cell_type": "code",
   "execution_count": 112,
   "id": "67652524",
   "metadata": {},
   "outputs": [
    {
     "name": "stdout",
     "output_type": "stream",
     "text": [
      "11.13677988340564 3.5934002361890722 tensor(10.0984, dtype=torch.float64) tensor(0.0380, dtype=torch.float64) tensor(10.0604, dtype=torch.float64) tensor(3.1516, dtype=torch.float64)\n"
     ]
    }
   ],
   "source": [
    "final_preds = output_dict['y_preds'].mean(dim=1)\n",
    "final_epistemic = output_dict['epistemic_var'].mean(dim=1) - torch.square(final_preds)\n",
    "final_aleatoric = output_dict['aleatoric_var'].mean(dim=1)\n",
    "final_var = final_epistemic + final_aleatoric\n",
    "\n",
    "final_rmse = np.sqrt(mean_squared_error(output_dict['y_trues'], final_preds))\n",
    "final_mae = mean_absolute_error(output_dict['y_trues'], final_preds)\n",
    "print(final_rmse, final_mae, final_var.mean(), final_epistemic.mean(), final_aleatoric.mean(), torch.sqrt(final_var).mean())"
   ]
  },
  {
   "cell_type": "code",
   "execution_count": 74,
   "id": "3cd3c7db",
   "metadata": {},
   "outputs": [
    {
     "data": {
      "text/plain": [
       "torch.Size([31187, 110])"
      ]
     },
     "execution_count": 74,
     "metadata": {},
     "output_type": "execute_result"
    }
   ],
   "source": [
    "output_dict['y_preds'].shape"
   ]
  },
  {
   "cell_type": "code",
   "execution_count": 105,
   "id": "ead573f7",
   "metadata": {},
   "outputs": [
    {
     "name": "stdout",
     "output_type": "stream",
     "text": [
      "11.165281954315725 3.659165400568652 tensor(11.1550, dtype=torch.float64) tensor(0.0090, dtype=torch.float64) tensor(11.1460, dtype=torch.float64) tensor(3.3399, dtype=torch.float64)\n"
     ]
    }
   ],
   "source": [
    "model1_preds = output_dict['y_preds'][:,3]\n",
    "model1_epistemic = output_dict['epistemic_var'][:,3] - torch.square(model1_preds)\n",
    "model1_aleatoric = output_dict['aleatoric_var'][:,3]\n",
    "model1_var = model1_epistemic + model1_aleatoric\n",
    "\n",
    "model1_rmse = np.sqrt(mean_squared_error(output_dict['y_trues'], model1_preds))\n",
    "model1_mae = mean_absolute_error(output_dict['y_trues'], model1_preds)\n",
    "print(model1_rmse, model1_mae, model1_var.mean(), model1_epistemic.mean(), model1_aleatoric.mean(), torch.sqrt(model1_var).mean())"
   ]
  },
  {
   "cell_type": "code",
   "execution_count": 106,
   "id": "ad59da4c",
   "metadata": {},
   "outputs": [
    {
     "name": "stdout",
     "output_type": "stream",
     "text": [
      "11.152251599724869 3.622072699398024 tensor(10.4408, dtype=torch.float64) tensor(0.0156, dtype=torch.float64) tensor(10.4252, dtype=torch.float64) tensor(3.2273, dtype=torch.float64)\n"
     ]
    }
   ],
   "source": [
    "index_best_model = [i*11 + 3 for i in range(3)]\n",
    "best_model_preds = output_dict['y_preds'][:,index_best_model].mean(dim=1)\n",
    "best_model_epistemic = output_dict['epistemic_var'][:,index_best_model].mean(dim=1) - torch.square(best_model_preds)\n",
    "best_model_aleatoric = output_dict['aleatoric_var'][:,index_best_model].mean(dim=1)\n",
    "best_model_var = best_model_epistemic + best_model_aleatoric\n",
    "\n",
    "best_model_rmse = np.sqrt(mean_squared_error(output_dict['y_trues'], best_model_preds))\n",
    "best_model_mae = mean_absolute_error(output_dict['y_trues'], best_model_preds)\n",
    "print(best_model_rmse, best_model_mae, best_model_var.mean(), best_model_epistemic.mean(), best_model_aleatoric.mean(), torch.sqrt(best_model_var).mean())"
   ]
  },
  {
   "cell_type": "code",
   "execution_count": 100,
   "id": "480f8c90",
   "metadata": {},
   "outputs": [
    {
     "data": {
      "text/plain": [
       "<Axes: ylabel='Density'>"
      ]
     },
     "execution_count": 100,
     "metadata": {},
     "output_type": "execute_result"
    },
    {
     "data": {
      "image/png": "[encoded data removed]",
      "text/plain": [
       "<Figure size 800x400 with 1 Axes>"
      ]
     },
     "metadata": {},
     "output_type": "display_data"
    }
   ],
   "source": [
    "sns.distplot(np.array(output_dict['aleatoric_var'][:,index_best_model].mean(dim=1)))"
   ]
  },
  {
   "cell_type": "code",
   "execution_count": 79,
   "id": "8221a7bd",
   "metadata": {},
   "outputs": [
    {
     "name": "stdout",
     "output_type": "stream",
     "text": [
      "11.129820020785179 3.5838455456637273\n"
     ]
    }
   ],
   "source": [
    "print(rmse, mae)"
   ]
  },
  {
   "cell_type": "code",
   "execution_count": 155,
   "id": "685939fd",
   "metadata": {},
   "outputs": [],
   "source": [
    "# nomal_mean = 2*torch.log(final_preds) - 0.5*torch.log(final_var + torch.square(final_preds))\n",
    "# normal_var = -2*torch.log(final_preds) + torch.log(final_var + torch.square(final_preds))\n",
    "# normal_025 = nomal_mean - 2*torch.sqrt(normal_var)\n",
    "# normal_975 = nomal_mean + 2*torch.sqrt(normal_var)\n",
    "\n",
    "normal_var = torch.log(final_var/torch.square(final_preds) + 1)\n",
    "nomal_mean = torch.log(final_preds) - 0.5*normal_var\n",
    "normal_025 = nomal_mean - 2*torch.sqrt(normal_var)\n",
    "normal_975 = nomal_mean + 2*torch.sqrt(normal_var)\n",
    "\n",
    "# normal_var = torch.square(torch.log(torch.sqrt(final_var)/final_preds + 1))\n",
    "# nomal_mean = torch.log(torch.square(final_preds)/final_var + torch.square(final_preds))\n",
    "# normal_025 = nomal_mean - 2*torch.sqrt(normal_var)\n",
    "# normal_975 = nomal_mean + 2*torch.sqrt(normal_var)\n",
    "\n",
    "normal_var = torch.log(final_var/torch.square(final_preds) + 1)\n",
    "nomal_mean = torch.log( torch.square(final_preds) / torch.sqrt(final_var + torch.square(final_preds)) )\n",
    "normal_025 = nomal_mean - 2*torch.sqrt(normal_var)\n",
    "normal_975 = nomal_mean + 2*torch.sqrt(normal_var)"
   ]
  },
  {
   "cell_type": "code",
   "execution_count": 156,
   "id": "21ad88fa",
   "metadata": {},
   "outputs": [
    {
     "data": {
      "text/plain": [
       "tensor([2.2293, 2.2285, 2.2277,  ..., 2.2470, 2.2489, 2.2493],\n",
       "       dtype=torch.float64)"
      ]
     },
     "execution_count": 156,
     "metadata": {},
     "output_type": "execute_result"
    }
   ],
   "source": [
    "normal_975"
   ]
  },
  {
   "cell_type": "code",
   "execution_count": 153,
   "id": "45d82ff2",
   "metadata": {},
   "outputs": [
    {
     "data": {
      "text/plain": [
       "np.float64(0.9229807291499663)"
      ]
     },
     "execution_count": 153,
     "metadata": {},
     "output_type": "execute_result"
    }
   ],
   "source": [
    "np.mean(np.where(output_dict['y_trues'] < np.array(torch.exp(normal_975)),1,0))"
   ]
  },
  {
   "cell_type": "code",
   "execution_count": 154,
   "id": "89473515",
   "metadata": {},
   "outputs": [
    {
     "data": {
      "text/plain": [
       "np.float64(0.7152659762080354)"
      ]
     },
     "execution_count": 154,
     "metadata": {},
     "output_type": "execute_result"
    }
   ],
   "source": [
    "np.mean(np.where(output_dict['y_trues'] > np.array(torch.exp(normal_025)),1,0))"
   ]
  },
  {
   "cell_type": "code",
   "execution_count": 144,
   "id": "e5f90cda",
   "metadata": {},
   "outputs": [
    {
     "data": {
      "text/plain": [
       "array([1.63163003e-02, 1.00010005e-03, 4.08722013e-02, ...,\n",
       "       1.52988994e+00, 9.35145140e-01, 9.83765185e-01])"
      ]
     },
     "execution_count": 144,
     "metadata": {},
     "output_type": "execute_result"
    }
   ],
   "source": [
    "output_dict['y_trues']"
   ]
  },
  {
   "cell_type": "code",
   "execution_count": 157,
   "id": "b824ce91",
   "metadata": {},
   "outputs": [
    {
     "data": {
      "image/png": "[encoded data removed]",
      "text/plain": [
       "<Figure size 1200x600 with 1 Axes>"
      ]
     },
     "metadata": {},
     "output_type": "display_data"
    }
   ],
   "source": [
    "time = np.arange(len(final_preds))\n",
    "plt.figure(figsize=(12, 6))\n",
    "plt.plot(time, output_dict['y_trues'], label='True', color='blue', linewidth=0.4, alpha=0.5)\n",
    "plt.plot(time, final_preds, label='Predicted Mean', color='red')\n",
    "plt.fill_between(time, torch.exp(normal_025), torch.exp(normal_975), color='blue', alpha=0.3, label='±2σ CI')\n",
    "plt.xlabel('Time')\n",
    "plt.ylabel('Value')\n",
    "plt.title('title')\n",
    "plt.legend()\n",
    "plt.grid(True)\n",
    "plt.tight_layout()\n",
    "plt.show()"
   ]
  },
  {
   "cell_type": "code",
   "execution_count": null,
   "id": "2c8b6604",
   "metadata": {},
   "outputs": [],
   "source": [
    "plt.figure(figsize=(10, 3.5))\n",
    "plt.fill_between(range(len(predictions.mean(1))), torch.maximum(torch.tensor(0),predictions.mean(1)-1.96*torch.sqrt(IW.mean(0) - torch.square(predictions.mean(1)))), predictions.mean(1)+1.96*torch.sqrt(IW.mean(0) - torch.square(predictions.mean(1))),\n",
    "                    color=\"#4C72B0\", alpha=0.15, label=\"95 % band\")\n",
    "plt.plot(test_df['total_volume'].iloc[h:].reset_index()['total_volume'], label=\"true\", color=\"#4C72B0\", alpha=.8, linewidth=1.0)\n",
    "plt.plot(predictions.mean(1), label=\"pred\", color=\"#BD561A\", alpha=.9, linewidth=1.2)\n",
    "plt.title(\"Test – total volume (±1.96 σ)\")\n",
    "plt.xlabel(\"sample\");\n",
    "plt.ylabel(\"volume\")\n",
    "plt.legend();\n",
    "plt.tight_layout();\n",
    "plt.show()"
   ]
  }
 ],
 "metadata": {
  "kernelspec": {
   "display_name": "ML_fin_project",
   "language": "python",
   "name": "python3"
  },
  "language_info": {
   "codemirror_mode": {
    "name": "ipython",
    "version": 3
   },
   "file_extension": ".py",
   "mimetype": "text/x-python",
   "name": "python",
   "nbconvert_exporter": "python",
   "pygments_lexer": "ipython3",
   "version": "3.9.13"
  }
 },
 "nbformat": 4,
 "nbformat_minor": 5
}
