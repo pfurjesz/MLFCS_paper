{
 "cells": [
  {
   "cell_type": "code",
   "execution_count": null,
   "id": "e544e8aa",
   "metadata": {},
   "outputs": [],
   "source": [
    "# add simple data analisis"
   ]
  }
 ],
 "metadata": {
  "language_info": {
   "name": "python"
  }
 },
 "nbformat": 4,
 "nbformat_minor": 5
}
