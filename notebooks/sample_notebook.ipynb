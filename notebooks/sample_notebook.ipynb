{
 "cells": [
  {
   "cell_type": "markdown",
   "id": "a4a12a85",
   "metadata": {},
   "source": [
    "# Imports"
   ]
  },
  {
   "cell_type": "markdown",
   "id": "6d0cf88a",
   "metadata": {},
   "source": [
    "# Parameters"
   ]
  },
  {
   "cell_type": "markdown",
   "id": "fafec2e4",
   "metadata": {},
   "source": [
    "# Train "
   ]
  },
  {
   "cell_type": "markdown",
   "id": "990deee8",
   "metadata": {},
   "source": [
    "# Predict and evaluate"
   ]
  }
 ],
 "metadata": {
  "language_info": {
   "name": "python"
  }
 },
 "nbformat": 4,
 "nbformat_minor": 5
}
